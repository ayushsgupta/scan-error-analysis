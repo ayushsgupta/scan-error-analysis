{
 "cells": [
  {
   "cell_type": "markdown",
   "metadata": {},
   "source": [
    "# Run Bader Analysis & Create Masks"
   ]
  },
  {
   "cell_type": "markdown",
   "metadata": {},
   "source": [
    "### Load Imports"
   ]
  },
  {
   "cell_type": "code",
   "execution_count": 1,
   "metadata": {},
   "outputs": [
    {
     "name": "stderr",
     "output_type": "stream",
     "text": [
      "/home/ayush/miniconda3/envs/scan/lib/python3.8/site-packages/pymatgen/ext/matproj.py:454: DeprecationWarning:\n",
      "\n",
      "__init__ is deprecated\n",
      "MaterialsProjectCompatibility will be updated with new correction classes as well as new values of corrections and uncertainties in 2020\n",
      "\n"
     ]
    },
    {
     "name": "stdout",
     "output_type": "stream",
     "text": [
      "Imports successfully loaded\n"
     ]
    }
   ],
   "source": [
    "%run imports.py"
   ]
  },
  {
   "cell_type": "markdown",
   "metadata": {},
   "source": [
    "### Define Set of Interest and Helpers"
   ]
  },
  {
   "cell_type": "code",
   "execution_count": 2,
   "metadata": {},
   "outputs": [],
   "source": [
    "formulas_ids = loadfn('data/binary_formulas_ids.json')"
   ]
  },
  {
   "cell_type": "code",
   "execution_count": 3,
   "metadata": {
    "scrolled": true
   },
   "outputs": [
    {
     "name": "stdout",
     "output_type": "stream",
     "text": [
      "{'LiH': 6405, 'BeH2': 5600, 'H2O': 8356, 'Be2C': 3890, 'Be3N2': 7373, 'BN': 11133, 'B2O3': 5804, 'BeF2': 10090, 'BeO': 3914, 'Li3N': 3957, 'Li2O': 3947, 'AlN': 3955, 'Al2O3': 4648, 'AlF3': 4827, 'BeCl2': 6017, 'BeS': 3901, 'CaH2': 5450, 'AlCl3': 6454, 'CCl4': 11002, 'Ca3N2': 9634, 'CaO': 3926, 'KF': 3992, 'K2O': 4311, 'K2O2': 5692, 'CaF2': 4019, 'Cr5B3': 6110, 'BeBr2': 6240, 'BBr3': 7703, 'As2O3': 8519, 'AsF3': 7365, 'As2O5': 8363, 'CoO': 4617, 'CaS': 4079, 'AlBr3': 8414, 'AsCl3': 8172, 'CoCl2': 10118, 'Ag2O': 4832, 'AgF': 3976, 'BaH2': 6262, 'BeI2': 10408, 'CaBr2': 6359, 'Rb2S': 5058, 'CaSe': 4155, 'KBr': 4406, 'AgCl': 3950, 'BaF2': 2072, 'LiF': 2597, 'CoBr2': 4700, 'BaS': 4226, 'BaCl2': 4682, 'CdCl2': 5193, 'Ce2O3': 10746, 'CeF3': 9102, 'NdF3': 8247, 'EuN': 4202, 'Ca3Sb2': 11163, 'EuO': 4153, 'AgBr': 4251, 'CeCl3': 7003, 'Er2O3': 9583, 'Au2O3': 6155, 'EuCl3': 8509, 'BaBr2': 7722, 'BiF3': 7034, 'Bi2O3': 10596, 'ErCl3': 7731, 'MgB2': 3996, 'AuCl': 11143, 'AuCl3': 10598, 'HfCl4': 7879, 'BiCl3': 10545, 'Ca2Pb': 10580, 'Ba2Sn': 8466, 'MgO': 3915, 'AuBr': 6450, 'MgF2': 4611, 'HfBr4': 10270, 'BiBr3': 11176, 'SiO2': 5557, 'HgBr': 5688, 'PbBr2': 6417, 'UFe2': 6360, 'SO3': 7356, 'ThBr4': 8186, 'UBr4': 8884, 'Mg2Si': 4283, 'KO2': 4826, 'Na2S': 4252, 'CrB': 2345, 'MgS': 3942, 'NaCl': 3930, 'ScN': 3923, 'TiC': 3929, 'Cr23C6': 8986, 'Cr7C3': 9927, 'Cr3C2': 5874, 'MgCl2': 6412, 'Cr2N': 7468, 'CrN': 2820, 'Fe2B': 5540, 'FeB': 6295, 'Mn2B': 6341, 'CaMg2': 11185, 'Cr2O3': 5312, 'V2O3': 7408, 'VO2': 2840, 'PCl3': 8234, 'CaAl2': 5236, 'CrF2': 5614, 'CrF3': 7476, 'VF4': 7494, 'Ni3B': 8436, 'CaSi': 4896, 'Fe2O3': 10792, 'Fe3O4': 11087, 'Ni2B': 4742, 'Ni4B3': 9288, 'Co3O4': 6862, 'FeF2': 4757, 'K2S': 2085, 'MnF2': 6101, 'FeF3': 6094, 'CoF3': 7239, 'KCl': 4346, 'NiO': 4255, 'Ti5Si3': 6430, 'TiSi': 5390, 'CaCl2': 5863, 'Cu2O': 4493, 'CuO': 6872, 'Li2Se': 4025, 'TiSi2': 4923, 'Cr3Si': 4618, 'CrSi2': 5483, 'CuF2': 5822, 'GaN': 4285, 'LiBr': 4644, 'Ga2O3': 5695, 'AlFe': 4027, 'ZnO': 4159, 'RbH': 4046, 'ScCl3': 7032, 'FeSi': 4861, 'GeO2': 5689, 'MnP': 6013, 'Mn3Si': 4520, 'MnSi': 6994, 'VCl2': 4825, 'VCl3': 9303, 'VCl4': 9776, 'CrCl3': 8531, 'FeS': 5364, 'FeS2': 4870, 'MnCl2': 5111, 'FeCl2': 7394, 'FeCl3': 10278, 'Mg2Ge': 4249, 'Ni3S2': 4800, 'Ni3S4': 7019, 'Ni3P': 9915, 'NiCl2': 6111, 'Rb2O': 6014, 'CuCl': 5298, 'CuCl2': 6936, 'NaBr': 4102, 'MgBr2': 4782, 'RbF': 2718, 'SrO': 3979, 'GaCl3': 8930, 'Nb2N': 2402, 'NbN': 4241, 'YF3': 6925, 'ZrO2': 6355, 'NbO2': 8563, 'Nb2O5': 10373, 'SiBr4': 10037, 'ZrF4': 8091, 'MoO2': 10179, 'MoO3': 9534, 'NbF5': 9235, 'SeCl4': 10053, 'RuO2': 4691, 'RuF5': 10390, 'PdO': 4866, 'RbCl': 4415, 'SrS': 2180, 'Li2Te': 4266, 'SrCl2': 4510, 'V3Ge': 6874, 'CdO': 2596, 'CsH': 2089, 'InN': 4334, 'LiI': 5278, 'V5Ge3': 8346, 'CdF2': 3984, 'In2O3': 9871, 'Li2O2': 4319, 'YCl3': 8139, 'MnAs': 4894, 'TiBr3': 9789, 'TiBr4': 9416, 'MnSe': 4926, 'MoCl5': 10201, 'NbCl4': 8438, 'NbCl5': 9887, 'MnBr2': 6422, 'Sb2O3': 8488, 'Sb2O5': 6321, 'SbO2': 8275, 'NaH': 3882, 'FeBr2': 4999, 'SbF3': 5938, 'TeO2': 8631, 'RuCl3': 10159, 'NiSe2': 8776, 'Cs2O': 7011, 'CsO2': 4973, 'Mg3Sb2': 9956, 'BaO': 4072, 'BaO2': 2458, 'CsF': 4212, 'CeN': 4357, 'CuBr': 5294, 'CeO2': 4501, 'GaBr3': 8815, 'InCl': 5581, 'MgH2': 4201, 'InCl2': 9705, 'InCl3': 7680, 'LaF3': 8491, 'Nd2O3': 9792, 'Pr2O3': 5068, 'SnCl2': 10639, 'PrF3': 8269, 'SbCl3': 8337, 'TeCl4': 10309, 'Sm2O3': 10660, 'ICl': 8661, 'Eu2O3': 10932, 'CsCl': 4331, 'EuF3': 9301, 'Gd2O3': 11026, 'KI': 4687, 'RbBr': 4542, 'GdF3': 4278, 'SrBr2': 9493, 'Tb2O3': 2362, 'Dy2O3': 9564, 'LaCl3': 6397, 'V3Sn': 5523, 'DyF3': 8248, 'Ho2O3': 9577, 'TbF3': 2800, 'TiI4': 8381, 'HoF3': 6391, 'MnSb': 5041, 'ZrBr4': 10375, 'ZrBr3': 7850, 'TiI3': 8706, 'ErF3': 7261, 'MnTe': 10216, 'MnTe2': 7768, 'NbBr5': 10389, 'NdCl3': 6269, 'Tm2O3': 9562, 'MoBr2': 9879, 'HfN': 3993, 'Lu2O3': 9735, 'TmF3': 4633, 'HfO2': 9029, 'NiSb': 4670, 'SmCl3': 7656, 'GdCl3': 6281, 'HfF4': 8602, 'LuF3': 8474, 'NiTe': 4583, 'Ta2N': 2375, 'Ta2O5': 7076, 'CdBr2': 5696, 'DyCl3': 7030, 'TbCl3': 7057, 'HoCl3': 7617, 'InBr': 5747, 'InBr3': 7938, 'IrO2': 4609, 'OsO2': 4571, 'OsO4': 7302, 'MgB4': 6135, 'SbBr3': 8462, 'SnBr2': 7329, 'TmCl3': 6950, 'YbCl2': 5661, 'HgO': 5662, 'HgF': 5031, 'HgF2': 4089, 'Tl2O': 5682, 'CsBr': 4506, 'RbI': 4784, 'Tl2O3': 10654, 'WO3': 10285, 'WO2': 7562, 'PbF2': 4108, 'SrI2': 10524, 'LaBr3': 7259, 'ReCl3': 9388, 'WCl4': 7962, 'CeBr3': 7652, 'IrCl3': 7774, 'Mg2Pb': 4505, 'Li2S': 2658, 'Mg3N2': 10642, 'Na2O': 4002, 'Na2O2': 5663, 'NaO2': 5462, 'HgCl': 5406, 'HgCl2': 8428, 'TaCr2': 4608, 'ThN': 4111, 'Th3N4': 7069, 'ThO2': 4191, 'TlCl': 5456, 'GdBr3': 8072, 'PbCl2': 6190, 'TaFe2': 8862, 'UO2': 9311, 'KH': 4035, 'LiCl': 2779, 'NaF': 3907, 'UF3': 9268, 'U3O8': 7540, 'UO3': 4476, 'PuN': 4276, 'UF5': 6342, 'UF6': 9017, 'Si3N4': 5570, 'ThCl4': 7983, 'CsI': 5162, 'UCl3': 7138, 'UCl4': 8308, 'UCl5': 8900, 'UCl6': 9444, 'BaI2': 7921, 'WBr6': 7740, 'P3N5': 6344, 'HgBr2': 6853, 'P2O5': 8583, 'TiH2': 4601, 'TlBr': 5629, 'TiB': 4837, 'TiB2': 4392, 'Sc2O3': 9558, 'TiN': 3989, 'MnB': 5515, 'ScF3': 2139, 'VN': 4758, 'TiO': 2167, 'Ti2O3': 6283, 'Ti3O5': 8994, 'TiO2': 4787, 'TiF4': 10948, 'TiF3': 8989, 'MnO': 6892, 'Mn3O4': 7565, 'MnO2': 7300, 'FeO': 2936, 'NiF2': 4752, 'V3Si': 5127, 'V5Si3': 7158, 'VSi2': 10151, 'Zn3N2': 7377, 'TiS': 2118, 'TiS2': 2150, 'ThF4': 8805, 'UN': 4217, 'SrH2': 5852, 'TiCl3': 10674, 'TiCl4': 9327, 'ZnF2': 4590, 'Fe3P': 10422, 'Fe2P': 7238, 'Mg2Cu': 7357, 'MgCu2': 2153, 'MnS': 4610, 'MnS2': 5853, 'SeO2': 10601, 'ReO3': 6518, 'Pb3O4': 9068, 'PbO2': 4656, 'TaCl5': 9731, 'TlF': 6058, 'NiS2': 7178, 'SrO2': 4563, 'TiCr2': 4638, 'YN': 4049, 'SrF2': 4026, 'Y2O3': 9560, 'ZnCl2': 5897, 'ZrN': 4018, 'WCl6': 9665, 'WCl2': 9914, 'AgO': 11128, 'ZrCl4': 7958, 'ZrCl2': 7051, 'ZrCl3': 8061, 'SnO': 4828, 'SnO2': 10140, 'VBr2': 5455, 'VBr3': 8535, 'MoCl6': 10101, 'RhCl3': 7923, 'Na2Te': 4680, 'NiBr2': 6946, 'PdCl2': 8227, 'LaN': 4062, 'MgTe': 4358, 'NaI': 4298, 'La2O3': 9809, 'MgI2': 5275, 'NbCr2': 4631, 'ZnBr2': 10453, 'SnCl4': 9377, 'CaI2': 5723, 'PrCl3': 6211, 'MoBr3': 8450, 'FeI2': 5431, 'NiI2': 6960, 'TaN': 4792}\n",
      "\n",
      "LENGTH: 427\n"
     ]
    }
   ],
   "source": [
    "print(formulas_ids)\n",
    "print('\\nLENGTH:', len(formulas_ids))"
   ]
  },
  {
   "cell_type": "code",
   "execution_count": 4,
   "metadata": {},
   "outputs": [
    {
     "name": "stdout",
     "output_type": "stream",
     "text": [
      "/mnt/c/Users/Ayush/Desktop/scan-error-analysis\n",
      "/mnt/c/Users/Ayush/Desktop/scan-error-analysis/CALCS/\n"
     ]
    }
   ],
   "source": [
    "working_dict = os.getcwd()\n",
    "calc_dict = os.path.join(working_dict, 'CALCS/')\n",
    "print(working_dict)\n",
    "print(calc_dict)"
   ]
  },
  {
   "cell_type": "code",
   "execution_count": 5,
   "metadata": {},
   "outputs": [],
   "source": [
    "def filesize_kb(path):\n",
    "    stats = os.stat(path)\n",
    "    return stats.st_size / 1024.0"
   ]
  },
  {
   "cell_type": "markdown",
   "metadata": {},
   "source": [
    "### Run Bader Analysis"
   ]
  },
  {
   "cell_type": "code",
   "execution_count": 6,
   "metadata": {
    "scrolled": true
   },
   "outputs": [
    {
     "name": "stderr",
     "output_type": "stream",
     "text": [
      "100%|██████████| 427/427 [1:26:25<00:00, 12.14s/it]\n"
     ]
    },
    {
     "data": {
      "text/plain": [
       "CompletedProcess(args=['rm', 'CALCS/'], returncode=1)"
      ]
     },
     "execution_count": 6,
     "metadata": {},
     "output_type": "execute_result"
    }
   ],
   "source": [
    "mask_dict = {}\n",
    "subprocess.run(['mkdir', 'CALCS/'])\n",
    "os.chdir(calc_dict)\n",
    "problematic_ids = []\n",
    "\n",
    "for i in tqdm([str(x) for x in formulas_ids.values()]):\n",
    "    elfpath, chgpath, refpath = '../files/ELFCAR_{0}'.format(i), \\\n",
    "                                '../files/CHGCAR_{0}'.format(i), \\\n",
    "                                '../files/CHGREF_{0}'.format(i)\n",
    "    try:\n",
    "        if os.path.isfile(refpath) and filesize_kb(refpath) > 100:\n",
    "            subprocess.run(['bader', chgpath, '-ref', refpath, '-p', 'atom_index'])\n",
    "        else:\n",
    "            subprocess.run(['bader', chgpath, '-p', 'atom_index'])\n",
    "        mask = Chgcar.from_file('AtIndex.dat')\n",
    "        mask_dict[i] = mask\n",
    "        subprocess.run(['rm', 'ACF.dat', 'AtIndex.dat', 'AVF.dat', 'BCF.dat'])\n",
    "    except OSError:\n",
    "        problematic_ids.append(i)\n",
    "    \n",
    "os.chdir(working_dict)\n",
    "subprocess.run(['rm', 'CALCS/'])"
   ]
  },
  {
   "cell_type": "code",
   "execution_count": 7,
   "metadata": {},
   "outputs": [
    {
     "data": {
      "text/plain": [
       "[]"
      ]
     },
     "execution_count": 7,
     "metadata": {},
     "output_type": "execute_result"
    }
   ],
   "source": [
    "problematic_ids"
   ]
  },
  {
   "cell_type": "code",
   "execution_count": 8,
   "metadata": {},
   "outputs": [
    {
     "data": {
      "text/plain": [
       "dict_keys(['6405', '5600', '8356', '3890', '7373', '11133', '5804', '10090', '3914', '3957', '3947', '3955', '4648', '4827', '6017', '3901', '5450', '6454', '11002', '9634', '3926', '3992', '4311', '5692', '4019', '6110', '6240', '7703', '8519', '7365', '8363', '4617', '4079', '8414', '8172', '10118', '4832', '3976', '6262', '10408', '6359', '5058', '4155', '4406', '3950', '2072', '2597', '4700', '4226', '4682', '5193', '10746', '9102', '8247', '4202', '11163', '4153', '4251', '7003', '9583', '6155', '8509', '7722', '7034', '10596', '7731', '3996', '11143', '10598', '7879', '10545', '10580', '8466', '3915', '6450', '4611', '10270', '11176', '5557', '5688', '6417', '6360', '7356', '8186', '8884', '4283', '4826', '4252', '2345', '3942', '3930', '3923', '3929', '8986', '9927', '5874', '6412', '7468', '2820', '5540', '6295', '6341', '11185', '5312', '7408', '2840', '8234', '5236', '5614', '7476', '7494', '8436', '4896', '10792', '11087', '4742', '9288', '6862', '4757', '2085', '6101', '6094', '7239', '4346', '4255', '6430', '5390', '5863', '4493', '6872', '4025', '4923', '4618', '5483', '5822', '4285', '4644', '5695', '4027', '4159', '4046', '7032', '4861', '5689', '6013', '4520', '6994', '4825', '9303', '9776', '8531', '5364', '4870', '5111', '7394', '10278', '4249', '4800', '7019', '9915', '6111', '6014', '5298', '6936', '4102', '4782', '2718', '3979', '8930', '2402', '4241', '6925', '6355', '8563', '10373', '10037', '8091', '10179', '9534', '9235', '10053', '4691', '10390', '4866', '4415', '2180', '4266', '4510', '6874', '2596', '2089', '4334', '5278', '8346', '3984', '9871', '4319', '8139', '4894', '9789', '9416', '4926', '10201', '8438', '9887', '6422', '8488', '6321', '8275', '3882', '4999', '5938', '8631', '10159', '8776', '7011', '4973', '9956', '4072', '2458', '4212', '4357', '5294', '4501', '8815', '5581', '4201', '9705', '7680', '8491', '9792', '5068', '10639', '8269', '8337', '10309', '10660', '8661', '10932', '4331', '9301', '11026', '4687', '4542', '4278', '9493', '2362', '9564', '6397', '5523', '8248', '9577', '2800', '8381', '6391', '5041', '10375', '7850', '8706', '7261', '10216', '7768', '10389', '6269', '9562', '9879', '3993', '9735', '4633', '9029', '4670', '7656', '6281', '8602', '8474', '4583', '2375', '7076', '5696', '7030', '7057', '7617', '5747', '7938', '4609', '4571', '7302', '6135', '8462', '7329', '6950', '5661', '5662', '5031', '4089', '5682', '4506', '4784', '10654', '10285', '7562', '4108', '10524', '7259', '9388', '7962', '7652', '7774', '4505', '2658', '10642', '4002', '5663', '5462', '5406', '8428', '4608', '4111', '7069', '4191', '5456', '8072', '6190', '8862', '9311', '4035', '2779', '3907', '9268', '7540', '4476', '4276', '6342', '9017', '5570', '7983', '5162', '7138', '8308', '8900', '9444', '7921', '7740', '6344', '6853', '8583', '4601', '5629', '4837', '4392', '9558', '3989', '5515', '2139', '4758', '2167', '6283', '8994', '4787', '10948', '8989', '6892', '7565', '7300', '2936', '4752', '5127', '7158', '10151', '7377', '2118', '2150', '8805', '4217', '5852', '10674', '9327', '4590', '10422', '7238', '7357', '2153', '4610', '5853', '10601', '6518', '9068', '4656', '9731', '6058', '7178', '4563', '4638', '4049', '4026', '9560', '5897', '4018', '9665', '9914', '11128', '7958', '7051', '8061', '4828', '10140', '5455', '8535', '10101', '7923', '4680', '6946', '8227', '4062', '4358', '4298', '9809', '5275', '4631', '10453', '9377', '5723', '6211', '8450', '5431', '6960', '4792'])"
      ]
     },
     "execution_count": 8,
     "metadata": {},
     "output_type": "execute_result"
    }
   ],
   "source": [
    "mask_dict.keys()"
   ]
  },
  {
   "cell_type": "code",
   "execution_count": 9,
   "metadata": {},
   "outputs": [
    {
     "data": {
      "text/plain": [
       "427"
      ]
     },
     "execution_count": 9,
     "metadata": {},
     "output_type": "execute_result"
    }
   ],
   "source": [
    "len(mask_dict)"
   ]
  },
  {
   "cell_type": "markdown",
   "metadata": {},
   "source": [
    "### Dump Masks and ELFCARs as JSONs"
   ]
  },
  {
   "cell_type": "code",
   "execution_count": 10,
   "metadata": {},
   "outputs": [],
   "source": [
    "dumpfn(mask_dict, 'data/masks.json')"
   ]
  },
  {
   "cell_type": "code",
   "execution_count": 11,
   "metadata": {},
   "outputs": [
    {
     "name": "stderr",
     "output_type": "stream",
     "text": [
      "100%|██████████| 515/515 [02:20<00:00,  3.67it/s]\n"
     ]
    }
   ],
   "source": [
    "elfcar_dict = {}\n",
    "\n",
    "elem_ids = list(loadfn('data/element_formulas_ids.json').values())\n",
    "\n",
    "for i in tqdm([str(x) for x in list(formulas_ids.values()) + elem_ids]):\n",
    "    elfpath = 'files/ELFCAR_{0}'.format(i)\n",
    "    elfcar = Elfcar.from_file(elfpath)\n",
    "    elfcar_dict[i] = elfcar"
   ]
  },
  {
   "cell_type": "code",
   "execution_count": 12,
   "metadata": {},
   "outputs": [],
   "source": [
    "dumpfn(elfcar_dict, 'data/elfcars.json')"
   ]
  },
  {
   "cell_type": "code",
   "execution_count": null,
   "metadata": {},
   "outputs": [],
   "source": []
  }
 ],
 "metadata": {
  "kernelspec": {
   "display_name": "Python (conda: scan)",
   "language": "python",
   "name": "scan"
  },
  "language_info": {
   "codemirror_mode": {
    "name": "ipython",
    "version": 3
   },
   "file_extension": ".py",
   "mimetype": "text/x-python",
   "name": "python",
   "nbconvert_exporter": "python",
   "pygments_lexer": "ipython3",
   "version": "3.8.2"
  }
 },
 "nbformat": 4,
 "nbformat_minor": 4
}
