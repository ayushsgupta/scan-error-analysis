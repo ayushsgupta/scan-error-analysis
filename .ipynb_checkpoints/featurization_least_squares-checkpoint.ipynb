{
 "cells": [
  {
   "cell_type": "code",
   "execution_count": 1,
   "metadata": {},
   "outputs": [
    {
     "name": "stderr",
     "output_type": "stream",
     "text": [
      "/home/ayush/miniconda3/envs/scan/lib/python3.8/site-packages/pymatgen/ext/matproj.py:454: DeprecationWarning:\n",
      "\n",
      "__init__ is deprecated\n",
      "MaterialsProjectCompatibility will be updated with new correction classes as well as new values of corrections and uncertainties in 2020\n",
      "\n"
     ]
    },
    {
     "name": "stdout",
     "output_type": "stream",
     "text": [
      "Imports successfully loaded\n"
     ]
    }
   ],
   "source": [
    "%run imports.py"
   ]
  },
  {
   "cell_type": "code",
   "execution_count": 2,
   "metadata": {},
   "outputs": [],
   "source": [
    "masks = loadfn('masks.json')\n",
    "elfcars = loadfn('elfcars.json')"
   ]
  },
  {
   "cell_type": "code",
   "execution_count": 3,
   "metadata": {
    "scrolled": true
   },
   "outputs": [
    {
     "name": "stdout",
     "output_type": "stream",
     "text": [
      "(24, 24, 24) (48, 48, 48)\n",
      "(28, 28, 28) (56, 56, 56)\n",
      "(60, 60, 60) (120, 120, 120)\n",
      "(24, 24, 64) (48, 48, 128)\n",
      "(24, 24, 40) (48, 48, 80)\n",
      "(40, 40, 80) (80, 80, 160)\n",
      "(42, 42, 48) (84, 84, 96)\n",
      "(32, 32, 36) (64, 64, 72)\n",
      "(28, 28, 30) (56, 56, 60)\n",
      "(40, 48, 64) (80, 96, 128)\n",
      "(28, 28, 48) (56, 56, 96)\n",
      "(48, 48, 48) (96, 96, 96)\n",
      "(48, 48, 48) (96, 96, 96)\n",
      "(30, 30, 30) (60, 60, 60)\n",
      "(36, 36, 54) (72, 72, 108)\n",
      "(48, 50, 60) (96, 100, 120)\n",
      "(28, 28, 28) (56, 56, 56)\n",
      "(36, 36, 36) (72, 72, 72)\n",
      "(28, 40, 54) (56, 80, 108)\n",
      "(54, 54, 60) (108, 108, 120)\n",
      "(28, 28, 28) (56, 56, 56)\n",
      "(36, 36, 40) (72, 72, 80)\n",
      "(28, 28, 28) (56, 56, 56)\n",
      "(30, 30, 30) (60, 60, 60)\n",
      "(36, 36, 36) (72, 72, 72)\n",
      "(36, 36, 36) (72, 72, 72)\n",
      "(32, 32, 54) (64, 64, 108)\n",
      "(24, 42, 60) (48, 84, 120)\n",
      "(48, 54, 64) (96, 108, 128)\n",
      "(48, 48, 48) (96, 96, 96)\n",
      "(28, 28, 54) (56, 56, 108)\n",
      "(70, 70, 70) (140, 140, 140)\n",
      "(28, 48, 28) (56, 96, 56)\n",
      "(36, 36, 36) (72, 72, 72)\n",
      "(36, 36, 56) (72, 72, 112)\n",
      "(70, 70, 98) (140, 140, 196)\n",
      "(32, 32, 48) (64, 64, 96)\n",
      "(30, 40, 48) (60, 80, 96)\n",
      "(60, 60, 60) (120, 120, 120)\n",
      "(54, 54, 168) (108, 108, 336)\n",
      "(60, 60, 60) (120, 120, 120)\n",
      "(40, 40, 40) (80, 80, 80)\n",
      "(40, 60, 60) (80, 120, 120)\n",
      "(36, 36, 36) (72, 72, 72)\n",
      "(112, 112, 120) (224, 224, 240)\n",
      "(56, 56, 64) (112, 112, 128)\n",
      "(64, 96, 96) (128, 192, 192)\n",
      "(36, 36, 36) (72, 72, 72)\n",
      "(32, 32, 60) (64, 64, 120)\n",
      "(42, 42, 42) (84, 84, 84)\n",
      "(28, 28, 28) (56, 56, 56)\n",
      "(36, 36, 36) (72, 72, 72)\n",
      "(40, 40, 40) (80, 80, 80)\n",
      "(56, 120, 120) (112, 240, 240)\n",
      "(54, 60, 80) (108, 120, 160)\n",
      "(24, 24, 24) (48, 48, 48)\n",
      "(30, 30, 30) (60, 60, 60)\n",
      "(40, 40, 40) (80, 80, 80)\n",
      "(40, 40, 40) (80, 80, 80)\n",
      "(48, 48, 48) (96, 96, 96)\n",
      "(64, 100, 100) (128, 200, 200)\n",
      "(64, 64, 54) (128, 128, 108)\n",
      "(90, 90, 108) (180, 180, 216)\n",
      "(64, 108, 54) (128, 216, 108)\n",
      "(48, 108, 112) (96, 216, 224)\n",
      "(36, 36, 36) (72, 72, 72)\n",
      "(48, 48, 48) (96, 96, 96)\n",
      "(40, 40, 70) (80, 80, 140)\n",
      "(112, 112, 112) (224, 224, 224)\n",
      "(64, 64, 56) (128, 128, 112)\n",
      "(60, 120, 168) (120, 240, 336)\n",
      "(36, 36, 60) (72, 72, 120)\n",
      "(36, 36, 112) (72, 72, 224)\n",
      "(42, 48, 48) (84, 96, 96)\n",
      "(64, 64, 70) (128, 128, 140)\n",
      "(48, 72, 90) (96, 144, 180)\n",
      "(32, 50, 60) (64, 100, 120)\n",
      "(36, 36, 36) (72, 72, 72)\n",
      "(56, 120, 120) (112, 240, 240)\n",
      "(30, 48, 48) (60, 96, 96)\n",
      "(60, 80, 80) (120, 160, 160)\n",
      "(48, 54, 112) (96, 108, 224)\n",
      "(84, 84, 100) (168, 168, 200)\n",
      "(60, 60, 40) (120, 120, 80)\n",
      "(56, 60, 64) (112, 120, 128)\n",
      "(80, 80, 80) (160, 160, 160)\n",
      "(30, 36, 50) (60, 72, 100)\n",
      "(28, 40, 40) (56, 80, 80)\n",
      "(36, 36, 36) (72, 72, 72)\n",
      "(48, 80, 96) (96, 160, 192)\n",
      "(64, 64, 64) (128, 128, 128)\n",
      "(48, 48, 80) (96, 96, 160)\n",
      "(48, 48, 48) (96, 96, 96)\n",
      "(70, 70, 28) (140, 140, 56)\n",
      "(40, 40, 108) (80, 80, 216)\n",
      "(60, 60, 40) (120, 120, 80)\n",
      "(40, 40, 40) (80, 80, 80)\n",
      "(40, 40, 40) (80, 80, 80)\n",
      "(42, 42, 56) (84, 84, 112)\n",
      "(40, 40, 40) (80, 80, 80)\n",
      "(32, 32, 32) (64, 64, 64)\n",
      "(28, 28, 28) (56, 56, 56)\n",
      "(40, 60, 108) (80, 120, 216)\n",
      "(64, 64, 64) (128, 128, 128)\n",
      "(24, 24, 24) (48, 48, 48)\n",
      "(28, 48, 48) (56, 96, 96)\n",
      "(32, 32, 48) (64, 64, 96)\n",
      "(24, 24, 24) (48, 48, 48)\n",
      "(42, 42, 40) (84, 84, 80)\n",
      "(48, 48, 48) (96, 96, 96)\n",
      "(36, 84, 192) (72, 168, 384)\n",
      "(24, 70, 70) (48, 140, 140)\n",
      "(42, 48, 42) (84, 96, 84)\n",
      "(54, 54, 80) (108, 108, 160)\n",
      "(50, 50, 50) (100, 100, 100)\n",
      "(28, 40, 40) (56, 80, 80)\n",
      "(48, 48, 60) (96, 96, 120)\n",
      "(48, 48, 48) (96, 96, 96)\n",
      "(36, 36, 36) (72, 72, 72)\n",
      "(40, 40, 40) (80, 80, 80)\n",
      "(48, 48, 56) (96, 96, 112)\n",
      "(36, 54, 54) (72, 108, 108)\n",
      "(28, 28, 48) (56, 56, 96)\n",
      "(40, 40, 40) (80, 80, 80)\n",
      "(36, 36, 60) (72, 72, 120)\n",
      "(28, 40, 40) (56, 80, 80)\n",
      "(60, 60, 50) (120, 120, 100)\n",
      "(64, 96, 96) (128, 192, 192)\n",
      "(48, 48, 48) (96, 96, 96)\n",
      "(36, 36, 36) (72, 72, 72)\n",
      "(60, 60, 60) (120, 120, 120)\n",
      "(56, 56, 56) (112, 112, 112)\n",
      "(32, 36, 32) (64, 72, 64)\n",
      "(28, 36, 54) (56, 72, 108)\n",
      "(32, 32, 32) (64, 64, 64)\n",
      "(28, 28, 28) (56, 56, 56)\n",
      "(48, 48, 48) (96, 96, 96)\n",
      "(36, 48, 80) (72, 96, 160)\n",
      "(48, 48, 70) (96, 96, 140)\n",
      "(54, 64, 64) (108, 128, 128)\n",
      "(36, 126, 140) (72, 252, 280)\n",
      "(42, 48, 48) (84, 96, 96)\n",
      "(64, 70, 70) (128, 140, 140)\n",
      "(28, 28, 70) (56, 56, 140)\n",
      "(40, 40, 64) (80, 80, 128)\n",
      "(64, 64, 64) (128, 128, 128)\n",
      "(60, 60, 54) (120, 120, 108)\n",
      "(56, 60, 70) (112, 120, 140)\n",
      "(50, 56, 56) (100, 112, 112)\n",
      "(40, 40, 40) (80, 80, 80)\n",
      "(36, 36, 64) (72, 72, 128)\n",
      "(28, 40, 40) (56, 80, 80)\n",
      "(60, 72, 72) (120, 144, 144)\n",
      "(96, 96, 54) (192, 192, 108)\n",
      "(36, 36, 36) (72, 72, 72)\n",
      "(48, 72, 108) (96, 144, 216)\n",
      "(36, 36, 36) (72, 72, 72)\n",
      "(54, 54, 40) (108, 108, 80)\n",
      "(28, 28, 28) (56, 56, 56)\n",
      "(28, 28, 28) (56, 56, 56)\n"
     ]
    }
   ],
   "source": [
    "for e in elfcars.keys():\n",
    "    print(elfcars[e].data['total'].shape, masks[e].data['total'].shape)"
   ]
  },
  {
   "cell_type": "code",
   "execution_count": 4,
   "metadata": {},
   "outputs": [
    {
     "name": "stdout",
     "output_type": "stream",
     "text": [
      "['6405', '3890', '7373', '11133', '3914', '5804', '10090', '3957', '3996', '6135', '3955', '4648', '4827', '3901', '2779', '6017', '4392', '3992', '4837', '6454', '4601', '4826', '3929', '3926', '3930', '4019', '6412', '5874', '6240', '5312', '2936', '10792', '4617', '4102', '4782', '8414', '5364', '4870', '7394', '10278', '10118', '4406', '6359', '4026', '10408', '9789', '9416', '2180', '4999', '4510', '3947', '4072', '2072', '9887', '10201', '2597', '3882', '4212', '4226', '4682', '9493', '7850', '9879', '8450', '8661', '4331', '4687', '5723', '10375', '8706', '10389', '5431', '7076', '7562', '10285', '7722', '5662', '4089', '9731', '4656', '9068', '8428', '9914', '6190', '7962', '10642', '5462', '4611', '4035', '7921', '7740', '6344', '5557', '5570', '6853', '6417', '4283', '4311', '5692', '4252', '3942', '3989', '9927', '8986', '4758', '2167', '4787', '2820', '7468', '8989', '10948', '6283', '7408', '11087', '6862', '4757', '6094', '2085', '4079', '4346', '7239', '5863', '6872', '4493', '4644', '5822', '10674', '9327', '7178', '4800', '7019', '6111', '5298', '6936', '3979', '4018', '6355', '8994', '8091', '8563', '10373', '10179', '9534', '4319', '5278', '7051', '8061', '7958', '10101', '4298', '5275', '4201', '8381', '9665', '4108', '10524', '4002', '5663', '3907', '3915']\n"
     ]
    }
   ],
   "source": [
    "ids = [i for i in masks.keys()]\n",
    "print(ids)"
   ]
  },
  {
   "cell_type": "code",
   "execution_count": 5,
   "metadata": {},
   "outputs": [],
   "source": [
    "def create_mask(mask, index):\n",
    "    shape = mask.shape\n",
    "    flat = mask.flatten()\n",
    "    for i in range(len(flat)):\n",
    "        flat[i] = 1 if int(flat[i]) == index else 0\n",
    "    mask = flat.reshape(shape)\n",
    "    return mask\n",
    "\n",
    "def apply_mask(elfcar, mask):\n",
    "    ex, ey, ez = elfcar.shape\n",
    "    mx, my, mz = mask.shape\n",
    "    masked = []\n",
    "    for i1 in range(len(elfcar)):\n",
    "        xfac = int(mx / ex)\n",
    "        for i2 in range(len(elfcar[i1])):\n",
    "            yfac = int(my / ey)\n",
    "            for i3 in range(len(elfcar[i1][i2])):\n",
    "                zfac = int(mz / ez)\n",
    "                masked.append(elfcar[i1][i2][i3] * mask[i1 * xfac][i2 * yfac][i3 * zfac])\n",
    "    return np.array(masked)\n",
    "\n",
    "def strip_zeros(arr):\n",
    "    return np.array([a for a in arr if a != 0])"
   ]
  },
  {
   "cell_type": "code",
   "execution_count": 13,
   "metadata": {
    "scrolled": true
   },
   "outputs": [],
   "source": [
    "def feature_vector(i, num_wells=15):\n",
    "    elfcar_data, mask_data = elfcars[i].get_alpha().data['total'], masks[i].data['total']\n",
    "    vector = []\n",
    "    for index in range(1, int(max(mask_data.flatten())) + 1):        \n",
    "        clean_mask = strip_zeros(apply_mask(elfcar_data, create_mask(mask_data, index)))\n",
    "        mean, stddev, maxv = np.mean(clean_mask), np.std(clean_mask), np.max(clean_mask)\n",
    "        maxv = maxv / mean ** 2\n",
    "        vector.append([mean, stddev, maxv])\n",
    "    vector = sorted(vector, key=lambda e: e[0])\n",
    "    ndescriptors = len(vector[0])\n",
    "    length = num_wells * ndescriptors\n",
    "    vector = [y for x in vector for y in x]\n",
    "    if len(vector) > length:\n",
    "        vector = vector[:length]\n",
    "    elif len(vector) < length:\n",
    "        idx = 0\n",
    "        while len(vector) < length:\n",
    "            vector += vector[idx:idx+ndescriptors]\n",
    "            idx += ndescriptors\n",
    "    return np.array(vector)"
   ]
  },
  {
   "cell_type": "code",
   "execution_count": 5,
   "metadata": {},
   "outputs": [],
   "source": [
    "nwells = []\n",
    "for i in ids:\n",
    "    mask_data = masks[i].data['total']\n",
    "    nwells.append(int(max(mask_data.flatten())))"
   ]
  },
  {
   "cell_type": "code",
   "execution_count": 11,
   "metadata": {},
   "outputs": [
    {
     "data": {
      "text/plain": [
       "array([3.36346231, 3.20716914, 1.42338915, 3.36446139, 3.23528971,\n",
       "       1.42517169])"
      ]
     },
     "execution_count": 11,
     "metadata": {},
     "output_type": "execute_result"
    }
   ],
   "source": [
    "feature_vector('7178')"
   ]
  },
  {
   "cell_type": "code",
   "execution_count": 14,
   "metadata": {
    "scrolled": true
   },
   "outputs": [
    {
     "name": "stderr",
     "output_type": "stream",
     "text": [
      "\n",
      "  0%|          | 0/160 [00:00<?, ?it/s]\u001b[A\n",
      "  1%|          | 1/160 [00:00<00:59,  2.67it/s]\u001b[A\n",
      "  1%|▏         | 2/160 [00:01<01:19,  1.99it/s]\u001b[A\n",
      "  2%|▏         | 3/160 [01:59<1:33:41, 35.81s/it]\u001b[A\n",
      "  2%|▎         | 4/160 [02:02<1:07:39, 26.03s/it]\u001b[A\n",
      "  3%|▎         | 5/160 [02:04<48:10, 18.65s/it]  \u001b[A\n",
      "  4%|▍         | 6/160 [02:30<53:51, 20.99s/it]\u001b[A\n",
      "  4%|▍         | 7/160 [02:39<44:31, 17.46s/it]\u001b[A\n",
      "  5%|▌         | 8/160 [02:41<32:42, 12.91s/it]\u001b[A\n",
      "  6%|▌         | 9/160 [02:42<23:27,  9.32s/it]\u001b[A\n",
      "  6%|▋         | 10/160 [03:17<42:31, 17.01s/it]\u001b[A\n",
      "  7%|▋         | 11/160 [03:19<30:39, 12.35s/it]\u001b[A\n",
      "  8%|▊         | 12/160 [03:36<33:52, 13.73s/it]\u001b[A\n",
      "  8%|▊         | 13/160 [03:50<34:16, 13.99s/it]\u001b[A\n",
      "  9%|▉         | 14/160 [03:52<24:53, 10.23s/it]\u001b[A\n",
      "  9%|▉         | 15/160 [03:59<22:09,  9.17s/it]\u001b[A\n",
      " 10%|█         | 16/160 [04:12<25:24, 10.59s/it]\u001b[A\n",
      " 11%|█         | 17/160 [04:13<18:21,  7.70s/it]\u001b[A\n",
      " 11%|█▏        | 18/160 [04:15<13:41,  5.79s/it]\u001b[A\n",
      " 12%|█▏        | 19/160 [04:22<14:45,  6.28s/it]\u001b[A\n",
      " 12%|█▎        | 20/160 [04:44<25:20, 10.86s/it]\u001b[A\n",
      " 13%|█▎        | 21/160 [04:45<18:27,  7.97s/it]\u001b[A\n",
      " 14%|█▍        | 22/160 [04:48<14:58,  6.51s/it]\u001b[A\n",
      " 14%|█▍        | 23/160 [04:49<11:00,  4.82s/it]\u001b[A\n",
      " 15%|█▌        | 24/160 [04:50<08:19,  3.67s/it]\u001b[A\n",
      " 16%|█▌        | 25/160 [04:52<07:00,  3.12s/it]\u001b[A\n",
      " 16%|█▋        | 26/160 [04:54<06:33,  2.94s/it]\u001b[A\n",
      " 17%|█▋        | 27/160 [04:57<06:18,  2.85s/it]\u001b[A\n",
      " 18%|█▊        | 28/160 [05:06<10:30,  4.77s/it]\u001b[A\n",
      " 18%|█▊        | 29/160 [05:21<17:02,  7.80s/it]\u001b[A\n",
      " 19%|█▉        | 30/160 [05:38<23:01, 10.63s/it]\u001b[A\n",
      " 19%|█▉        | 31/160 [05:41<17:50,  8.30s/it]\u001b[A\n",
      " 20%|██        | 32/160 [08:52<2:14:16, 62.94s/it]\u001b[A\n",
      " 21%|██        | 33/160 [08:54<1:34:49, 44.80s/it]\u001b[A\n",
      " 21%|██▏       | 34/160 [08:56<1:07:02, 31.92s/it]\u001b[A\n",
      " 22%|██▏       | 35/160 [09:00<48:52, 23.46s/it]  \u001b[A\n",
      " 22%|██▎       | 36/160 [10:51<1:43:08, 49.90s/it]\u001b[A\n",
      " 23%|██▎       | 37/160 [10:54<1:13:24, 35.81s/it]\u001b[A\n",
      " 24%|██▍       | 38/160 [10:59<53:59, 26.55s/it]  \u001b[A\n",
      " 24%|██▍       | 39/160 [11:09<43:44, 21.69s/it]\u001b[A\n",
      " 25%|██▌       | 40/160 [13:55<2:09:30, 64.75s/it]\u001b[A\n",
      " 26%|██▌       | 41/160 [14:03<1:35:05, 47.95s/it]\u001b[A\n",
      " 26%|██▋       | 42/160 [14:05<1:06:58, 34.05s/it]\u001b[A\n",
      " 27%|██▋       | 43/160 [14:17<53:32, 27.46s/it]  \u001b[A\n",
      " 28%|██▊       | 44/160 [14:19<38:18, 19.81s/it]\u001b[A\n",
      " 28%|██▊       | 45/160 [30:11<9:33:48, 299.38s/it]\u001b[A\n",
      " 29%|██▉       | 46/160 [30:33<6:50:49, 216.23s/it]\u001b[A\n",
      " 29%|██▉       | 47/160 [32:52<6:03:30, 193.01s/it]\u001b[A\n",
      " 30%|███       | 48/160 [32:53<4:12:51, 135.46s/it]\u001b[A\n",
      " 31%|███       | 49/160 [32:55<2:56:41, 95.51s/it] \u001b[A\n",
      " 31%|███▏      | 50/160 [32:58<2:03:57, 67.61s/it]\u001b[A\n",
      " 32%|███▏      | 51/160 [32:59<1:26:23, 47.56s/it]\u001b[A\n",
      " 32%|███▎      | 52/160 [33:00<1:00:32, 33.63s/it]\u001b[A\n",
      " 33%|███▎      | 53/160 [33:02<43:11, 24.22s/it]  \u001b[A\n",
      " 34%|███▍      | 54/160 [38:45<3:31:49, 119.90s/it]\u001b[A\n",
      " 34%|███▍      | 55/160 [39:21<2:45:48, 94.75s/it] \u001b[A\n",
      " 35%|███▌      | 56/160 [39:22<1:55:08, 66.43s/it]\u001b[A\n",
      " 36%|███▌      | 57/160 [39:22<1:20:09, 46.70s/it]\u001b[A\n",
      " 36%|███▋      | 58/160 [39:24<56:22, 33.16s/it]  \u001b[A\n",
      " 37%|███▋      | 59/160 [39:25<39:54, 23.70s/it]\u001b[A\n",
      " 38%|███▊      | 60/160 [39:29<29:41, 17.82s/it]\u001b[A\n",
      " 38%|███▊      | 61/160 [43:21<2:15:18, 82.01s/it]\u001b[A\n",
      " 39%|███▉      | 62/160 [43:42<1:44:07, 63.75s/it]\u001b[A\n",
      " 39%|███▉      | 63/160 [1:01:07<9:38:42, 357.96s/it]\u001b[A\n",
      " 40%|████      | 64/160 [1:02:15<7:13:35, 270.99s/it]\u001b[A\n",
      " 41%|████      | 65/160 [1:04:02<5:51:12, 221.81s/it]\u001b[A\n",
      " 41%|████▏     | 66/160 [1:04:03<4:03:46, 155.60s/it]\u001b[A\n",
      " 42%|████▏     | 67/160 [1:04:06<2:50:04, 109.72s/it]\u001b[A\n",
      " 42%|████▎     | 68/160 [1:04:10<1:59:32, 77.97s/it] \u001b[A\n",
      " 43%|████▎     | 69/160 [1:15:04<6:20:22, 250.79s/it]\u001b[A\n",
      " 44%|████▍     | 70/160 [1:15:26<4:33:34, 182.38s/it]\u001b[A\n",
      " 44%|████▍     | 71/160 [2:02:48<24:14:02, 980.25s/it]\u001b[A\n",
      " 45%|████▌     | 72/160 [2:02:50<16:47:10, 686.71s/it]\u001b[A\n",
      " 46%|████▌     | 73/160 [2:03:04<11:43:12, 484.97s/it]\u001b[A\n",
      " 46%|████▋     | 74/160 [2:03:14<8:10:42, 342.36s/it] \u001b[A\n",
      " 47%|████▋     | 75/160 [2:05:17<6:31:35, 276.41s/it]\u001b[A\n",
      " 48%|████▊     | 76/160 [2:05:58<4:48:29, 206.07s/it]\u001b[A\n",
      " 48%|████▊     | 77/160 [2:06:07<3:23:09, 146.87s/it]\u001b[A\n",
      " 49%|████▉     | 78/160 [2:06:09<2:21:09, 103.28s/it]\u001b[A\n",
      " 49%|████▉     | 79/160 [2:11:54<3:57:12, 175.70s/it]\u001b[A\n",
      " 50%|█████     | 80/160 [2:11:58<2:45:57, 124.46s/it]\u001b[A\n",
      " 51%|█████     | 81/160 [2:14:03<2:44:00, 124.56s/it]\u001b[A\n",
      " 51%|█████▏    | 82/160 [2:14:44<2:09:20, 99.49s/it] \u001b[A\n",
      " 52%|█████▏    | 83/160 [2:54:01<16:36:41, 776.64s/it]\u001b[A\n",
      " 52%|█████▎    | 84/160 [2:54:16<11:34:18, 548.14s/it]\u001b[A\n",
      " 53%|█████▎    | 85/160 [2:54:45<8:10:34, 392.46s/it] \u001b[A\n",
      " 54%|█████▍    | 86/160 [2:59:14<7:18:22, 355.44s/it]\u001b[A\n",
      " 54%|█████▍    | 87/160 [2:59:19<5:04:20, 250.14s/it]\u001b[A\n",
      " 55%|█████▌    | 88/160 [2:59:22<3:31:20, 176.12s/it]\u001b[A\n",
      " 56%|█████▌    | 89/160 [2:59:23<2:26:18, 123.64s/it]\u001b[A\n",
      " 56%|█████▋    | 90/160 [3:00:16<1:59:34, 102.49s/it]\u001b[A\n",
      " 57%|█████▋    | 91/160 [3:00:39<1:30:15, 78.48s/it] \u001b[A\n",
      " 57%|█████▊    | 92/160 [3:01:12<1:13:38, 64.97s/it]\u001b[A\n",
      " 58%|█████▊    | 93/160 [3:01:20<53:14, 47.69s/it]  \u001b[A\n",
      " 59%|█████▉    | 94/160 [3:01:41<43:41, 39.73s/it]\u001b[A\n",
      " 59%|█████▉    | 95/160 [3:01:51<33:33, 30.98s/it]\u001b[A\n",
      " 60%|██████    | 96/160 [3:02:01<26:13, 24.58s/it]\u001b[A\n",
      " 61%|██████    | 97/160 [3:02:03<18:46, 17.88s/it]\u001b[A\n",
      " 61%|██████▏   | 98/160 [3:02:06<13:41, 13.25s/it]\u001b[A\n",
      " 62%|██████▏   | 99/160 [3:02:14<12:05, 11.89s/it]\u001b[A\n",
      " 62%|██████▎   | 100/160 [3:02:16<08:57,  8.96s/it]\u001b[A\n",
      " 63%|██████▎   | 101/160 [3:02:17<06:22,  6.49s/it]\u001b[A\n",
      " 64%|██████▍   | 102/160 [3:02:18<04:33,  4.72s/it]\u001b[A\n",
      " 64%|██████▍   | 103/160 [3:03:34<24:53, 26.21s/it]\u001b[A\n",
      " 65%|██████▌   | 104/160 [3:04:06<25:57, 27.80s/it]\u001b[A\n",
      " 66%|██████▌   | 105/160 [3:04:06<17:52, 19.50s/it]\u001b[A\n",
      " 66%|██████▋   | 106/160 [3:04:07<12:44, 14.16s/it]\u001b[A\n",
      " 67%|██████▋   | 107/160 [3:04:09<09:05, 10.30s/it]\u001b[A\n",
      " 68%|██████▊   | 108/160 [3:04:09<06:16,  7.25s/it]\u001b[A\n",
      " 68%|██████▊   | 109/160 [3:04:12<05:00,  5.90s/it]\u001b[A\n",
      " 69%|██████▉   | 110/160 [3:04:16<04:27,  5.35s/it]\u001b[A\n",
      " 69%|██████▉   | 111/160 [3:06:54<41:54, 51.32s/it]\u001b[A\n",
      " 70%|███████   | 112/160 [3:07:05<31:15, 39.06s/it]\u001b[A\n",
      " 71%|███████   | 113/160 [3:07:09<22:18, 28.48s/it]\u001b[A\n",
      " 71%|███████▏  | 114/160 [3:07:38<22:07, 28.87s/it]\u001b[A\n",
      " 72%|███████▏  | 115/160 [3:07:47<17:02, 22.72s/it]\u001b[A\n",
      " 72%|███████▎  | 116/160 [3:07:48<11:55, 16.26s/it]\u001b[A\n",
      " 73%|███████▎  | 117/160 [3:07:56<09:50, 13.72s/it]\u001b[A\n",
      " 74%|███████▍  | 118/160 [3:07:57<07:05, 10.12s/it]\u001b[A\n",
      " 74%|███████▍  | 119/160 [3:07:58<04:56,  7.23s/it]\u001b[A\n",
      " 75%|███████▌  | 120/160 [3:07:58<03:29,  5.24s/it]\u001b[A\n",
      " 76%|███████▌  | 121/160 [3:08:05<03:44,  5.76s/it]\u001b[A\n",
      " 76%|███████▋  | 122/160 [3:08:09<03:08,  4.96s/it]\u001b[A\n",
      " 77%|███████▋  | 123/160 [3:08:09<02:17,  3.71s/it]\u001b[A\n",
      " 78%|███████▊  | 124/160 [3:08:11<01:54,  3.18s/it]\u001b[A\n",
      " 78%|███████▊  | 125/160 [3:08:13<01:33,  2.67s/it]\u001b[A\n",
      " 79%|███████▉  | 126/160 [3:08:14<01:18,  2.31s/it]\u001b[A\n",
      " 79%|███████▉  | 127/160 [3:08:21<02:05,  3.79s/it]\u001b[A\n",
      " 80%|████████  | 128/160 [3:09:19<10:33, 19.79s/it]\u001b[A\n",
      " 81%|████████  | 129/160 [3:09:22<07:39, 14.82s/it]\u001b[A\n",
      " 81%|████████▏ | 130/160 [3:09:23<05:20, 10.69s/it]\u001b[A\n",
      " 82%|████████▏ | 131/160 [3:09:38<05:45, 11.93s/it]\u001b[A\n",
      " 82%|████████▎ | 132/160 [3:09:40<04:17,  9.18s/it]\u001b[A\n",
      " 83%|████████▎ | 133/160 [3:09:41<02:56,  6.55s/it]\u001b[A\n",
      " 84%|████████▍ | 134/160 [3:09:42<02:05,  4.84s/it]\u001b[A\n",
      " 84%|████████▍ | 135/160 [3:09:42<01:27,  3.49s/it]\u001b[A\n",
      " 85%|████████▌ | 136/160 [3:09:42<01:00,  2.52s/it]\u001b[A\n",
      " 86%|████████▌ | 137/160 [3:09:49<01:27,  3.82s/it]\u001b[A\n",
      " 86%|████████▋ | 138/160 [3:10:00<02:13,  6.05s/it]\u001b[A\n",
      " 87%|████████▋ | 139/160 [3:10:17<03:13,  9.21s/it]\u001b[A\n",
      " 88%|████████▊ | 140/160 [3:10:44<04:53, 14.67s/it]\u001b[A\n",
      " 88%|████████▊ | 141/160 [3:13:24<18:26, 58.24s/it]\u001b[A\n",
      " 89%|████████▉ | 142/160 [3:13:30<12:42, 42.36s/it]\u001b[A\n",
      " 89%|████████▉ | 143/160 [3:14:15<12:18, 43.41s/it]\u001b[A\n",
      " 90%|█████████ | 144/160 [3:14:17<08:15, 30.98s/it]\u001b[A\n",
      " 91%|█████████ | 145/160 [3:14:19<05:33, 22.26s/it]\u001b[A\n",
      " 91%|█████████▏| 146/160 [3:14:23<03:54, 16.75s/it]\u001b[A\n",
      " 92%|█████████▏| 147/160 [3:14:30<03:00, 13.88s/it]\u001b[A\n",
      " 92%|█████████▎| 148/160 [3:14:41<02:35, 12.93s/it]\u001b[A\n",
      " 93%|█████████▎| 149/160 [3:14:49<02:05, 11.41s/it]\u001b[A\n",
      " 94%|█████████▍| 150/160 [3:14:50<01:22,  8.24s/it]\u001b[A\n",
      " 94%|█████████▍| 151/160 [3:14:52<00:56,  6.26s/it]\u001b[A\n",
      " 95%|█████████▌| 152/160 [3:14:53<00:38,  4.85s/it]\u001b[A\n",
      " 96%|█████████▌| 153/160 [3:15:15<01:09,  9.92s/it]\u001b[A\n",
      " 96%|█████████▋| 154/160 [3:16:29<02:55, 29.17s/it]\u001b[A\n",
      " 97%|█████████▋| 155/160 [3:16:30<01:43, 20.68s/it]\u001b[A\n",
      " 98%|█████████▊| 156/160 [3:16:56<01:29, 22.33s/it]\u001b[A\n",
      " 98%|█████████▊| 157/160 [3:16:57<00:47, 15.90s/it]\u001b[A\n",
      " 99%|█████████▉| 158/160 [3:17:05<00:27, 13.69s/it]\u001b[A\n",
      " 99%|█████████▉| 159/160 [3:17:06<00:09,  9.69s/it]\u001b[A\n",
      "100%|██████████| 160/160 [3:17:06<00:00, 73.92s/it]\u001b[A\n"
     ]
    }
   ],
   "source": [
    "vector_list = []\n",
    "for i in tqdm(ids):\n",
    "    new_vec = feature_vector(i)\n",
    "    vector_list.append(new_vec)"
   ]
  },
  {
   "cell_type": "code",
   "execution_count": 15,
   "metadata": {},
   "outputs": [],
   "source": [
    "A = np.vstack(vector_list)"
   ]
  },
  {
   "cell_type": "code",
   "execution_count": 16,
   "metadata": {},
   "outputs": [
    {
     "data": {
      "text/plain": [
       "(160, 45)"
      ]
     },
     "execution_count": 16,
     "metadata": {},
     "output_type": "execute_result"
    }
   ],
   "source": [
    "A.shape"
   ]
  },
  {
   "cell_type": "code",
   "execution_count": 17,
   "metadata": {
    "scrolled": false
   },
   "outputs": [
    {
     "data": {
      "text/html": [
       "<div>\n",
       "<style scoped>\n",
       "    .dataframe tbody tr th:only-of-type {\n",
       "        vertical-align: middle;\n",
       "    }\n",
       "\n",
       "    .dataframe tbody tr th {\n",
       "        vertical-align: top;\n",
       "    }\n",
       "\n",
       "    .dataframe thead th {\n",
       "        text-align: right;\n",
       "    }\n",
       "</style>\n",
       "<table border=\"1\" class=\"dataframe\">\n",
       "  <thead>\n",
       "    <tr style=\"text-align: right;\">\n",
       "      <th></th>\n",
       "      <th>Formula</th>\n",
       "      <th>Experimental</th>\n",
       "      <th>Computed</th>\n",
       "      <th>Error</th>\n",
       "    </tr>\n",
       "  </thead>\n",
       "  <tbody>\n",
       "    <tr>\n",
       "      <th>0</th>\n",
       "      <td>HgS</td>\n",
       "      <td>-0.552332</td>\n",
       "      <td>-2.147391e-01</td>\n",
       "      <td>3.375925e-01</td>\n",
       "    </tr>\n",
       "    <tr>\n",
       "      <th>1</th>\n",
       "      <td>Li2Se</td>\n",
       "      <td>-4.353368</td>\n",
       "      <td>-4.212850e+00</td>\n",
       "      <td>1.405180e-01</td>\n",
       "    </tr>\n",
       "    <tr>\n",
       "      <th>2</th>\n",
       "      <td>CoSO4</td>\n",
       "      <td>-9.205181</td>\n",
       "      <td>-8.707624e+00</td>\n",
       "      <td>4.975578e-01</td>\n",
       "    </tr>\n",
       "    <tr>\n",
       "      <th>3</th>\n",
       "      <td>Bi</td>\n",
       "      <td>0.000000</td>\n",
       "      <td>0.000000e+00</td>\n",
       "      <td>0.000000e+00</td>\n",
       "    </tr>\n",
       "    <tr>\n",
       "      <th>4</th>\n",
       "      <td>TaSi2</td>\n",
       "      <td>-1.235233</td>\n",
       "      <td>-1.259144e+00</td>\n",
       "      <td>-2.391124e-02</td>\n",
       "    </tr>\n",
       "    <tr>\n",
       "      <th>...</th>\n",
       "      <td>...</td>\n",
       "      <td>...</td>\n",
       "      <td>...</td>\n",
       "      <td>...</td>\n",
       "    </tr>\n",
       "    <tr>\n",
       "      <th>732</th>\n",
       "      <td>YH3</td>\n",
       "      <td>-2.753368</td>\n",
       "      <td>-2.906811e+00</td>\n",
       "      <td>-1.534435e-01</td>\n",
       "    </tr>\n",
       "    <tr>\n",
       "      <th>733</th>\n",
       "      <td>UB2</td>\n",
       "      <td>-1.530570</td>\n",
       "      <td>-1.550134e+00</td>\n",
       "      <td>-1.956439e-02</td>\n",
       "    </tr>\n",
       "    <tr>\n",
       "      <th>734</th>\n",
       "      <td>LaN</td>\n",
       "      <td>-3.100518</td>\n",
       "      <td>-3.130231e+00</td>\n",
       "      <td>-2.971281e-02</td>\n",
       "    </tr>\n",
       "    <tr>\n",
       "      <th>735</th>\n",
       "      <td>USe</td>\n",
       "      <td>-2.856995</td>\n",
       "      <td>-1.637004e+00</td>\n",
       "      <td>1.219991e+00</td>\n",
       "    </tr>\n",
       "    <tr>\n",
       "      <th>736</th>\n",
       "      <td>Be</td>\n",
       "      <td>0.000000</td>\n",
       "      <td>8.881784e-16</td>\n",
       "      <td>8.881784e-16</td>\n",
       "    </tr>\n",
       "  </tbody>\n",
       "</table>\n",
       "<p>737 rows × 4 columns</p>\n",
       "</div>"
      ],
      "text/plain": [
       "    Formula  Experimental      Computed         Error\n",
       "0       HgS     -0.552332 -2.147391e-01  3.375925e-01\n",
       "1     Li2Se     -4.353368 -4.212850e+00  1.405180e-01\n",
       "2     CoSO4     -9.205181 -8.707624e+00  4.975578e-01\n",
       "3        Bi      0.000000  0.000000e+00  0.000000e+00\n",
       "4     TaSi2     -1.235233 -1.259144e+00 -2.391124e-02\n",
       "..      ...           ...           ...           ...\n",
       "732     YH3     -2.753368 -2.906811e+00 -1.534435e-01\n",
       "733     UB2     -1.530570 -1.550134e+00 -1.956439e-02\n",
       "734     LaN     -3.100518 -3.130231e+00 -2.971281e-02\n",
       "735     USe     -2.856995 -1.637004e+00  1.219991e+00\n",
       "736      Be      0.000000  8.881784e-16  8.881784e-16\n",
       "\n",
       "[737 rows x 4 columns]"
      ]
     },
     "execution_count": 17,
     "metadata": {},
     "output_type": "execute_result"
    }
   ],
   "source": [
    "error_data = pd.read_json(loadfn('data/error_data.json'), orient='columns')\n",
    "error_data"
   ]
  },
  {
   "cell_type": "code",
   "execution_count": 18,
   "metadata": {},
   "outputs": [],
   "source": [
    "exp = error_data.Formula.tolist()"
   ]
  },
  {
   "cell_type": "code",
   "execution_count": 19,
   "metadata": {},
   "outputs": [
    {
     "data": {
      "text/plain": [
       "True"
      ]
     },
     "execution_count": 19,
     "metadata": {},
     "output_type": "execute_result"
    }
   ],
   "source": [
    "'NaBr' in exp"
   ]
  },
  {
   "cell_type": "code",
   "execution_count": 20,
   "metadata": {
    "scrolled": true
   },
   "outputs": [
    {
     "data": {
      "text/plain": [
       "[20,\n",
       " 30,\n",
       " 61,\n",
       " 62,\n",
       " 63,\n",
       " 64,\n",
       " 67,\n",
       " 69,\n",
       " 71,\n",
       " 82,\n",
       " 89,\n",
       " 90,\n",
       " 91,\n",
       " 109,\n",
       " 116,\n",
       " 128,\n",
       " 145,\n",
       " 146,\n",
       " 148]"
      ]
     },
     "execution_count": 20,
     "metadata": {},
     "output_type": "execute_result"
    }
   ],
   "source": [
    "b, drops = [], []\n",
    "for x in range(len(ids)):\n",
    "    i = ids[x]\n",
    "    found = False\n",
    "    f = elfcars[i].structure.composition.reduced_formula\n",
    "    if f in exp:\n",
    "        for j in range(len(error_data)):\n",
    "            row = error_data.iloc[j]\n",
    "            if f == row['Formula']:\n",
    "                b.append(row['Error'] / row['Experimental'])\n",
    "    else:\n",
    "        drops.append(x)\n",
    "drops"
   ]
  },
  {
   "cell_type": "code",
   "execution_count": 21,
   "metadata": {},
   "outputs": [
    {
     "data": {
      "text/plain": [
       "(160, 45)"
      ]
     },
     "execution_count": 21,
     "metadata": {},
     "output_type": "execute_result"
    }
   ],
   "source": [
    "A = np.vstack(vector_list)\n",
    "A.shape"
   ]
  },
  {
   "cell_type": "code",
   "execution_count": 22,
   "metadata": {},
   "outputs": [
    {
     "data": {
      "text/plain": [
       "(141, 45)"
      ]
     },
     "execution_count": 22,
     "metadata": {},
     "output_type": "execute_result"
    }
   ],
   "source": [
    "A = np.delete(A, drops, axis=0)\n",
    "A.shape"
   ]
  },
  {
   "cell_type": "code",
   "execution_count": 23,
   "metadata": {},
   "outputs": [],
   "source": [
    "A_train, A_test = A[:130], A[130:]\n",
    "b_train, b_test = b[:130], b[130:]"
   ]
  },
  {
   "cell_type": "code",
   "execution_count": 24,
   "metadata": {},
   "outputs": [],
   "source": [
    "x_hat = np.linalg.inv(A_train.T @ A_train) @ A_train.T @ b_train"
   ]
  },
  {
   "cell_type": "code",
   "execution_count": 25,
   "metadata": {},
   "outputs": [
    {
     "data": {
      "text/plain": [
       "array([ 1.08358600e-01, -1.13737055e-01, -2.71838242e-03, -1.21934215e-01,\n",
       "        1.00530977e-01,  4.64581079e-03,  1.05412810e-01, -5.48048020e-02,\n",
       "        5.74204458e-03, -5.00372748e-02,  2.40376654e-02,  6.48469954e-04,\n",
       "       -3.27378836e-01,  7.66862384e-02, -1.50322984e-03,  3.29237957e-01,\n",
       "       -6.81425552e-02, -5.27772005e-04, -3.10816151e-01,  6.32818459e-02,\n",
       "        1.24782126e-03,  3.22266996e-01, -4.55495911e-02, -4.55430186e-03,\n",
       "       -8.11935103e-02,  5.38499915e-02, -5.70687590e-03,  3.92962836e-02,\n",
       "       -2.39050491e-02, -9.44870064e-04,  3.52582537e-01, -7.69568657e-02,\n",
       "        1.37589536e-03, -3.47888156e-01,  6.83284946e-02,  7.72399542e-04,\n",
       "        1.91281263e-01,  6.51533603e-02, -2.21863111e-03, -1.69840831e-01,\n",
       "       -5.53091927e-02,  4.06698342e-05, -6.25987509e-02,  1.38051945e-03,\n",
       "       -6.34140197e-04])"
      ]
     },
     "execution_count": 25,
     "metadata": {},
     "output_type": "execute_result"
    }
   ],
   "source": [
    "x_hat"
   ]
  },
  {
   "cell_type": "code",
   "execution_count": 26,
   "metadata": {},
   "outputs": [
    {
     "data": {
      "text/plain": [
       "array([2.43177303, 2.16549516, 1.63531506, 7.86499098, 4.16637607,\n",
       "       0.23584673, 2.43177303, 2.16549516, 1.63531506, 7.86499098,\n",
       "       4.16637607, 0.23584673, 2.43177303, 2.16549516, 1.63531506,\n",
       "       7.86499098, 4.16637607, 0.23584673, 2.43177303, 2.16549516,\n",
       "       1.63531506, 7.86499098, 4.16637607, 0.23584673, 2.43177303,\n",
       "       2.16549516, 1.63531506, 7.86499098, 4.16637607, 0.23584673,\n",
       "       2.43177303, 2.16549516, 1.63531506, 7.86499098, 4.16637607,\n",
       "       0.23584673, 2.43177303, 2.16549516, 1.63531506, 7.86499098,\n",
       "       4.16637607, 0.23584673, 2.43177303, 2.16549516, 1.63531506])"
      ]
     },
     "execution_count": 26,
     "metadata": {},
     "output_type": "execute_result"
    }
   ],
   "source": [
    "A[0]"
   ]
  },
  {
   "cell_type": "code",
   "execution_count": 27,
   "metadata": {
    "scrolled": false
   },
   "outputs": [
    {
     "data": {
      "image/png": "[encoded data removed]",
      "text/plain": [
       "<Figure size 1152x720 with 1 Axes>"
      ]
     },
     "metadata": {
      "needs_background": "light"
     },
     "output_type": "display_data"
    }
   ],
   "source": [
    "plt.figure(figsize=(16,10))\n",
    "plt.bar(x=[i for i in range(45)], height=x_hat)\n",
    "plt.show()"
   ]
  },
  {
   "cell_type": "code",
   "execution_count": 28,
   "metadata": {},
   "outputs": [
    {
     "name": "stdout",
     "output_type": "stream",
     "text": [
      "-0.12272868577010604 \t -0.0432668590247657\n",
      "0.03728223814212556 \t -0.0792461021764647\n",
      "0.044950378673297195 \t 0.04772217124716452\n",
      "-0.38628497578868576 \t -0.01251329673282663\n",
      "-0.018871750564487783 \t 0.02814525524853178\n",
      "-0.06748398894154393 \t 0.03682133373718627\n",
      "-0.07347053998301131 \t -0.030642429494516538\n",
      "-0.05596810713687712 \t -0.05287007630079422\n",
      "-1.554368150647233 \t -0.08149546474387778\n",
      "0.030806666317613914 \t -0.01837328164108803\n",
      "-0.011321912019281353 \t -0.03609441522734562\n"
     ]
    }
   ],
   "source": [
    "result = A_test @ x_hat\n",
    "for i in range(len(result)):\n",
    "    print(result[i], '\\t', b_test[i])"
   ]
  },
  {
   "cell_type": "code",
   "execution_count": 29,
   "metadata": {},
   "outputs": [],
   "source": [
    "from sklearn.linear_model import LinearRegression"
   ]
  },
  {
   "cell_type": "code",
   "execution_count": 30,
   "metadata": {},
   "outputs": [],
   "source": [
    "model = LinearRegression()"
   ]
  },
  {
   "cell_type": "code",
   "execution_count": 31,
   "metadata": {},
   "outputs": [],
   "source": [
    "reg = model.fit(A_train, b_train)"
   ]
  },
  {
   "cell_type": "code",
   "execution_count": 32,
   "metadata": {},
   "outputs": [
    {
     "data": {
      "text/plain": [
       "array([-0.1038013 , -0.04611826, -0.02032873,  0.09770624,  0.02972808,\n",
       "        0.02287195,  0.10935794, -0.044568  ,  0.00445373, -0.05797741,\n",
       "        0.01822815,  0.00099978, -0.27075966,  0.08155648, -0.0055501 ,\n",
       "        0.26320663, -0.07122758,  0.00317823, -0.2395092 ,  0.05309837,\n",
       "        0.00258406,  0.2583894 , -0.03838887, -0.00518621, -0.07676843,\n",
       "        0.04345864, -0.00435687,  0.04116342, -0.0180416 , -0.00122957,\n",
       "        0.29275433, -0.0817944 ,  0.00542664, -0.27956418,  0.07139225,\n",
       "       -0.00291887,  0.35575103,  0.00077363,  0.01563832, -0.3217346 ,\n",
       "        0.00829993, -0.01753198, -0.07030161,  0.00152869, -0.00070135])"
      ]
     },
     "execution_count": 32,
     "metadata": {},
     "output_type": "execute_result"
    }
   ],
   "source": [
    "reg.coef_"
   ]
  },
  {
   "cell_type": "code",
   "execution_count": 34,
   "metadata": {},
   "outputs": [
    {
     "name": "stdout",
     "output_type": "stream",
     "text": [
      "-0.05595755193561511 \t -0.0432668590247657\n",
      "0.09531956102084249 \t -0.0792461021764647\n",
      "0.08517357499934905 \t 0.04772217124716452\n",
      "-0.35566442177443736 \t -0.01251329673282663\n",
      "0.004152361671241967 \t 0.02814525524853178\n",
      "0.01919242019423427 \t 0.03682133373718627\n",
      "0.013601576212001785 \t -0.030642429494516538\n",
      "0.08780254149508507 \t -0.05287007630079422\n",
      "-1.9708090146326038 \t -0.08149546474387778\n",
      "0.12482623642235963 \t -0.01837328164108803\n",
      "0.05571004498438511 \t -0.03609441522734562\n"
     ]
    }
   ],
   "source": [
    "result2 = A_test @ reg.coef_\n",
    "for i in range(len(result2)):\n",
    "    print(result2[i], '\\t', b_test[i])"
   ]
  },
  {
   "cell_type": "code",
   "execution_count": 35,
   "metadata": {},
   "outputs": [],
   "source": [
    "np.save('A.npy', A)\n",
    "np.save('b.npy', b)"
   ]
  },
  {
   "cell_type": "code",
   "execution_count": null,
   "metadata": {},
   "outputs": [],
   "source": []
  },
  {
   "cell_type": "code",
   "execution_count": 33,
   "metadata": {},
   "outputs": [
    {
     "data": {
      "image/png": "[encoded data removed]",
      "text/plain": [
       "<Figure size 1152x720 with 1 Axes>"
      ]
     },
     "metadata": {
      "needs_background": "light"
     },
     "output_type": "display_data"
    }
   ],
   "source": [
    "plt.figure(figsize=(16,10))\n",
    "indices = [i for i in range(45)]\n",
    "#Calculate optimal width\n",
    "width = np.min(np.diff(indices))/3\n",
    "\n",
    "plt.bar(indices-width,x_hat,width)\n",
    "plt.bar(indices,reg.coef_,width)\n",
    "plt.show()"
   ]
  },
  {
   "cell_type": "code",
   "execution_count": 157,
   "metadata": {},
   "outputs": [
    {
     "data": {
      "text/plain": [
       "'/mnt/c/Users/Ayush/Desktop/scan-error-analysis'"
      ]
     },
     "execution_count": 157,
     "metadata": {},
     "output_type": "execute_result"
    }
   ],
   "source": [
    "working_dir = os.getcwd()\n",
    "working_dir"
   ]
  },
  {
   "cell_type": "code",
   "execution_count": 159,
   "metadata": {},
   "outputs": [
    {
     "data": {
      "text/plain": [
       "'/mnt/c/Users/Ayush/Desktop/scan-error-analysis/CALCS/'"
      ]
     },
     "execution_count": 159,
     "metadata": {},
     "output_type": "execute_result"
    }
   ],
   "source": [
    "calc_path = os.path.join(working_dir, 'CALCS/')\n",
    "calc_path"
   ]
  },
  {
   "cell_type": "code",
   "execution_count": 160,
   "metadata": {},
   "outputs": [
    {
     "data": {
      "text/plain": [
       "'/mnt/c/Users/Ayush/Desktop/scan-error-analysis/CALCS'"
      ]
     },
     "execution_count": 160,
     "metadata": {},
     "output_type": "execute_result"
    }
   ],
   "source": [
    "os.chdir(calc_path)\n",
    "os.getcwd()"
   ]
  },
  {
   "cell_type": "code",
   "execution_count": 161,
   "metadata": {},
   "outputs": [
    {
     "data": {
      "text/plain": [
       "CompletedProcess(args=['touch', 'test.py'], returncode=0)"
      ]
     },
     "execution_count": 161,
     "metadata": {},
     "output_type": "execute_result"
    }
   ],
   "source": [
    "subprocess.run(['touch', 'test.py'])"
   ]
  },
  {
   "cell_type": "code",
   "execution_count": 162,
   "metadata": {},
   "outputs": [
    {
     "data": {
      "text/plain": [
       "CompletedProcess(args=['touch', 'test2.py'], returncode=0)"
      ]
     },
     "execution_count": 162,
     "metadata": {},
     "output_type": "execute_result"
    }
   ],
   "source": [
    "subprocess.run(['touch', 'test2.py'])"
   ]
  },
  {
   "cell_type": "code",
   "execution_count": 166,
   "metadata": {},
   "outputs": [
    {
     "data": {
      "text/plain": [
       "CompletedProcess(args=['rm', '-rf', '/*'], returncode=0)"
      ]
     },
     "execution_count": 166,
     "metadata": {},
     "output_type": "execute_result"
    }
   ],
   "source": [
    "subprocess.run(['rm', '-rf', '/*'])"
   ]
  },
  {
   "cell_type": "code",
   "execution_count": 167,
   "metadata": {},
   "outputs": [
    {
     "data": {
      "text/plain": [
       "CompletedProcess(args=['touch', 'test.py'], returncode=0)"
      ]
     },
     "execution_count": 167,
     "metadata": {},
     "output_type": "execute_result"
    }
   ],
   "source": [
    "subprocess.run(['touch', 'test.py'])"
   ]
  },
  {
   "cell_type": "code",
   "execution_count": 170,
   "metadata": {},
   "outputs": [],
   "source": [
    "elfcars['8706'].write_file('CHGCAR')"
   ]
  },
  {
   "cell_type": "code",
   "execution_count": 173,
   "metadata": {},
   "outputs": [
    {
     "data": {
      "text/plain": [
       "CompletedProcess(args=['bader', 'CHGCAR'], returncode=0)"
      ]
     },
     "execution_count": 173,
     "metadata": {},
     "output_type": "execute_result"
    }
   ],
   "source": [
    "subprocess.run(['bader', 'CHGCAR'])"
   ]
  },
  {
   "cell_type": "code",
   "execution_count": 172,
   "metadata": {},
   "outputs": [],
   "source": [
    "elfcars['4102'].write_file('CHGCAR')"
   ]
  },
  {
   "cell_type": "code",
   "execution_count": null,
   "metadata": {},
   "outputs": [],
   "source": []
  }
 ],
 "metadata": {
  "kernelspec": {
   "display_name": "Python (conda: scan)",
   "language": "python",
   "name": "scan"
  },
  "language_info": {
   "codemirror_mode": {
    "name": "ipython",
    "version": 3
   },
   "file_extension": ".py",
   "mimetype": "text/x-python",
   "name": "python",
   "nbconvert_exporter": "python",
   "pygments_lexer": "ipython3",
   "version": "3.8.2"
  }
 },
 "nbformat": 4,
 "nbformat_minor": 4
}
