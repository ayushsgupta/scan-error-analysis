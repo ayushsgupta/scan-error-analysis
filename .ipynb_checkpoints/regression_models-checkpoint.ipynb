{
 "cells": [
  {
   "cell_type": "markdown",
   "metadata": {},
   "source": [
    "# Select Regression Model and Tune Parameters"
   ]
  },
  {
   "cell_type": "code",
   "execution_count": 1,
   "metadata": {},
   "outputs": [
    {
     "name": "stderr",
     "output_type": "stream",
     "text": [
      "/home/ayush/miniconda3/envs/scan/lib/python3.8/site-packages/pymatgen/ext/matproj.py:454: DeprecationWarning:\n",
      "\n",
      "__init__ is deprecated\n",
      "MaterialsProjectCompatibility will be updated with new correction classes as well as new values of corrections and uncertainties in 2020\n",
      "\n"
     ]
    },
    {
     "name": "stdout",
     "output_type": "stream",
     "text": [
      "Imports successfully loaded\n"
     ]
    }
   ],
   "source": [
    "%run imports.py"
   ]
  },
  {
   "cell_type": "code",
   "execution_count": 2,
   "metadata": {},
   "outputs": [],
   "source": [
    "A = np.load('data/A.npy')\n",
    "b = np.load('data/b.npy')"
   ]
  },
  {
   "cell_type": "code",
   "execution_count": 3,
   "metadata": {},
   "outputs": [],
   "source": [
    "num_test = 15\n",
    "num_train = len(b) - num_test"
   ]
  },
  {
   "cell_type": "code",
   "execution_count": 4,
   "metadata": {},
   "outputs": [],
   "source": [
    "A_train, A_test = A[:num_train], A[num_train:]\n",
    "b_train, b_test = b[:num_train], b[num_train:]"
   ]
  },
  {
   "cell_type": "code",
   "execution_count": 5,
   "metadata": {},
   "outputs": [
    {
     "data": {
      "text/plain": [
       "((126, 36), (126,))"
      ]
     },
     "execution_count": 5,
     "metadata": {},
     "output_type": "execute_result"
    }
   ],
   "source": [
    "A_train.shape, b_train.shape"
   ]
  },
  {
   "cell_type": "code",
   "execution_count": 6,
   "metadata": {},
   "outputs": [],
   "source": [
    "def train_model(model_class, A_train, b_train, A_test):\n",
    "    model = model_class()\n",
    "    model.fit(A_train, b_train)\n",
    "    return model.predict(A_test)"
   ]
  },
  {
   "cell_type": "code",
   "execution_count": 7,
   "metadata": {},
   "outputs": [],
   "source": [
    "from sklearn.linear_model import LinearRegression, SGDRegressor, Ridge, Lasso, ElasticNet\n",
    "from sklearn.tree import DecisionTreeRegressor\n",
    "from sklearn.ensemble import RandomForestRegressor, GradientBoostingRegressor"
   ]
  },
  {
   "cell_type": "code",
   "execution_count": 8,
   "metadata": {},
   "outputs": [],
   "source": [
    "models = ['LinearRegression', \n",
    "          'ElasticNet', \n",
    "          'DecisionTreeRegressor', \n",
    "          'RandomForestRegressor',\n",
    "          'GradientBoostingRegressor']\n",
    "model_classes = [eval(m) for m in models]"
   ]
  },
  {
   "cell_type": "code",
   "execution_count": 9,
   "metadata": {},
   "outputs": [
    {
     "data": {
      "text/plain": [
       "array([ 1.23529230e-01, -1.85485232e-01,  6.74363074e-04, -1.50845447e-01,\n",
       "       -1.91133944e-01, -1.05627549e-01, -7.22331209e+00, -6.74784249e-02,\n",
       "       -1.55954752e-01, -7.52045575e-02, -1.12895383e-01,  2.33637409e-02,\n",
       "        1.33626789e-01,  9.48095148e-02,  3.31450581e-02])"
      ]
     },
     "execution_count": 9,
     "metadata": {},
     "output_type": "execute_result"
    }
   ],
   "source": [
    "train_model(LinearRegression, A_train, b_train, A_test)"
   ]
  },
  {
   "cell_type": "code",
   "execution_count": 10,
   "metadata": {},
   "outputs": [
    {
     "name": "stderr",
     "output_type": "stream",
     "text": [
      "/home/ayush/miniconda3/envs/scan/lib/python3.8/site-packages/sklearn/linear_model/_coordinate_descent.py:474: ConvergenceWarning:\n",
      "\n",
      "Objective did not converge. You might want to increase the number of iterations. Duality gap: 0.6795277561821231, tolerance: 0.0002032525613936178\n",
      "\n"
     ]
    }
   ],
   "source": [
    "predictions = []\n",
    "\n",
    "for m in model_classes:\n",
    "    predictions.append(train_model(m, A_train, b_train, A_test))"
   ]
  },
  {
   "cell_type": "code",
   "execution_count": 11,
   "metadata": {},
   "outputs": [],
   "source": [
    "errors = []\n",
    "for p in predictions:\n",
    "    errors.append(b_test - p)\n",
    "    \n",
    "error_mags = [np.linalg.norm(e) for e in errors]"
   ]
  },
  {
   "cell_type": "code",
   "execution_count": 12,
   "metadata": {},
   "outputs": [
    {
     "data": {
      "image/png": "[encoded data removed]",
      "text/plain": [
       "<Figure size 864x504 with 1 Axes>"
      ]
     },
     "metadata": {
      "needs_background": "light"
     },
     "output_type": "display_data"
    }
   ],
   "source": [
    "x_pos = [i for i, _ in enumerate(models)]\n",
    "\n",
    "plt.figure(figsize=(12,7))\n",
    "plt.bar(x_pos, error_mags)\n",
    "plt.xlabel(\"Model\")\n",
    "plt.ylabel(\"Norm[e]\")\n",
    "plt.title(\"Accuracy of various machine learning models\")\n",
    "\n",
    "plt.xticks(x_pos, models)\n",
    "plt.show()"
   ]
  },
  {
   "cell_type": "code",
   "execution_count": 13,
   "metadata": {},
   "outputs": [
    {
     "data": {
      "text/plain": [
       "array([-0.05639822,  0.14093029, -0.04391153,  0.13651921,  0.14786709,\n",
       "        0.02638145,  7.27103426,  0.05496513,  0.18410001,  0.11202589,\n",
       "        0.08225295, -0.07623382, -0.21512225, -0.1131828 , -0.06923947])"
      ]
     },
     "execution_count": 13,
     "metadata": {},
     "output_type": "execute_result"
    }
   ],
   "source": [
    "errors[0]"
   ]
  },
  {
   "cell_type": "code",
   "execution_count": 20,
   "metadata": {},
   "outputs": [
    {
     "name": "stdout",
     "output_type": "stream",
     "text": [
      "Model with lowest error is: RandomForestRegressor\n"
     ]
    }
   ],
   "source": [
    "print('Model with lowest error is:', models[np.argmin(error_mags)])"
   ]
  },
  {
   "cell_type": "code",
   "execution_count": 14,
   "metadata": {},
   "outputs": [
    {
     "data": {
      "text/plain": [
       "array([ 0.09897828, -0.00057343,  0.00360338,  0.07337534,  0.04868633,\n",
       "        0.0174935 ,  0.07270046,  0.02167943,  0.07681044,  0.06302004,\n",
       "        0.0306903 , -0.0087789 , -0.00086142,  0.02333913, -0.00665972])"
      ]
     },
     "execution_count": 14,
     "metadata": {},
     "output_type": "execute_result"
    }
   ],
   "source": [
    "errors[np.argmin(error_mags)]"
   ]
  },
  {
   "cell_type": "code",
   "execution_count": 15,
   "metadata": {},
   "outputs": [],
   "source": [
    "from sklearn.model_selection import cross_val_score\n",
    "\n",
    "def cv_model(model_class, A_train, b_train):\n",
    "    model = model_class()\n",
    "    scores = cross_val_score(model, A_train, b_train, scoring=\"neg_mean_squared_error\", cv=10)\n",
    "    return scores"
   ]
  },
  {
   "cell_type": "code",
   "execution_count": 16,
   "metadata": {
    "scrolled": true
   },
   "outputs": [
    {
     "name": "stderr",
     "output_type": "stream",
     "text": [
      "/home/ayush/miniconda3/envs/scan/lib/python3.8/site-packages/sklearn/linear_model/_coordinate_descent.py:474: ConvergenceWarning:\n",
      "\n",
      "Objective did not converge. You might want to increase the number of iterations. Duality gap: 0.5016836022158657, tolerance: 0.00016677164530139166\n",
      "\n",
      "/home/ayush/miniconda3/envs/scan/lib/python3.8/site-packages/sklearn/linear_model/_coordinate_descent.py:474: ConvergenceWarning:\n",
      "\n",
      "Objective did not converge. You might want to increase the number of iterations. Duality gap: 0.6714815394842943, tolerance: 0.00020042044486602096\n",
      "\n",
      "/home/ayush/miniconda3/envs/scan/lib/python3.8/site-packages/sklearn/linear_model/_coordinate_descent.py:474: ConvergenceWarning:\n",
      "\n",
      "Objective did not converge. You might want to increase the number of iterations. Duality gap: 0.6265270909959334, tolerance: 0.00015125032485299324\n",
      "\n",
      "/home/ayush/miniconda3/envs/scan/lib/python3.8/site-packages/sklearn/linear_model/_coordinate_descent.py:474: ConvergenceWarning:\n",
      "\n",
      "Objective did not converge. You might want to increase the number of iterations. Duality gap: 0.6471603388980292, tolerance: 0.0001981408358410968\n",
      "\n",
      "/home/ayush/miniconda3/envs/scan/lib/python3.8/site-packages/sklearn/linear_model/_coordinate_descent.py:474: ConvergenceWarning:\n",
      "\n",
      "Objective did not converge. You might want to increase the number of iterations. Duality gap: 0.6684759430229925, tolerance: 0.0002016312831230749\n",
      "\n",
      "/home/ayush/miniconda3/envs/scan/lib/python3.8/site-packages/sklearn/linear_model/_coordinate_descent.py:474: ConvergenceWarning:\n",
      "\n",
      "Objective did not converge. You might want to increase the number of iterations. Duality gap: 0.6089625282145381, tolerance: 0.00018961260788341177\n",
      "\n",
      "/home/ayush/miniconda3/envs/scan/lib/python3.8/site-packages/sklearn/linear_model/_coordinate_descent.py:474: ConvergenceWarning:\n",
      "\n",
      "Objective did not converge. You might want to increase the number of iterations. Duality gap: 0.5035236132370097, tolerance: 0.00015715560423714214\n",
      "\n",
      "/home/ayush/miniconda3/envs/scan/lib/python3.8/site-packages/sklearn/linear_model/_coordinate_descent.py:474: ConvergenceWarning:\n",
      "\n",
      "Objective did not converge. You might want to increase the number of iterations. Duality gap: 0.574427058030524, tolerance: 0.00017261140682778216\n",
      "\n",
      "/home/ayush/miniconda3/envs/scan/lib/python3.8/site-packages/sklearn/linear_model/_coordinate_descent.py:474: ConvergenceWarning:\n",
      "\n",
      "Objective did not converge. You might want to increase the number of iterations. Duality gap: 0.6779234270324949, tolerance: 0.0001999735672567192\n",
      "\n",
      "/home/ayush/miniconda3/envs/scan/lib/python3.8/site-packages/sklearn/linear_model/_coordinate_descent.py:474: ConvergenceWarning:\n",
      "\n",
      "Objective did not converge. You might want to increase the number of iterations. Duality gap: 0.5598940205002935, tolerance: 0.00019031646311433196\n",
      "\n"
     ]
    }
   ],
   "source": [
    "cv_scores = [cv_model(m, A_train, b_train) for m in model_classes]"
   ]
  },
  {
   "cell_type": "code",
   "execution_count": 17,
   "metadata": {},
   "outputs": [
    {
     "name": "stdout",
     "output_type": "stream",
     "text": [
      "[array([-4.51389748e-02, -3.12492380e-03, -5.39737149e+05, -4.56955514e-03,\n",
      "       -1.68245425e-02, -9.30943221e-03, -3.23915668e-02, -2.52490616e+04,\n",
      "       -1.38579773e+03, -1.38889739e-02]),\n",
      " array([-0.02861274, -0.00155417, -0.02783677, -0.00534601, -0.00194422,\n",
      "       -0.01296946, -0.03411905, -0.01907077, -0.00212744, -0.02526017]),\n",
      " array([-0.01724776, -0.04863161, -0.01865852, -0.01081798, -0.00095208,\n",
      "       -0.02666545, -0.0186177 , -0.05615292, -0.01282577, -0.02461462]),\n",
      " array([-0.0221861 , -0.00838478, -0.02433265, -0.00278158, -0.00159716,\n",
      "       -0.01189536, -0.01745312, -0.02753371, -0.00531709, -0.02123037]),\n",
      " array([-0.0270175 , -0.00648232, -0.02246122, -0.00345091, -0.00127698,\n",
      "       -0.01454127, -0.01770931, -0.02298268, -0.00954745, -0.02041446])]\n"
     ]
    }
   ],
   "source": [
    "pprint(cv_scores)"
   ]
  },
  {
   "cell_type": "code",
   "execution_count": 18,
   "metadata": {},
   "outputs": [
    {
     "data": {
      "text/plain": [
       "[540329.1821863868,\n",
       " 0.06298382965980026,\n",
       " 0.0900543709029356,\n",
       " 0.05336768512222879,\n",
       " 0.053396508427001214]"
      ]
     },
     "execution_count": 18,
     "metadata": {},
     "output_type": "execute_result"
    }
   ],
   "source": [
    "[np.linalg.norm(cv) for cv in cv_scores]"
   ]
  },
  {
   "cell_type": "code",
   "execution_count": 21,
   "metadata": {},
   "outputs": [
    {
     "data": {
      "text/plain": [
       "GridSearchCV(cv=10, error_score=nan,\n",
       "             estimator=RandomForestRegressor(bootstrap=True, ccp_alpha=0.0,\n",
       "                                             criterion='mse', max_depth=None,\n",
       "                                             max_features='auto',\n",
       "                                             max_leaf_nodes=None,\n",
       "                                             max_samples=None,\n",
       "                                             min_impurity_decrease=0.0,\n",
       "                                             min_impurity_split=None,\n",
       "                                             min_samples_leaf=1,\n",
       "                                             min_samples_split=2,\n",
       "                                             min_weight_fraction_leaf=0.0,\n",
       "                                             n_estimators=100, n_jobs=None,\n",
       "                                             oob_score=False, random_state=None,\n",
       "                                             verbose=0, warm_start=False),\n",
       "             iid='deprecated', n_jobs=None,\n",
       "             param_grid={'max_depth': [2, 8, 100, None],\n",
       "                         'n_estimators': [10, 100, 1000],\n",
       "                         'warm_start': [False, True]},\n",
       "             pre_dispatch='2*n_jobs', refit=True, return_train_score=False,\n",
       "             scoring='neg_mean_squared_error', verbose=0)"
      ]
     },
     "execution_count": 21,
     "metadata": {},
     "output_type": "execute_result"
    }
   ],
   "source": [
    "from sklearn.model_selection import GridSearchCV\n",
    "\n",
    "param_grid = {'n_estimators': [10, 100, 1000], \n",
    "              'max_depth': [2, 8, 100, None], \n",
    "              'warm_start': [False, True]}\n",
    "\n",
    "forest_reg = RandomForestRegressor()\n",
    "grid_search = GridSearchCV(forest_reg, param_grid, cv=10, scoring='neg_mean_squared_error')\n",
    "grid_search.fit(A_train, b_train)"
   ]
  },
  {
   "cell_type": "code",
   "execution_count": 22,
   "metadata": {},
   "outputs": [
    {
     "data": {
      "text/plain": [
       "{'max_depth': 100, 'n_estimators': 10, 'warm_start': True}"
      ]
     },
     "execution_count": 22,
     "metadata": {},
     "output_type": "execute_result"
    }
   ],
   "source": [
    "grid_search.best_params_"
   ]
  },
  {
   "cell_type": "code",
   "execution_count": 27,
   "metadata": {},
   "outputs": [],
   "source": [
    "optimized_forest = RandomForestRegressor(max_depth=100, n_estimators=10, warm_start=True)"
   ]
  },
  {
   "cell_type": "code",
   "execution_count": 28,
   "metadata": {},
   "outputs": [
    {
     "data": {
      "text/plain": [
       "RandomForestRegressor(bootstrap=True, ccp_alpha=0.0, criterion='mse',\n",
       "                      max_depth=100, max_features='auto', max_leaf_nodes=None,\n",
       "                      max_samples=None, min_impurity_decrease=0.0,\n",
       "                      min_impurity_split=None, min_samples_leaf=1,\n",
       "                      min_samples_split=2, min_weight_fraction_leaf=0.0,\n",
       "                      n_estimators=10, n_jobs=None, oob_score=False,\n",
       "                      random_state=None, verbose=0, warm_start=True)"
      ]
     },
     "execution_count": 28,
     "metadata": {},
     "output_type": "execute_result"
    }
   ],
   "source": [
    "optimized_forest.fit(A_train, b_train)"
   ]
  },
  {
   "cell_type": "code",
   "execution_count": 29,
   "metadata": {},
   "outputs": [],
   "source": [
    "prediction = optimized_forest.predict(A_test)"
   ]
  },
  {
   "cell_type": "code",
   "execution_count": 30,
   "metadata": {},
   "outputs": [
    {
     "name": "stdout",
     "output_type": "stream",
     "text": [
      "-0.007456780801520617 \t 0.06713100550825112\n",
      "-0.09780131030730724 \t -0.044554937833480544\n",
      "-0.03639752956135733 \t -0.043237167516557116\n",
      "-0.05577590770647798 \t -0.014326237891662895\n",
      "-0.04428190903071988 \t -0.0432668590247657\n",
      "-0.10046452903975359 \t -0.0792461021764647\n",
      "-0.06327941850145778 \t 0.04772217124716452\n",
      "-0.013771003202274295 \t -0.01251329673282663\n",
      "-0.046876324837622094 \t 0.02814525524853178\n",
      "-0.0346219044320613 \t 0.03682133373718627\n",
      "-0.04495918423250507 \t -0.030642429494516538\n",
      "-0.07906193072013497 \t -0.05287007630079422\n",
      "-0.01081720849873211 \t -0.08149546474387778\n",
      "-0.03708328017116005 \t -0.01837328164108803\n",
      "-0.02917866335969386 \t -0.03609441522734562\n"
     ]
    }
   ],
   "source": [
    "for i in range(len(prediction)):\n",
    "    print(prediction[i], '\\t', b_test[i])"
   ]
  },
  {
   "cell_type": "code",
   "execution_count": null,
   "metadata": {},
   "outputs": [],
   "source": []
  }
 ],
 "metadata": {
  "kernelspec": {
   "display_name": "Python (conda: scan)",
   "language": "python",
   "name": "scan"
  },
  "language_info": {
   "codemirror_mode": {
    "name": "ipython",
    "version": 3
   },
   "file_extension": ".py",
   "mimetype": "text/x-python",
   "name": "python",
   "nbconvert_exporter": "python",
   "pygments_lexer": "ipython3",
   "version": "3.8.2"
  }
 },
 "nbformat": 4,
 "nbformat_minor": 4
}
