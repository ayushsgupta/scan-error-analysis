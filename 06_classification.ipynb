{
 "cells": [
  {
   "cell_type": "code",
   "execution_count": 1,
   "metadata": {},
   "outputs": [
    {
     "name": "stderr",
     "output_type": "stream",
     "text": [
      "/home/ayush/miniconda3/envs/scan/lib/python3.8/site-packages/pymatgen/ext/matproj.py:454: DeprecationWarning:\n",
      "\n",
      "__init__ is deprecated\n",
      "MaterialsProjectCompatibility will be updated with new correction classes as well as new values of corrections and uncertainties in 2020\n",
      "\n"
     ]
    },
    {
     "name": "stdout",
     "output_type": "stream",
     "text": [
      "Imports successfully loaded\n"
     ]
    }
   ],
   "source": [
    "%run imports.py"
   ]
  },
  {
   "cell_type": "code",
   "execution_count": 2,
   "metadata": {},
   "outputs": [],
   "source": [
    "A = np.load('data/A.npy')\n",
    "A_scaled = np.load('data/A_scaled.npy')\n",
    "b = np.load('data/b.npy')\n",
    "b = np.abs(b) > 0.04"
   ]
  },
  {
   "cell_type": "code",
   "execution_count": 3,
   "metadata": {},
   "outputs": [
    {
     "name": "stdout",
     "output_type": "stream",
     "text": [
      "426 total data points, 383 (90%) used for model development\n"
     ]
    }
   ],
   "source": [
    "N = A.shape[0]\n",
    "n = int(0.9*N)\n",
    "print(N, 'total data points,', n, '(90%) used for model development')\n",
    "A_train, A_test = A_scaled[:n], A_scaled[n:]\n",
    "b_train, b_test = b[:n], b[n:]"
   ]
  },
  {
   "cell_type": "code",
   "execution_count": 4,
   "metadata": {},
   "outputs": [
    {
     "data": {
      "text/plain": [
       "0.6976744186046512"
      ]
     },
     "execution_count": 4,
     "metadata": {},
     "output_type": "execute_result"
    }
   ],
   "source": [
    "classifier = RandomForestClassifier()\n",
    "classifier.fit(A_train, b_train)\n",
    "accuracy_score(classifier.predict(A_test), b_test)"
   ]
  },
  {
   "cell_type": "code",
   "execution_count": 5,
   "metadata": {},
   "outputs": [
    {
     "name": "stdout",
     "output_type": "stream",
     "text": [
      "{'max_depth': 2, 'n_estimators': 10}\n"
     ]
    }
   ],
   "source": [
    "forest_classifier = RandomForestClassifier()\n",
    "parameters = {'n_estimators': [10, 100, 1000], \n",
    "              'max_depth': [2, 8, 128, None]}\n",
    "grid_search = GridSearchCV(forest_classifier, parameters, cv=10, scoring=make_scorer(accuracy_score))\n",
    "grid_search.fit(A_train, b_train)\n",
    "print(grid_search.best_params_)"
   ]
  },
  {
   "cell_type": "code",
   "execution_count": 6,
   "metadata": {},
   "outputs": [
    {
     "data": {
      "text/plain": [
       "0.6976744186046512"
      ]
     },
     "execution_count": 6,
     "metadata": {},
     "output_type": "execute_result"
    }
   ],
   "source": [
    "optimized_classifier = RandomForestClassifier(max_depth=2, n_estimators=100)\n",
    "optimized_classifier.fit(A_train, b_train)\n",
    "accuracy_score(optimized_classifier.predict(A_test), b_test)"
   ]
  },
  {
   "cell_type": "code",
   "execution_count": 7,
   "metadata": {},
   "outputs": [
    {
     "name": "stdout",
     "output_type": "stream",
     "text": [
      "Accuracy: 0.68 (+/- 0.06)\n"
     ]
    }
   ],
   "source": [
    "cv_scores = cross_val_score(RandomForestClassifier(), A_train, b_train, cv=10)\n",
    "print(\"Accuracy: %0.2f (+/- %0.2f)\" % (cv_scores.mean(), cv_scores.std() * 2))"
   ]
  },
  {
   "cell_type": "code",
   "execution_count": 8,
   "metadata": {},
   "outputs": [],
   "source": [
    "feature_labels = []\n",
    "for i in range(1, 13):\n",
    "    feature_labels += ['Well {} mean'.format(i), 'Well {} std'.format(i), 'Well {} max'.format(i)]\n",
    "feature_labels += ['Squared mean difference of means', \n",
    "                   'Squared mean difference of stds', \n",
    "                   'Squared mean difference of maxes']"
   ]
  },
  {
   "cell_type": "code",
   "execution_count": 9,
   "metadata": {},
   "outputs": [],
   "source": [
    "%run classifiers.py"
   ]
  },
  {
   "cell_type": "code",
   "execution_count": 10,
   "metadata": {},
   "outputs": [
    {
     "name": "stdout",
     "output_type": "stream",
     "text": [
      "0.7389033942558747\n",
      "0.7336814621409922\n",
      "0.7336814621409922\n",
      "0.7362924281984334\n",
      "0.7362924281984334\n",
      "0.7336814621409922\n",
      "0.7362924281984334\n",
      "0.7389033942558747\n",
      "0.7362924281984334\n",
      "0.741514360313316\n",
      "0.7389033942558747\n",
      "0.7389033942558747\n",
      "0.7389033942558747\n",
      "0.7441253263707572\n",
      "0.7441253263707572\n",
      "0.741514360313316\n",
      "0.7389033942558747\n",
      "0.7362924281984334\n",
      "0.7336814621409922\n",
      "0.7336814621409922\n",
      "0.7336814621409922\n",
      "0.7336814621409922\n",
      "0.7336814621409922\n",
      "0.7362924281984334\n",
      "0.7362924281984334\n",
      "0.7362924281984334\n",
      "0.7362924281984334\n",
      "0.7362924281984334\n",
      "0.7336814621409922\n",
      "0.7336814621409922\n",
      "0.7310704960835509\n",
      "0.7310704960835509\n",
      "0.7310704960835509\n",
      "0.7310704960835509\n",
      "0.7310704960835509\n",
      "0.7336814621409922\n",
      "0.7362924281984334\n",
      "0.7362924281984334\n",
      "0.7336814621409922\n",
      "0.7310704960835509\n",
      "[ 0.00522193  0.00522193  0.00261097  0.00261097  0.00522193  0.00261097\n",
      "  0.          0.00261097 -0.00261097  0.          0.          0.\n",
      " -0.00522193 -0.00522193 -0.00261097  0.          0.00261097  0.00522193\n",
      "  0.00522193  0.00522193  0.00522193  0.00522193  0.00261097  0.00261097\n",
      "  0.00261097  0.00261097  0.00261097  0.00522193  0.00522193  0.0078329\n",
      "  0.0078329   0.0078329   0.0078329   0.0078329   0.00522193  0.00261097\n",
      "  0.00261097  0.00522193  0.0078329 ]\n"
     ]
    }
   ],
   "source": [
    "imps = dropcol_importances(optimized_classifier, A_train, b_train)\n",
    "print(imps)"
   ]
  },
  {
   "cell_type": "code",
   "execution_count": 11,
   "metadata": {},
   "outputs": [
    {
     "name": "stdout",
     "output_type": "stream",
     "text": [
      "0.6997389033942559\n",
      "0.6997389033942559\n",
      "0.7023498694516971\n",
      "0.7049608355091384\n",
      "0.6971279373368147\n",
      "0.6997389033942559\n",
      "0.6997389033942559\n",
      "0.6971279373368147\n",
      "0.7023498694516971\n",
      "0.7023498694516971\n",
      "0.6945169712793734\n",
      "0.6997389033942559\n",
      "0.6997389033942559\n",
      "0.7023498694516971\n",
      "0.6997389033942559\n",
      "0.6997389033942559\n",
      "0.6971279373368147\n",
      "0.6997389033942559\n",
      "0.6997389033942559\n",
      "0.6997389033942559\n",
      "0.7023498694516971\n",
      "0.6997389033942559\n",
      "0.6971279373368147\n",
      "0.6997389033942559\n",
      "0.6997389033942559\n",
      "0.6971279373368147\n",
      "0.7049608355091384\n",
      "0.6997389033942559\n",
      "0.6971279373368147\n",
      "0.6997389033942559\n",
      "0.6971279373368147\n",
      "0.7023498694516971\n",
      "0.6971279373368147\n",
      "0.7023498694516971\n",
      "0.6945169712793734\n",
      "0.6971279373368147\n",
      "0.6997389033942559\n",
      "0.6971279373368147\n",
      "0.6997389033942559\n",
      "0.6997389033942559\n",
      "[ 0.         -0.00261097 -0.00522193  0.00261097  0.          0.\n",
      "  0.00261097 -0.00261097 -0.00261097  0.00522193  0.          0.\n",
      " -0.00261097  0.          0.          0.00261097  0.          0.\n",
      "  0.         -0.00261097  0.          0.00261097  0.          0.\n",
      "  0.00261097 -0.00522193  0.          0.00261097  0.          0.00261097\n",
      " -0.00261097  0.00261097 -0.00261097  0.00522193  0.00261097  0.\n",
      "  0.00261097  0.          0.        ]\n"
     ]
    }
   ],
   "source": [
    "imps2 = permutation_importances(optimized_classifier, A_train, b_train, oob_classifier_accuracy)\n",
    "print(imps2)"
   ]
  },
  {
   "cell_type": "code",
   "execution_count": 12,
   "metadata": {},
   "outputs": [],
   "source": [
    "def plot_importances(imps):\n",
    "    xvals = [i for i in range(39)]\n",
    "    plt.rcParams['figure.figsize'] = [12, 8]\n",
    "    plt.bar(xvals, height=imps)\n",
    "    plt.xticks(xvals, feature_labels, rotation=90)\n",
    "    plt.show()"
   ]
  },
  {
   "cell_type": "code",
   "execution_count": 13,
   "metadata": {},
   "outputs": [
    {
     "data": {
      "image/png": "[encoded data removed]",
      "text/plain": [
       "<Figure size 864x576 with 1 Axes>"
      ]
     },
     "metadata": {
      "needs_background": "light"
     },
     "output_type": "display_data"
    },
    {
     "data": {
      "image/png": "[encoded data removed]",
      "text/plain": [
       "<Figure size 864x576 with 1 Axes>"
      ]
     },
     "metadata": {
      "needs_background": "light"
     },
     "output_type": "display_data"
    }
   ],
   "source": [
    "plot_importances(imps)\n",
    "plot_importances(imps2)"
   ]
  },
  {
   "cell_type": "code",
   "execution_count": 14,
   "metadata": {},
   "outputs": [],
   "source": [
    "embedded = TSNE(n_components=3).fit_transform(A_train)"
   ]
  },
  {
   "cell_type": "code",
   "execution_count": 15,
   "metadata": {},
   "outputs": [],
   "source": [
    "trues_x, trues_y, trues_z, falses_x, falses_y, falses_z = [], [], [], [], [], []\n",
    "for i in range(len(embedded)):\n",
    "    if b_train[i]:\n",
    "        trues_x.append(embedded[i][0])\n",
    "        trues_y.append(embedded[i][1])\n",
    "        trues_z.append(embedded[i][2])\n",
    "    else:\n",
    "        falses_x.append(embedded[i][0])\n",
    "        falses_y.append(embedded[i][1])\n",
    "        falses_z.append(embedded[i][2])"
   ]
  },
  {
   "cell_type": "code",
   "execution_count": 18,
   "metadata": {},
   "outputs": [
    {
     "data": {
      "application/vnd.plotly.v1+json": {
       "config": {
        "plotlyServerURL": "https://plot.ly"
       },
       "data": [
        {
         "mode": "markers",
         "name": "high error",
         "type": "scatter3d",
         "x": [
          65.18180084228516,
          30.550317764282227,
          -101.07420349121094,
          -99.537841796875,
          -62.16899871826172,
          43.70207595825195,
          -112.12970733642578,
          -45.2724494934082,
          49.26953887939453,
          -98.38703918457031,
          -131.48110961914062,
          -19.512113571166992,
          60.1358642578125,
          -130.95785522460938,
          65.274658203125,
          118.15179443359375,
          -107.55884552001953,
          -30.226917266845703,
          39.4157829284668,
          -45.959510803222656,
          -3.3037893772125244,
          59.4079475402832,
          58.37343215942383,
          72.39051055908203,
          -13.918709754943848,
          -0.6126784086227417,
          -22.94391441345215,
          -124.18549346923828,
          108.18892669677734,
          85.79024505615234,
          118.6384506225586,
          -3.883960723876953,
          44.85673904418945,
          23.222171783447266,
          -11.985127449035645,
          -7.348713397979736,
          31.375377655029297,
          20.81543731689453,
          76.63463592529297,
          18.12322425842285,
          120.44478607177734,
          -17.752187728881836,
          -51.21199035644531,
          -63.899505615234375,
          81.74142456054688,
          12.46337604522705,
          77.93217468261719,
          -56.56821060180664,
          45.006107330322266,
          49.4045295715332,
          -28.945819854736328,
          59.598934173583984,
          17.782766342163086,
          77.65254211425781,
          78.72399139404297,
          26.016048431396484,
          -85.49964904785156,
          71.16543579101562,
          -70.53827667236328,
          84.881591796875,
          -141.94129943847656,
          -152.6101531982422,
          -5.8903913497924805,
          -2.128312826156616,
          -4.760944843292236,
          120.00607299804688,
          57.49369812011719,
          36.99168014526367,
          -67.29727172851562,
          57.98145294189453,
          -71.636474609375,
          21.27947235107422,
          37.76860046386719,
          -40.2159423828125,
          10.772013664245605,
          21.972978591918945,
          7.785384654998779,
          -6.581540107727051,
          61.876670837402344,
          45.76143264770508,
          122.99732208251953,
          -33.2866325378418,
          -33.169586181640625,
          52.511619567871094,
          6.314137935638428,
          -77.3411865234375,
          -25.09346580505371,
          -34.64811325073242,
          -113.5600814819336,
          -47.0291862487793,
          21.129785537719727,
          -21.006166458129883,
          85.8454818725586,
          106.86778259277344,
          -18.268131256103516,
          -1.3055003881454468,
          6.717160224914551,
          14.449251174926758,
          42.16161346435547,
          -11.790543556213379,
          -9.323535919189453,
          95.4643325805664,
          -55.8359260559082,
          21.013044357299805,
          -28.394161224365234,
          -78.24118041992188,
          -96.8604736328125,
          14.422868728637695,
          4.028005599975586,
          34.00174331665039,
          -55.42786407470703,
          -47.29304122924805,
          46.586544036865234,
          0.4205205738544464,
          9.426936149597168,
          105.13914489746094,
          17.857133865356445,
          45.827117919921875,
          -53.41771697998047,
          -80.08199310302734,
          33.1817741394043,
          -20.414752960205078,
          12.742270469665527,
          -30.47391700744629,
          -87.6350326538086,
          87.22191619873047,
          -92.22516632080078,
          13.962902069091797,
          0.29144999384880066,
          92.00682830810547,
          4.995881080627441,
          -44.448516845703125,
          44.75253677368164,
          -63.63491439819336,
          22.168607711791992,
          14.745284080505371,
          59.78672409057617,
          122.14059448242188,
          89.26575469970703,
          -126.1941909790039,
          43.618675231933594,
          -81.09706115722656,
          -17.851394653320312,
          -89.55569458007812,
          -106.89994812011719,
          88.76789093017578,
          9.196708679199219,
          4.330750465393066,
          2.4213194847106934,
          68.05988311767578,
          100.86113739013672,
          -51.683685302734375,
          -64.99315643310547,
          -86.44580841064453,
          106.66374206542969,
          -15.3402099609375,
          23.712106704711914,
          96.59464263916016,
          45.53005599975586,
          -101.54312133789062,
          0.8872600793838501,
          98.08274841308594,
          -37.909114837646484,
          98.05097198486328,
          -11.40598201751709,
          95.20043182373047,
          76.72911834716797,
          -79.2423324584961,
          -79.80724334716797,
          11.452645301818848,
          -61.833213806152344,
          -59.70985794067383,
          -16.184818267822266,
          -23.630821228027344,
          -96.94609069824219,
          -44.685821533203125,
          42.211177825927734,
          -113.41776275634766,
          -9.419419288635254,
          -74.96053314208984,
          104.70842742919922,
          21.50282859802246,
          -1.182330846786499,
          129.95932006835938,
          -57.59772872924805,
          33.79573440551758,
          42.73857116699219,
          56.979774475097656,
          65.46206665039062,
          -74.5556411743164,
          -113.57144927978516,
          -117.55377960205078,
          68.24248504638672,
          81.15422058105469,
          53.451019287109375,
          -26.328336715698242,
          -31.85293197631836,
          -18.266504287719727,
          -30.482709884643555,
          58.46765899658203,
          -2.4371135234832764,
          -150.5302734375,
          -78.03728485107422,
          -31.11524772644043,
          35.467952728271484,
          -34.94986343383789,
          56.99053192138672,
          28.103315353393555,
          -95.55866241455078,
          -48.746498107910156,
          -13.946538925170898,
          5.317047119140625,
          33.49456787109375,
          13.836360931396484,
          -18.86627769470215,
          26.778491973876953,
          40.65182876586914,
          77.42588806152344,
          105.11156463623047,
          49.09442901611328,
          47.61774444580078,
          85.40799713134766,
          -81.59241485595703,
          5.173884391784668,
          57.34049606323242,
          -82.28978729248047,
          -40.63762283325195,
          -3.0883660316467285,
          100.41141510009766,
          36.125789642333984,
          -2.030158519744873,
          14.732264518737793,
          -32.30791473388672,
          -43.03202819824219,
          -71.09031677246094,
          -9.651134490966797,
          -82.7493896484375,
          32.57053756713867,
          43.886871337890625,
          45.425689697265625,
          81.7856674194336,
          -31.991188049316406,
          58.781288146972656,
          100.58335876464844,
          63.27126693725586,
          -74.70216369628906,
          -83.54096221923828,
          118.6042251586914,
          -21.362546920776367,
          -25.704439163208008,
          -48.481788635253906,
          -96.9411849975586,
          -15.1801176071167,
          40.48344039916992,
          72.39933776855469,
          46.54142379760742,
          -38.043983459472656,
          6.778314590454102,
          -5.6398091316223145,
          -85.59978485107422,
          -113.21453857421875,
          7.096713542938232,
          -121.88726806640625,
          -91.10856628417969,
          -72.63548278808594,
          48.52859878540039,
          -61.6568717956543,
          -56.73481369018555,
          -32.91818618774414,
          -40.52999496459961,
          8.324891090393066,
          100.11611938476562,
          -7.468069076538086,
          117.27535247802734
         ],
         "y": [
          103.57190704345703,
          80.00419616699219,
          17.33040428161621,
          -12.447186470031738,
          -32.811492919921875,
          -80.46565246582031,
          -50.398067474365234,
          -79.68282318115234,
          43.14820861816406,
          35.44868850708008,
          -5.730114936828613,
          -60.50307846069336,
          -27.297822952270508,
          6.312148094177246,
          -44.08428955078125,
          -58.69451904296875,
          -24.88378143310547,
          -37.80768585205078,
          61.95723342895508,
          -40.85865783691406,
          25.247812271118164,
          86.94412231445312,
          -22.355873107910156,
          -11.824399948120117,
          -10.447746276855469,
          9.626358985900879,
          66.292724609375,
          -36.840553283691406,
          -35.2039794921875,
          -16.425376892089844,
          -10.190291404724121,
          -33.10957717895508,
          -40.339256286621094,
          -50.85410690307617,
          -6.8475236892700195,
          -29.002500534057617,
          22.793109893798828,
          145.19308471679688,
          22.228639602661133,
          59.16613006591797,
          29.939897537231445,
          -70.22027587890625,
          5.7879838943481445,
          22.90584373474121,
          23.293031692504883,
          -52.78882598876953,
          -26.10588264465332,
          25.965242385864258,
          -36.283790588378906,
          36.586669921875,
          -12.163525581359863,
          -91.9244613647461,
          -102.48902893066406,
          -5.075421333312988,
          1.4876803159713745,
          15.98366928100586,
          -72.82147979736328,
          10.899158477783203,
          -50.79277420043945,
          -35.609222412109375,
          4.787164211273193,
          -45.87990951538086,
          32.19137954711914,
          -80.48115539550781,
          -2.449214458465576,
          -13.771416664123535,
          -106.79889678955078,
          104.55410766601562,
          -73.64717102050781,
          6.6008806228637695,
          49.28621292114258,
          100.0860366821289,
          -90.96937561035156,
          79.21229553222656,
          -113.46636962890625,
          -25.07218360900879,
          -93.32391357421875,
          70.54884338378906,
          50.7364616394043,
          37.38764572143555,
          -16.709217071533203,
          -109.7874755859375,
          -66.23969268798828,
          83.22924041748047,
          37.74192428588867,
          -10.600427627563477,
          19.581235885620117,
          66.24462127685547,
          -4.321422100067139,
          -65.55242156982422,
          -69.03986358642578,
          10.391387939453125,
          -81.05001068115234,
          -81.52948760986328,
          -25.886503219604492,
          141.93905639648438,
          -69.6193618774414,
          -76.4073486328125,
          -58.4805908203125,
          112.21155548095703,
          -5.611814498901367,
          58.398773193359375,
          -79.78462219238281,
          8.468926429748535,
          -28.08055877685547,
          6.809713363647461,
          -45.746788024902344,
          33.2133674621582,
          -5.028606414794922,
          -2.4649202823638916,
          60.355735778808594,
          98.05024719238281,
          37.29471206665039,
          15.364839553833008,
          114.88479614257812,
          65.10321807861328,
          -54.783329010009766,
          -114.97767639160156,
          70.90948486328125,
          92.55132293701172,
          86.8321304321289,
          -115.8135757446289,
          -118.90853118896484,
          -12.261373519897461,
          -39.847434997558594,
          -48.40471649169922,
          69.6883773803711,
          76.91255187988281,
          90.28520202636719,
          -47.792633056640625,
          -13.98662281036377,
          50.62956619262695,
          72.71781158447266,
          13.663956642150879,
          72.33161926269531,
          -30.42180061340332,
          -55.01630401611328,
          45.89705276489258,
          83.12547302246094,
          -29.48520851135254,
          -42.91032409667969,
          3.0169944763183594,
          -44.88203048706055,
          -8.193329811096191,
          -56.6594352722168,
          -73.05156707763672,
          -29.517438888549805,
          88.63262176513672,
          -34.49840545654297,
          70.45867919921875,
          -53.237632751464844,
          -42.78629684448242,
          46.00910568237305,
          0.42545661330223083,
          46.565093994140625,
          -46.570064544677734,
          72.11515045166016,
          76.09941101074219,
          -14.828516960144043,
          -6.548053741455078,
          0.6366316080093384,
          1.2269022464752197,
          -69.16036224365234,
          -5.2402873039245605,
          31.67806053161621,
          70.79498291015625,
          -69.85608673095703,
          -9.153532981872559,
          63.702354431152344,
          43.00425338745117,
          103.76032257080078,
          -8.943594932556152,
          13.22436237335205,
          9.093924522399902,
          5.991179943084717,
          -36.98469543457031,
          -87.90742492675781,
          38.78178787231445,
          -4.9327239990234375,
          -26.49679946899414,
          19.974853515625,
          -48.22746276855469,
          -103.90126037597656,
          -9.2562894821167,
          -55.944671630859375,
          -74.10017395019531,
          27.45285987854004,
          112.93525695800781,
          -30.426729202270508,
          -36.842159271240234,
          -23.357664108276367,
          30.766735076904297,
          20.231658935546875,
          -87.07888793945312,
          -21.18992805480957,
          38.949466705322266,
          -78.28753662109375,
          28.211360931396484,
          18.319778442382812,
          -87.25900268554688,
          15.744833946228027,
          -5.339330196380615,
          29.441774368286133,
          29.505516052246094,
          -64.2309799194336,
          115.53727722167969,
          39.01166534423828,
          -17.91709327697754,
          5.478789806365967,
          4.055321216583252,
          -37.91005325317383,
          -70.78494262695312,
          -16.866971969604492,
          -51.122249603271484,
          -40.595340728759766,
          29.997753143310547,
          -53.55060577392578,
          -24.161190032958984,
          -24.266557693481445,
          -101.54314422607422,
          -26.459613800048828,
          50.292301177978516,
          -79.75892639160156,
          6.442234992980957,
          29.633691787719727,
          48.98440170288086,
          -8.132322311401367,
          3.1901652812957764,
          -59.311187744140625,
          -29.83504867553711,
          -69.1433334350586,
          -35.366634368896484,
          -39.597679138183594,
          -112.30703735351562,
          11.737082481384277,
          34.48782730102539,
          30.77126121520996,
          25.47830581665039,
          137.0755615234375,
          17.670705795288086,
          -14.694853782653809,
          46.75062561035156,
          23.419443130493164,
          -23.05201530456543,
          48.05300521850586,
          100.04137420654297,
          -15.944172859191895,
          -35.31113815307617,
          11.90374755859375,
          -30.60170555114746,
          86.7195816040039,
          -22.97321128845215,
          102.56157684326172,
          45.598690032958984,
          -60.42188262939453,
          65.66980743408203,
          105.64483642578125,
          118.47557067871094,
          75.16730499267578,
          -79.1430892944336,
          -70.21731567382812,
          52.08626174926758,
          5.308731555938721,
          17.846128463745117,
          -75.96047973632812,
          4.041400909423828,
          37.3377685546875,
          -92.94408416748047,
          133.0096435546875,
          -52.20039367675781,
          25.932109832763672,
          26.922603607177734,
          -51.806373596191406,
          -66.4708251953125
         ],
         "z": [
          -49.18124771118164,
          13.45920181274414,
          98.32369995117188,
          84.87886047363281,
          -19.434946060180664,
          -4.1388959884643555,
          43.170841217041016,
          40.69093322753906,
          -66.3644027709961,
          62.10779571533203,
          37.26189422607422,
          -21.264333724975586,
          -85.45401763916016,
          81.19624328613281,
          23.43824577331543,
          -27.686439514160156,
          41.312828063964844,
          -26.02043914794922,
          -68.24711608886719,
          -7.907580852508545,
          70.99217224121094,
          15.127936363220215,
          -61.47053909301758,
          -45.202720642089844,
          -2.885399580001831,
          1.574941873550415,
          -79.5832748413086,
          27.232126235961914,
          -52.75790023803711,
          -98.76139831542969,
          -71.46453857421875,
          51.119693756103516,
          -72.2386474609375,
          -6.22526216506958,
          -48.89399719238281,
          -104.4119644165039,
          -81.88613891601562,
          49.548370361328125,
          -88.25120544433594,
          -102.64359283447266,
          -31.888195037841797,
          11.760032653808594,
          -12.932854652404785,
          102.16677856445312,
          -37.26826477050781,
          -90.25325012207031,
          26.638830184936523,
          -0.42063435912132263,
          40.49200439453125,
          -32.26780700683594,
          52.40209197998047,
          -90.7687759399414,
          -74.34025573730469,
          -18.91995620727539,
          3.7141785621643066,
          -11.746909141540527,
          -47.17143249511719,
          69.32760620117188,
          -67.37748718261719,
          -46.869869232177734,
          -12.883234024047852,
          108.24730682373047,
          -50.200897216796875,
          74.68962097167969,
          130.3689727783203,
          -43.12944793701172,
          -28.39608383178711,
          -14.728514671325684,
          -43.44968795776367,
          -113.38948822021484,
          98.96373748779297,
          51.4256706237793,
          80.02527618408203,
          -13.270729064941406,
          -86.75825500488281,
          109.56012725830078,
          -27.76726722717285,
          65.57244873046875,
          97.03980255126953,
          105.70189666748047,
          -19.57257843017578,
          21.59202766418457,
          -38.89609909057617,
          72.45124053955078,
          -66.8798828125,
          29.528255462646484,
          106.3760757446289,
          46.66058349609375,
          10.515217781066895,
          6.3020219802856445,
          -0.7549031972885132,
          27.529691696166992,
          -50.628082275390625,
          -39.756629943847656,
          -83.30011749267578,
          4.668186664581299,
          -72.70653533935547,
          26.88155174255371,
          -14.129606246948242,
          34.35153579711914,
          -117.89032745361328,
          20.075727462768555,
          -11.238533973693848,
          119.91373443603516,
          -101.64311218261719,
          45.94327926635742,
          20.64047622680664,
          0.09811142086982727,
          -17.715797424316406,
          -48.257286071777344,
          -57.75044250488281,
          -45.46125030517578,
          89.29247283935547,
          -26.58647346496582,
          -60.32792282104492,
          -11.202804565429688,
          -32.001686096191406,
          -23.61209487915039,
          38.35702896118164,
          -22.3521728515625,
          40.406280517578125,
          -13.827692031860352,
          -69.77599334716797,
          -36.22465515136719,
          43.943904876708984,
          -28.735794067382812,
          35.359649658203125,
          61.26387405395508,
          56.4603157043457,
          -63.111854553222656,
          10.919107437133789,
          1.5962680578231812,
          -20.971282958984375,
          -57.874576568603516,
          -19.866281509399414,
          -98.5733413696289,
          -15.254507064819336,
          -11.496792793273926,
          -85.61901092529297,
          53.960533142089844,
          101.3750991821289,
          96.1098861694336,
          -92.28492736816406,
          3.1841306686401367,
          -5.007554531097412,
          -25.691781997680664,
          -49.589447021484375,
          25.03862762451172,
          -67.83258056640625,
          37.87616729736328,
          49.561004638671875,
          48.42782211303711,
          12.00411319732666,
          -48.15721130371094,
          -31.154783248901367,
          -53.794708251953125,
          -57.67220687866211,
          5.251793384552002,
          62.51646041870117,
          -30.00774383544922,
          69.70819854736328,
          55.94859313964844,
          -59.044986724853516,
          -46.210693359375,
          -22.089021682739258,
          -43.284427642822266,
          -91.39575958251953,
          -18.758460998535156,
          -3.304269790649414,
          -42.695281982421875,
          49.11140823364258,
          -28.710569381713867,
          -41.37568664550781,
          48.479278564453125,
          -11.516182899475098,
          -110.60047912597656,
          41.911006927490234,
          6.986358165740967,
          -79.40946960449219,
          4.790499210357666,
          -67.75861358642578,
          -58.970062255859375,
          24.47658348083496,
          3.0430948734283447,
          -86.51500701904297,
          -51.8026237487793,
          4.166764259338379,
          10.718957901000977,
          44.938201904296875,
          25.3974666595459,
          -17.65057945251465,
          22.614328384399414,
          19.567014694213867,
          -86.87582397460938,
          27.912933349609375,
          -121.86920928955078,
          -105.9267349243164,
          -84.32503509521484,
          -60.35456848144531,
          -74.65375518798828,
          -64.96465301513672,
          -39.070465087890625,
          -63.81153869628906,
          -35.11442565917969,
          -84.7811508178711,
          65.32667541503906,
          16.726478576660156,
          37.90377426147461,
          26.127931594848633,
          42.73041534423828,
          61.4805908203125,
          -44.98373794555664,
          -90.31148529052734,
          40.26655197143555,
          -136.55230712890625,
          59.1441535949707,
          -100.96029663085938,
          1.9665217399597168,
          0.10080340504646301,
          14.675127983093262,
          -4.119280815124512,
          -68.12252807617188,
          10.29296588897705,
          -45.162322998046875,
          -11.92068099975586,
          76.55596160888672,
          75.89244842529297,
          89.27430725097656,
          -44.089515686035156,
          -29.12470817565918,
          89.91943359375,
          78.55667114257812,
          -76.0897445678711,
          -22.06671905517578,
          -21.402212142944336,
          7.3170857429504395,
          93.00598907470703,
          -40.47666549682617,
          -28.188867568969727,
          28.832887649536133,
          -68.40616607666016,
          124.6393814086914,
          42.63512420654297,
          -25.056350708007812,
          -21.784378051757812,
          -61.451419830322266,
          57.348575592041016,
          -29.98574447631836,
          -11.548365592956543,
          115.80311584472656,
          -29.772798538208008,
          20.914386749267578,
          8.967836380004883,
          32.73416519165039,
          -48.5849494934082,
          77.81059265136719,
          24.326831817626953,
          12.503288269042969,
          23.391006469726562,
          28.977127075195312,
          15.905683517456055,
          -0.6108309030532837,
          -48.77467727661133,
          75.6965560913086,
          -75.04070281982422,
          -20.10222625732422,
          80.64371490478516,
          -65.08153533935547,
          -13.209380149841309,
          17.43161964416504,
          21.095230102539062,
          33.39909744262695,
          104.3485107421875,
          -62.82868576049805
         ]
        },
        {
         "mode": "markers",
         "name": "low error",
         "type": "scatter3d",
         "x": [
          -58.8118782043457,
          27.041772842407227,
          -73.9842529296875,
          -102.85787200927734,
          -97.02967071533203,
          -24.492340087890625,
          -37.26262283325195,
          67.00032806396484,
          -92.62676239013672,
          -10.774874687194824,
          -46.88860321044922,
          -109.80831146240234,
          29.79270362854004,
          -83.92952728271484,
          47.88164520263672,
          25.612512588500977,
          34.85010528564453,
          56.311161041259766,
          10.005630493164062,
          75.1992416381836,
          -18.355419158935547,
          -77.17647552490234,
          -34.38557815551758,
          33.90057373046875,
          78.68392944335938,
          -80.5823974609375,
          -42.117435455322266,
          40.16875076293945,
          -71.45272827148438,
          -30.51078224182129,
          4.290739059448242,
          -7.876258373260498,
          -37.73380661010742,
          107.4092025756836,
          67.4260025024414,
          46.81599807739258,
          -42.512325286865234,
          -10.630694389343262,
          -32.52867889404297,
          -17.654159545898438,
          91.15237426757812,
          108.15264129638672,
          -18.41448402404785,
          -15.732503890991211,
          -77.16830444335938,
          14.11852741241455,
          107.04313659667969,
          28.153255462646484,
          -31.27432632446289,
          45.065467834472656,
          14.44548225402832,
          -45.72408676147461,
          73.28277587890625,
          44.74928283691406,
          -63.56473159790039,
          -43.38766098022461,
          -33.19670867919922,
          85.51393127441406,
          -67.51476287841797,
          13.888012886047363,
          49.06486892700195,
          -24.46428680419922,
          -35.75560760498047,
          91.64057159423828,
          -67.41732025146484,
          129.61517333984375,
          -90.33350372314453,
          10.14551830291748,
          -69.65727996826172,
          -109.2006607055664,
          -39.355831146240234,
          9.551934242248535,
          -52.77744674682617,
          -59.15974426269531,
          120.81745910644531,
          -84.20387268066406,
          -105.82785034179688,
          -14.556147575378418,
          130.94757080078125,
          13.213309288024902,
          3.4740443229675293,
          -69.92144012451172,
          -32.80653381347656,
          11.027022361755371,
          -16.756450653076172,
          93.65799713134766,
          70.4681625366211,
          36.68997573852539,
          -74.63916778564453,
          -35.18897247314453,
          90.97586059570312,
          85.17596435546875,
          -38.478370666503906,
          8.992474555969238,
          41.60071563720703,
          100.1463851928711,
          -28.515336990356445,
          -14.491869926452637,
          -25.532302856445312,
          2.0442633628845215,
          -2.0558483600616455,
          -68.04442596435547,
          23.690834045410156,
          15.739171981811523,
          -48.22367477416992,
          56.956642150878906,
          -47.435665130615234,
          86.07855224609375,
          -41.88362121582031
         ],
         "y": [
          -39.94233703613281,
          -36.7353515625,
          -31.41146469116211,
          39.84015655517578,
          32.36317443847656,
          61.9238395690918,
          -53.343196868896484,
          1.5740070343017578,
          -70.06137084960938,
          -21.576641082763672,
          -25.064838409423828,
          -7.752432346343994,
          -12.545740127563477,
          24.197568893432617,
          -0.39214393496513367,
          39.936431884765625,
          -10.990799903869629,
          -27.571805953979492,
          39.66587829589844,
          59.3486442565918,
          85.7198486328125,
          71.18978118896484,
          35.973697662353516,
          0.4129759967327118,
          -79.88227844238281,
          -44.68756866455078,
          67.05741882324219,
          102.40753936767578,
          14.5579252243042,
          113.97246551513672,
          86.33313751220703,
          -91.10105895996094,
          -31.719928741455078,
          -2.1908226013183594,
          60.081748962402344,
          85.3402099609375,
          -87.2658920288086,
          -13.173479080200195,
          75.6557388305664,
          34.177947998046875,
          -74.71646118164062,
          -50.3221321105957,
          -61.27079391479492,
          90.2344741821289,
          32.55696105957031,
          92.6055679321289,
          -53.125511169433594,
          -56.069496154785156,
          -18.817834854125977,
          64.68406677246094,
          23.61568260192871,
          124.45234680175781,
          47.70500946044922,
          102.0873794555664,
          -66.2211685180664,
          44.64708709716797,
          -10.227428436279297,
          71.76566314697266,
          14.112459182739258,
          -1.0776859521865845,
          109.69400024414062,
          -27.984329223632812,
          -10.875102996826172,
          28.629924774169922,
          -4.623538970947266,
          -45.7092399597168,
          -29.33946990966797,
          62.992008209228516,
          -50.301292419433594,
          -29.736827850341797,
          25.986820220947266,
          66.06010437011719,
          34.65762710571289,
          16.233518600463867,
          -73.27655029296875,
          -79.0627212524414,
          -32.202415466308594,
          -36.45263671875,
          -20.570762634277344,
          -18.762863159179688,
          73.22136688232422,
          30.04427719116211,
          -9.832233428955078,
          16.831100463867188,
          41.47285079956055,
          -75.80511474609375,
          1.480765461921692,
          -58.290061950683594,
          30.46306800842285,
          -121.15662384033203,
          -56.707733154296875,
          -19.14366340637207,
          -75.43833923339844,
          17.80928611755371,
          53.51700973510742,
          2.121551513671875,
          7.972114562988281,
          128.28933715820312,
          92.32792663574219,
          134.49256896972656,
          123.49089813232422,
          -33.917659759521484,
          137.52423095703125,
          -117.53534698486328,
          -10.58106517791748,
          -108.47130584716797,
          -44.3627815246582,
          -89.2133560180664,
          -41.48015594482422
         ],
         "z": [
          95.01078033447266,
          9.219674110412598,
          -44.11319351196289,
          85.95218658447266,
          -35.27850341796875,
          -39.71635818481445,
          97.31208038330078,
          -65.85968017578125,
          -8.325969696044922,
          -25.052316665649414,
          20.227174758911133,
          57.381343841552734,
          -125.561767578125,
          -3.235976457595825,
          45.753089904785156,
          -23.443553924560547,
          -13.395998001098633,
          -35.612422943115234,
          63.40709686279297,
          -62.09115219116211,
          5.1333723068237305,
          47.336814880371094,
          80.88214874267578,
          12.67124080657959,
          20.14092445373535,
          -81.20905303955078,
          28.15869140625,
          23.066879272460938,
          -97.67401885986328,
          -11.844927787780762,
          77.11358642578125,
          60.04525375366211,
          94.09879302978516,
          4.563523769378662,
          4.356183052062988,
          92.23487091064453,
          -51.05735778808594,
          27.54646110534668,
          80.85114288330078,
          38.916236877441406,
          55.667381286621094,
          33.34092330932617,
          43.1651611328125,
          -46.881465911865234,
          24.6699275970459,
          -14.521753311157227,
          -7.561338901519775,
          71.11534881591797,
          -13.858284950256348,
          101.86835479736328,
          79.73143768310547,
          -6.262204647064209,
          47.46659469604492,
          2.758429527282715,
          89.82267761230469,
          -28.237762451171875,
          30.905170440673828,
          53.66992950439453,
          79.39456939697266,
          84.30714416503906,
          -67.00714111328125,
          16.46274757385254,
          9.628549575805664,
          -17.193588256835938,
          -0.05978216603398323,
          -8.138201713562012,
          -11.123862266540527,
          109.30366516113281,
          -11.32443904876709,
          2.8986783027648926,
          18.967628479003906,
          30.743751525878906,
          33.38606262207031,
          22.600631713867188,
          -5.761048793792725,
          54.888450622558594,
          65.96195983886719,
          -5.545382976531982,
          46.35219192504883,
          -65.86650848388672,
          -21.454992294311523,
          -47.38252258300781,
          -65.85865783691406,
          58.323551177978516,
          -64.7105941772461,
          -73.32455444335938,
          33.59538269042969,
          6.373051166534424,
          62.58463668823242,
          -38.09221649169922,
          -97.89411163330078,
          70.29042053222656,
          97.95365905761719,
          -102.74528503417969,
          -0.6725382804870605,
          -20.884225845336914,
          -81.26237487792969,
          12.745523452758789,
          19.880516052246094,
          24.47021484375,
          -5.379603862762451,
          -74.29092407226562,
          5.94312047958374,
          1.8982925415039062,
          117.41006469726562,
          -72.17794036865234,
          115.379150390625,
          11.175665855407715,
          -45.388301849365234
         ]
        }
       ],
       "layout": {
        "template": {
         "data": {
          "bar": [
           {
            "error_x": {
             "color": "#2a3f5f"
            },
            "error_y": {
             "color": "#2a3f5f"
            },
            "marker": {
             "line": {
              "color": "#E5ECF6",
              "width": 0.5
             }
            },
            "type": "bar"
           }
          ],
          "barpolar": [
           {
            "marker": {
             "line": {
              "color": "#E5ECF6",
              "width": 0.5
             }
            },
            "type": "barpolar"
           }
          ],
          "carpet": [
           {
            "aaxis": {
             "endlinecolor": "#2a3f5f",
             "gridcolor": "white",
             "linecolor": "white",
             "minorgridcolor": "white",
             "startlinecolor": "#2a3f5f"
            },
            "baxis": {
             "endlinecolor": "#2a3f5f",
             "gridcolor": "white",
             "linecolor": "white",
             "minorgridcolor": "white",
             "startlinecolor": "#2a3f5f"
            },
            "type": "carpet"
           }
          ],
          "choropleth": [
           {
            "colorbar": {
             "outlinewidth": 0,
             "ticks": ""
            },
            "type": "choropleth"
           }
          ],
          "contour": [
           {
            "colorbar": {
             "outlinewidth": 0,
             "ticks": ""
            },
            "colorscale": [
             [
              0,
              "#0d0887"
             ],
             [
              0.1111111111111111,
              "#46039f"
             ],
             [
              0.2222222222222222,
              "#7201a8"
             ],
             [
              0.3333333333333333,
              "#9c179e"
             ],
             [
              0.4444444444444444,
              "#bd3786"
             ],
             [
              0.5555555555555556,
              "#d8576b"
             ],
             [
              0.6666666666666666,
              "#ed7953"
             ],
             [
              0.7777777777777778,
              "#fb9f3a"
             ],
             [
              0.8888888888888888,
              "#fdca26"
             ],
             [
              1,
              "#f0f921"
             ]
            ],
            "type": "contour"
           }
          ],
          "contourcarpet": [
           {
            "colorbar": {
             "outlinewidth": 0,
             "ticks": ""
            },
            "type": "contourcarpet"
           }
          ],
          "heatmap": [
           {
            "colorbar": {
             "outlinewidth": 0,
             "ticks": ""
            },
            "colorscale": [
             [
              0,
              "#0d0887"
             ],
             [
              0.1111111111111111,
              "#46039f"
             ],
             [
              0.2222222222222222,
              "#7201a8"
             ],
             [
              0.3333333333333333,
              "#9c179e"
             ],
             [
              0.4444444444444444,
              "#bd3786"
             ],
             [
              0.5555555555555556,
              "#d8576b"
             ],
             [
              0.6666666666666666,
              "#ed7953"
             ],
             [
              0.7777777777777778,
              "#fb9f3a"
             ],
             [
              0.8888888888888888,
              "#fdca26"
             ],
             [
              1,
              "#f0f921"
             ]
            ],
            "type": "heatmap"
           }
          ],
          "heatmapgl": [
           {
            "colorbar": {
             "outlinewidth": 0,
             "ticks": ""
            },
            "colorscale": [
             [
              0,
              "#0d0887"
             ],
             [
              0.1111111111111111,
              "#46039f"
             ],
             [
              0.2222222222222222,
              "#7201a8"
             ],
             [
              0.3333333333333333,
              "#9c179e"
             ],
             [
              0.4444444444444444,
              "#bd3786"
             ],
             [
              0.5555555555555556,
              "#d8576b"
             ],
             [
              0.6666666666666666,
              "#ed7953"
             ],
             [
              0.7777777777777778,
              "#fb9f3a"
             ],
             [
              0.8888888888888888,
              "#fdca26"
             ],
             [
              1,
              "#f0f921"
             ]
            ],
            "type": "heatmapgl"
           }
          ],
          "histogram": [
           {
            "marker": {
             "colorbar": {
              "outlinewidth": 0,
              "ticks": ""
             }
            },
            "type": "histogram"
           }
          ],
          "histogram2d": [
           {
            "colorbar": {
             "outlinewidth": 0,
             "ticks": ""
            },
            "colorscale": [
             [
              0,
              "#0d0887"
             ],
             [
              0.1111111111111111,
              "#46039f"
             ],
             [
              0.2222222222222222,
              "#7201a8"
             ],
             [
              0.3333333333333333,
              "#9c179e"
             ],
             [
              0.4444444444444444,
              "#bd3786"
             ],
             [
              0.5555555555555556,
              "#d8576b"
             ],
             [
              0.6666666666666666,
              "#ed7953"
             ],
             [
              0.7777777777777778,
              "#fb9f3a"
             ],
             [
              0.8888888888888888,
              "#fdca26"
             ],
             [
              1,
              "#f0f921"
             ]
            ],
            "type": "histogram2d"
           }
          ],
          "histogram2dcontour": [
           {
            "colorbar": {
             "outlinewidth": 0,
             "ticks": ""
            },
            "colorscale": [
             [
              0,
              "#0d0887"
             ],
             [
              0.1111111111111111,
              "#46039f"
             ],
             [
              0.2222222222222222,
              "#7201a8"
             ],
             [
              0.3333333333333333,
              "#9c179e"
             ],
             [
              0.4444444444444444,
              "#bd3786"
             ],
             [
              0.5555555555555556,
              "#d8576b"
             ],
             [
              0.6666666666666666,
              "#ed7953"
             ],
             [
              0.7777777777777778,
              "#fb9f3a"
             ],
             [
              0.8888888888888888,
              "#fdca26"
             ],
             [
              1,
              "#f0f921"
             ]
            ],
            "type": "histogram2dcontour"
           }
          ],
          "mesh3d": [
           {
            "colorbar": {
             "outlinewidth": 0,
             "ticks": ""
            },
            "type": "mesh3d"
           }
          ],
          "parcoords": [
           {
            "line": {
             "colorbar": {
              "outlinewidth": 0,
              "ticks": ""
             }
            },
            "type": "parcoords"
           }
          ],
          "pie": [
           {
            "automargin": true,
            "type": "pie"
           }
          ],
          "scatter": [
           {
            "marker": {
             "colorbar": {
              "outlinewidth": 0,
              "ticks": ""
             }
            },
            "type": "scatter"
           }
          ],
          "scatter3d": [
           {
            "line": {
             "colorbar": {
              "outlinewidth": 0,
              "ticks": ""
             }
            },
            "marker": {
             "colorbar": {
              "outlinewidth": 0,
              "ticks": ""
             }
            },
            "type": "scatter3d"
           }
          ],
          "scattercarpet": [
           {
            "marker": {
             "colorbar": {
              "outlinewidth": 0,
              "ticks": ""
             }
            },
            "type": "scattercarpet"
           }
          ],
          "scattergeo": [
           {
            "marker": {
             "colorbar": {
              "outlinewidth": 0,
              "ticks": ""
             }
            },
            "type": "scattergeo"
           }
          ],
          "scattergl": [
           {
            "marker": {
             "colorbar": {
              "outlinewidth": 0,
              "ticks": ""
             }
            },
            "type": "scattergl"
           }
          ],
          "scattermapbox": [
           {
            "marker": {
             "colorbar": {
              "outlinewidth": 0,
              "ticks": ""
             }
            },
            "type": "scattermapbox"
           }
          ],
          "scatterpolar": [
           {
            "marker": {
             "colorbar": {
              "outlinewidth": 0,
              "ticks": ""
             }
            },
            "type": "scatterpolar"
           }
          ],
          "scatterpolargl": [
           {
            "marker": {
             "colorbar": {
              "outlinewidth": 0,
              "ticks": ""
             }
            },
            "type": "scatterpolargl"
           }
          ],
          "scatterternary": [
           {
            "marker": {
             "colorbar": {
              "outlinewidth": 0,
              "ticks": ""
             }
            },
            "type": "scatterternary"
           }
          ],
          "surface": [
           {
            "colorbar": {
             "outlinewidth": 0,
             "ticks": ""
            },
            "colorscale": [
             [
              0,
              "#0d0887"
             ],
             [
              0.1111111111111111,
              "#46039f"
             ],
             [
              0.2222222222222222,
              "#7201a8"
             ],
             [
              0.3333333333333333,
              "#9c179e"
             ],
             [
              0.4444444444444444,
              "#bd3786"
             ],
             [
              0.5555555555555556,
              "#d8576b"
             ],
             [
              0.6666666666666666,
              "#ed7953"
             ],
             [
              0.7777777777777778,
              "#fb9f3a"
             ],
             [
              0.8888888888888888,
              "#fdca26"
             ],
             [
              1,
              "#f0f921"
             ]
            ],
            "type": "surface"
           }
          ],
          "table": [
           {
            "cells": {
             "fill": {
              "color": "#EBF0F8"
             },
             "line": {
              "color": "white"
             }
            },
            "header": {
             "fill": {
              "color": "#C8D4E3"
             },
             "line": {
              "color": "white"
             }
            },
            "type": "table"
           }
          ]
         },
         "layout": {
          "annotationdefaults": {
           "arrowcolor": "#2a3f5f",
           "arrowhead": 0,
           "arrowwidth": 1
          },
          "coloraxis": {
           "colorbar": {
            "outlinewidth": 0,
            "ticks": ""
           }
          },
          "colorscale": {
           "diverging": [
            [
             0,
             "#8e0152"
            ],
            [
             0.1,
             "#c51b7d"
            ],
            [
             0.2,
             "#de77ae"
            ],
            [
             0.3,
             "#f1b6da"
            ],
            [
             0.4,
             "#fde0ef"
            ],
            [
             0.5,
             "#f7f7f7"
            ],
            [
             0.6,
             "#e6f5d0"
            ],
            [
             0.7,
             "#b8e186"
            ],
            [
             0.8,
             "#7fbc41"
            ],
            [
             0.9,
             "#4d9221"
            ],
            [
             1,
             "#276419"
            ]
           ],
           "sequential": [
            [
             0,
             "#0d0887"
            ],
            [
             0.1111111111111111,
             "#46039f"
            ],
            [
             0.2222222222222222,
             "#7201a8"
            ],
            [
             0.3333333333333333,
             "#9c179e"
            ],
            [
             0.4444444444444444,
             "#bd3786"
            ],
            [
             0.5555555555555556,
             "#d8576b"
            ],
            [
             0.6666666666666666,
             "#ed7953"
            ],
            [
             0.7777777777777778,
             "#fb9f3a"
            ],
            [
             0.8888888888888888,
             "#fdca26"
            ],
            [
             1,
             "#f0f921"
            ]
           ],
           "sequentialminus": [
            [
             0,
             "#0d0887"
            ],
            [
             0.1111111111111111,
             "#46039f"
            ],
            [
             0.2222222222222222,
             "#7201a8"
            ],
            [
             0.3333333333333333,
             "#9c179e"
            ],
            [
             0.4444444444444444,
             "#bd3786"
            ],
            [
             0.5555555555555556,
             "#d8576b"
            ],
            [
             0.6666666666666666,
             "#ed7953"
            ],
            [
             0.7777777777777778,
             "#fb9f3a"
            ],
            [
             0.8888888888888888,
             "#fdca26"
            ],
            [
             1,
             "#f0f921"
            ]
           ]
          },
          "colorway": [
           "#636efa",
           "#EF553B",
           "#00cc96",
           "#ab63fa",
           "#FFA15A",
           "#19d3f3",
           "#FF6692",
           "#B6E880",
           "#FF97FF",
           "#FECB52"
          ],
          "font": {
           "color": "#2a3f5f"
          },
          "geo": {
           "bgcolor": "white",
           "lakecolor": "white",
           "landcolor": "#E5ECF6",
           "showlakes": true,
           "showland": true,
           "subunitcolor": "white"
          },
          "hoverlabel": {
           "align": "left"
          },
          "hovermode": "closest",
          "mapbox": {
           "style": "light"
          },
          "paper_bgcolor": "white",
          "plot_bgcolor": "#E5ECF6",
          "polar": {
           "angularaxis": {
            "gridcolor": "white",
            "linecolor": "white",
            "ticks": ""
           },
           "bgcolor": "#E5ECF6",
           "radialaxis": {
            "gridcolor": "white",
            "linecolor": "white",
            "ticks": ""
           }
          },
          "scene": {
           "xaxis": {
            "backgroundcolor": "#E5ECF6",
            "gridcolor": "white",
            "gridwidth": 2,
            "linecolor": "white",
            "showbackground": true,
            "ticks": "",
            "zerolinecolor": "white"
           },
           "yaxis": {
            "backgroundcolor": "#E5ECF6",
            "gridcolor": "white",
            "gridwidth": 2,
            "linecolor": "white",
            "showbackground": true,
            "ticks": "",
            "zerolinecolor": "white"
           },
           "zaxis": {
            "backgroundcolor": "#E5ECF6",
            "gridcolor": "white",
            "gridwidth": 2,
            "linecolor": "white",
            "showbackground": true,
            "ticks": "",
            "zerolinecolor": "white"
           }
          },
          "shapedefaults": {
           "line": {
            "color": "#2a3f5f"
           }
          },
          "ternary": {
           "aaxis": {
            "gridcolor": "white",
            "linecolor": "white",
            "ticks": ""
           },
           "baxis": {
            "gridcolor": "white",
            "linecolor": "white",
            "ticks": ""
           },
           "bgcolor": "#E5ECF6",
           "caxis": {
            "gridcolor": "white",
            "linecolor": "white",
            "ticks": ""
           }
          },
          "title": {
           "x": 0.05
          },
          "xaxis": {
           "automargin": true,
           "gridcolor": "white",
           "linecolor": "white",
           "ticks": "",
           "title": {
            "standoff": 15
           },
           "zerolinecolor": "white",
           "zerolinewidth": 2
          },
          "yaxis": {
           "automargin": true,
           "gridcolor": "white",
           "linecolor": "white",
           "ticks": "",
           "title": {
            "standoff": 15
           },
           "zerolinecolor": "white",
           "zerolinewidth": 2
          }
         }
        }
       }
      },
      "text/html": [
       "<div>\n",
       "        \n",
       "        \n",
       "            <div id=\"f000bf63-d18f-46ab-9a9b-37ac5805f774\" class=\"plotly-graph-div\" style=\"height:525px; width:100%;\"></div>\n",
       "            <script type=\"text/javascript\">\n",
       "                require([\"plotly\"], function(Plotly) {\n",
       "                    window.PLOTLYENV=window.PLOTLYENV || {};\n",
       "                    \n",
       "                if (document.getElementById(\"f000bf63-d18f-46ab-9a9b-37ac5805f774\")) {\n",
       "                    Plotly.newPlot(\n",
       "                        'f000bf63-d18f-46ab-9a9b-37ac5805f774',\n",
       "                        [{\"mode\": \"markers\", \"name\": \"high error\", \"type\": \"scatter3d\", \"x\": [65.18180084228516, 30.550317764282227, -101.07420349121094, -99.537841796875, -62.16899871826172, 43.70207595825195, -112.12970733642578, -45.2724494934082, 49.26953887939453, -98.38703918457031, -131.48110961914062, -19.512113571166992, 60.1358642578125, -130.95785522460938, 65.274658203125, 118.15179443359375, -107.55884552001953, -30.226917266845703, 39.4157829284668, -45.959510803222656, -3.3037893772125244, 59.4079475402832, 58.37343215942383, 72.39051055908203, -13.918709754943848, -0.6126784086227417, -22.94391441345215, -124.18549346923828, 108.18892669677734, 85.79024505615234, 118.6384506225586, -3.883960723876953, 44.85673904418945, 23.222171783447266, -11.985127449035645, -7.348713397979736, 31.375377655029297, 20.81543731689453, 76.63463592529297, 18.12322425842285, 120.44478607177734, -17.752187728881836, -51.21199035644531, -63.899505615234375, 81.74142456054688, 12.46337604522705, 77.93217468261719, -56.56821060180664, 45.006107330322266, 49.4045295715332, -28.945819854736328, 59.598934173583984, 17.782766342163086, 77.65254211425781, 78.72399139404297, 26.016048431396484, -85.49964904785156, 71.16543579101562, -70.53827667236328, 84.881591796875, -141.94129943847656, -152.6101531982422, -5.8903913497924805, -2.128312826156616, -4.760944843292236, 120.00607299804688, 57.49369812011719, 36.99168014526367, -67.29727172851562, 57.98145294189453, -71.636474609375, 21.27947235107422, 37.76860046386719, -40.2159423828125, 10.772013664245605, 21.972978591918945, 7.785384654998779, -6.581540107727051, 61.876670837402344, 45.76143264770508, 122.99732208251953, -33.2866325378418, -33.169586181640625, 52.511619567871094, 6.314137935638428, -77.3411865234375, -25.09346580505371, -34.64811325073242, -113.5600814819336, -47.0291862487793, 21.129785537719727, -21.006166458129883, 85.8454818725586, 106.86778259277344, -18.268131256103516, -1.3055003881454468, 6.717160224914551, 14.449251174926758, 42.16161346435547, -11.790543556213379, -9.323535919189453, 95.4643325805664, -55.8359260559082, 21.013044357299805, -28.394161224365234, -78.24118041992188, -96.8604736328125, 14.422868728637695, 4.028005599975586, 34.00174331665039, -55.42786407470703, -47.29304122924805, 46.586544036865234, 0.4205205738544464, 9.426936149597168, 105.13914489746094, 17.857133865356445, 45.827117919921875, -53.41771697998047, -80.08199310302734, 33.1817741394043, -20.414752960205078, 12.742270469665527, -30.47391700744629, -87.6350326538086, 87.22191619873047, -92.22516632080078, 13.962902069091797, 0.29144999384880066, 92.00682830810547, 4.995881080627441, -44.448516845703125, 44.75253677368164, -63.63491439819336, 22.168607711791992, 14.745284080505371, 59.78672409057617, 122.14059448242188, 89.26575469970703, -126.1941909790039, 43.618675231933594, -81.09706115722656, -17.851394653320312, -89.55569458007812, -106.89994812011719, 88.76789093017578, 9.196708679199219, 4.330750465393066, 2.4213194847106934, 68.05988311767578, 100.86113739013672, -51.683685302734375, -64.99315643310547, -86.44580841064453, 106.66374206542969, -15.3402099609375, 23.712106704711914, 96.59464263916016, 45.53005599975586, -101.54312133789062, 0.8872600793838501, 98.08274841308594, -37.909114837646484, 98.05097198486328, -11.40598201751709, 95.20043182373047, 76.72911834716797, -79.2423324584961, -79.80724334716797, 11.452645301818848, -61.833213806152344, -59.70985794067383, -16.184818267822266, -23.630821228027344, -96.94609069824219, -44.685821533203125, 42.211177825927734, -113.41776275634766, -9.419419288635254, -74.96053314208984, 104.70842742919922, 21.50282859802246, -1.182330846786499, 129.95932006835938, -57.59772872924805, 33.79573440551758, 42.73857116699219, 56.979774475097656, 65.46206665039062, -74.5556411743164, -113.57144927978516, -117.55377960205078, 68.24248504638672, 81.15422058105469, 53.451019287109375, -26.328336715698242, -31.85293197631836, -18.266504287719727, -30.482709884643555, 58.46765899658203, -2.4371135234832764, -150.5302734375, -78.03728485107422, -31.11524772644043, 35.467952728271484, -34.94986343383789, 56.99053192138672, 28.103315353393555, -95.55866241455078, -48.746498107910156, -13.946538925170898, 5.317047119140625, 33.49456787109375, 13.836360931396484, -18.86627769470215, 26.778491973876953, 40.65182876586914, 77.42588806152344, 105.11156463623047, 49.09442901611328, 47.61774444580078, 85.40799713134766, -81.59241485595703, 5.173884391784668, 57.34049606323242, -82.28978729248047, -40.63762283325195, -3.0883660316467285, 100.41141510009766, 36.125789642333984, -2.030158519744873, 14.732264518737793, -32.30791473388672, -43.03202819824219, -71.09031677246094, -9.651134490966797, -82.7493896484375, 32.57053756713867, 43.886871337890625, 45.425689697265625, 81.7856674194336, -31.991188049316406, 58.781288146972656, 100.58335876464844, 63.27126693725586, -74.70216369628906, -83.54096221923828, 118.6042251586914, -21.362546920776367, -25.704439163208008, -48.481788635253906, -96.9411849975586, -15.1801176071167, 40.48344039916992, 72.39933776855469, 46.54142379760742, -38.043983459472656, 6.778314590454102, -5.6398091316223145, -85.59978485107422, -113.21453857421875, 7.096713542938232, -121.88726806640625, -91.10856628417969, -72.63548278808594, 48.52859878540039, -61.6568717956543, -56.73481369018555, -32.91818618774414, -40.52999496459961, 8.324891090393066, 100.11611938476562, -7.468069076538086, 117.27535247802734], \"y\": [103.57190704345703, 80.00419616699219, 17.33040428161621, -12.447186470031738, -32.811492919921875, -80.46565246582031, -50.398067474365234, -79.68282318115234, 43.14820861816406, 35.44868850708008, -5.730114936828613, -60.50307846069336, -27.297822952270508, 6.312148094177246, -44.08428955078125, -58.69451904296875, -24.88378143310547, -37.80768585205078, 61.95723342895508, -40.85865783691406, 25.247812271118164, 86.94412231445312, -22.355873107910156, -11.824399948120117, -10.447746276855469, 9.626358985900879, 66.292724609375, -36.840553283691406, -35.2039794921875, -16.425376892089844, -10.190291404724121, -33.10957717895508, -40.339256286621094, -50.85410690307617, -6.8475236892700195, -29.002500534057617, 22.793109893798828, 145.19308471679688, 22.228639602661133, 59.16613006591797, 29.939897537231445, -70.22027587890625, 5.7879838943481445, 22.90584373474121, 23.293031692504883, -52.78882598876953, -26.10588264465332, 25.965242385864258, -36.283790588378906, 36.586669921875, -12.163525581359863, -91.9244613647461, -102.48902893066406, -5.075421333312988, 1.4876803159713745, 15.98366928100586, -72.82147979736328, 10.899158477783203, -50.79277420043945, -35.609222412109375, 4.787164211273193, -45.87990951538086, 32.19137954711914, -80.48115539550781, -2.449214458465576, -13.771416664123535, -106.79889678955078, 104.55410766601562, -73.64717102050781, 6.6008806228637695, 49.28621292114258, 100.0860366821289, -90.96937561035156, 79.21229553222656, -113.46636962890625, -25.07218360900879, -93.32391357421875, 70.54884338378906, 50.7364616394043, 37.38764572143555, -16.709217071533203, -109.7874755859375, -66.23969268798828, 83.22924041748047, 37.74192428588867, -10.600427627563477, 19.581235885620117, 66.24462127685547, -4.321422100067139, -65.55242156982422, -69.03986358642578, 10.391387939453125, -81.05001068115234, -81.52948760986328, -25.886503219604492, 141.93905639648438, -69.6193618774414, -76.4073486328125, -58.4805908203125, 112.21155548095703, -5.611814498901367, 58.398773193359375, -79.78462219238281, 8.468926429748535, -28.08055877685547, 6.809713363647461, -45.746788024902344, 33.2133674621582, -5.028606414794922, -2.4649202823638916, 60.355735778808594, 98.05024719238281, 37.29471206665039, 15.364839553833008, 114.88479614257812, 65.10321807861328, -54.783329010009766, -114.97767639160156, 70.90948486328125, 92.55132293701172, 86.8321304321289, -115.8135757446289, -118.90853118896484, -12.261373519897461, -39.847434997558594, -48.40471649169922, 69.6883773803711, 76.91255187988281, 90.28520202636719, -47.792633056640625, -13.98662281036377, 50.62956619262695, 72.71781158447266, 13.663956642150879, 72.33161926269531, -30.42180061340332, -55.01630401611328, 45.89705276489258, 83.12547302246094, -29.48520851135254, -42.91032409667969, 3.0169944763183594, -44.88203048706055, -8.193329811096191, -56.6594352722168, -73.05156707763672, -29.517438888549805, 88.63262176513672, -34.49840545654297, 70.45867919921875, -53.237632751464844, -42.78629684448242, 46.00910568237305, 0.42545661330223083, 46.565093994140625, -46.570064544677734, 72.11515045166016, 76.09941101074219, -14.828516960144043, -6.548053741455078, 0.6366316080093384, 1.2269022464752197, -69.16036224365234, -5.2402873039245605, 31.67806053161621, 70.79498291015625, -69.85608673095703, -9.153532981872559, 63.702354431152344, 43.00425338745117, 103.76032257080078, -8.943594932556152, 13.22436237335205, 9.093924522399902, 5.991179943084717, -36.98469543457031, -87.90742492675781, 38.78178787231445, -4.9327239990234375, -26.49679946899414, 19.974853515625, -48.22746276855469, -103.90126037597656, -9.2562894821167, -55.944671630859375, -74.10017395019531, 27.45285987854004, 112.93525695800781, -30.426729202270508, -36.842159271240234, -23.357664108276367, 30.766735076904297, 20.231658935546875, -87.07888793945312, -21.18992805480957, 38.949466705322266, -78.28753662109375, 28.211360931396484, 18.319778442382812, -87.25900268554688, 15.744833946228027, -5.339330196380615, 29.441774368286133, 29.505516052246094, -64.2309799194336, 115.53727722167969, 39.01166534423828, -17.91709327697754, 5.478789806365967, 4.055321216583252, -37.91005325317383, -70.78494262695312, -16.866971969604492, -51.122249603271484, -40.595340728759766, 29.997753143310547, -53.55060577392578, -24.161190032958984, -24.266557693481445, -101.54314422607422, -26.459613800048828, 50.292301177978516, -79.75892639160156, 6.442234992980957, 29.633691787719727, 48.98440170288086, -8.132322311401367, 3.1901652812957764, -59.311187744140625, -29.83504867553711, -69.1433334350586, -35.366634368896484, -39.597679138183594, -112.30703735351562, 11.737082481384277, 34.48782730102539, 30.77126121520996, 25.47830581665039, 137.0755615234375, 17.670705795288086, -14.694853782653809, 46.75062561035156, 23.419443130493164, -23.05201530456543, 48.05300521850586, 100.04137420654297, -15.944172859191895, -35.31113815307617, 11.90374755859375, -30.60170555114746, 86.7195816040039, -22.97321128845215, 102.56157684326172, 45.598690032958984, -60.42188262939453, 65.66980743408203, 105.64483642578125, 118.47557067871094, 75.16730499267578, -79.1430892944336, -70.21731567382812, 52.08626174926758, 5.308731555938721, 17.846128463745117, -75.96047973632812, 4.041400909423828, 37.3377685546875, -92.94408416748047, 133.0096435546875, -52.20039367675781, 25.932109832763672, 26.922603607177734, -51.806373596191406, -66.4708251953125], \"z\": [-49.18124771118164, 13.45920181274414, 98.32369995117188, 84.87886047363281, -19.434946060180664, -4.1388959884643555, 43.170841217041016, 40.69093322753906, -66.3644027709961, 62.10779571533203, 37.26189422607422, -21.264333724975586, -85.45401763916016, 81.19624328613281, 23.43824577331543, -27.686439514160156, 41.312828063964844, -26.02043914794922, -68.24711608886719, -7.907580852508545, 70.99217224121094, 15.127936363220215, -61.47053909301758, -45.202720642089844, -2.885399580001831, 1.574941873550415, -79.5832748413086, 27.232126235961914, -52.75790023803711, -98.76139831542969, -71.46453857421875, 51.119693756103516, -72.2386474609375, -6.22526216506958, -48.89399719238281, -104.4119644165039, -81.88613891601562, 49.548370361328125, -88.25120544433594, -102.64359283447266, -31.888195037841797, 11.760032653808594, -12.932854652404785, 102.16677856445312, -37.26826477050781, -90.25325012207031, 26.638830184936523, -0.42063435912132263, 40.49200439453125, -32.26780700683594, 52.40209197998047, -90.7687759399414, -74.34025573730469, -18.91995620727539, 3.7141785621643066, -11.746909141540527, -47.17143249511719, 69.32760620117188, -67.37748718261719, -46.869869232177734, -12.883234024047852, 108.24730682373047, -50.200897216796875, 74.68962097167969, 130.3689727783203, -43.12944793701172, -28.39608383178711, -14.728514671325684, -43.44968795776367, -113.38948822021484, 98.96373748779297, 51.4256706237793, 80.02527618408203, -13.270729064941406, -86.75825500488281, 109.56012725830078, -27.76726722717285, 65.57244873046875, 97.03980255126953, 105.70189666748047, -19.57257843017578, 21.59202766418457, -38.89609909057617, 72.45124053955078, -66.8798828125, 29.528255462646484, 106.3760757446289, 46.66058349609375, 10.515217781066895, 6.3020219802856445, -0.7549031972885132, 27.529691696166992, -50.628082275390625, -39.756629943847656, -83.30011749267578, 4.668186664581299, -72.70653533935547, 26.88155174255371, -14.129606246948242, 34.35153579711914, -117.89032745361328, 20.075727462768555, -11.238533973693848, 119.91373443603516, -101.64311218261719, 45.94327926635742, 20.64047622680664, 0.09811142086982727, -17.715797424316406, -48.257286071777344, -57.75044250488281, -45.46125030517578, 89.29247283935547, -26.58647346496582, -60.32792282104492, -11.202804565429688, -32.001686096191406, -23.61209487915039, 38.35702896118164, -22.3521728515625, 40.406280517578125, -13.827692031860352, -69.77599334716797, -36.22465515136719, 43.943904876708984, -28.735794067382812, 35.359649658203125, 61.26387405395508, 56.4603157043457, -63.111854553222656, 10.919107437133789, 1.5962680578231812, -20.971282958984375, -57.874576568603516, -19.866281509399414, -98.5733413696289, -15.254507064819336, -11.496792793273926, -85.61901092529297, 53.960533142089844, 101.3750991821289, 96.1098861694336, -92.28492736816406, 3.1841306686401367, -5.007554531097412, -25.691781997680664, -49.589447021484375, 25.03862762451172, -67.83258056640625, 37.87616729736328, 49.561004638671875, 48.42782211303711, 12.00411319732666, -48.15721130371094, -31.154783248901367, -53.794708251953125, -57.67220687866211, 5.251793384552002, 62.51646041870117, -30.00774383544922, 69.70819854736328, 55.94859313964844, -59.044986724853516, -46.210693359375, -22.089021682739258, -43.284427642822266, -91.39575958251953, -18.758460998535156, -3.304269790649414, -42.695281982421875, 49.11140823364258, -28.710569381713867, -41.37568664550781, 48.479278564453125, -11.516182899475098, -110.60047912597656, 41.911006927490234, 6.986358165740967, -79.40946960449219, 4.790499210357666, -67.75861358642578, -58.970062255859375, 24.47658348083496, 3.0430948734283447, -86.51500701904297, -51.8026237487793, 4.166764259338379, 10.718957901000977, 44.938201904296875, 25.3974666595459, -17.65057945251465, 22.614328384399414, 19.567014694213867, -86.87582397460938, 27.912933349609375, -121.86920928955078, -105.9267349243164, -84.32503509521484, -60.35456848144531, -74.65375518798828, -64.96465301513672, -39.070465087890625, -63.81153869628906, -35.11442565917969, -84.7811508178711, 65.32667541503906, 16.726478576660156, 37.90377426147461, 26.127931594848633, 42.73041534423828, 61.4805908203125, -44.98373794555664, -90.31148529052734, 40.26655197143555, -136.55230712890625, 59.1441535949707, -100.96029663085938, 1.9665217399597168, 0.10080340504646301, 14.675127983093262, -4.119280815124512, -68.12252807617188, 10.29296588897705, -45.162322998046875, -11.92068099975586, 76.55596160888672, 75.89244842529297, 89.27430725097656, -44.089515686035156, -29.12470817565918, 89.91943359375, 78.55667114257812, -76.0897445678711, -22.06671905517578, -21.402212142944336, 7.3170857429504395, 93.00598907470703, -40.47666549682617, -28.188867568969727, 28.832887649536133, -68.40616607666016, 124.6393814086914, 42.63512420654297, -25.056350708007812, -21.784378051757812, -61.451419830322266, 57.348575592041016, -29.98574447631836, -11.548365592956543, 115.80311584472656, -29.772798538208008, 20.914386749267578, 8.967836380004883, 32.73416519165039, -48.5849494934082, 77.81059265136719, 24.326831817626953, 12.503288269042969, 23.391006469726562, 28.977127075195312, 15.905683517456055, -0.6108309030532837, -48.77467727661133, 75.6965560913086, -75.04070281982422, -20.10222625732422, 80.64371490478516, -65.08153533935547, -13.209380149841309, 17.43161964416504, 21.095230102539062, 33.39909744262695, 104.3485107421875, -62.82868576049805]}, {\"mode\": \"markers\", \"name\": \"low error\", \"type\": \"scatter3d\", \"x\": [-58.8118782043457, 27.041772842407227, -73.9842529296875, -102.85787200927734, -97.02967071533203, -24.492340087890625, -37.26262283325195, 67.00032806396484, -92.62676239013672, -10.774874687194824, -46.88860321044922, -109.80831146240234, 29.79270362854004, -83.92952728271484, 47.88164520263672, 25.612512588500977, 34.85010528564453, 56.311161041259766, 10.005630493164062, 75.1992416381836, -18.355419158935547, -77.17647552490234, -34.38557815551758, 33.90057373046875, 78.68392944335938, -80.5823974609375, -42.117435455322266, 40.16875076293945, -71.45272827148438, -30.51078224182129, 4.290739059448242, -7.876258373260498, -37.73380661010742, 107.4092025756836, 67.4260025024414, 46.81599807739258, -42.512325286865234, -10.630694389343262, -32.52867889404297, -17.654159545898438, 91.15237426757812, 108.15264129638672, -18.41448402404785, -15.732503890991211, -77.16830444335938, 14.11852741241455, 107.04313659667969, 28.153255462646484, -31.27432632446289, 45.065467834472656, 14.44548225402832, -45.72408676147461, 73.28277587890625, 44.74928283691406, -63.56473159790039, -43.38766098022461, -33.19670867919922, 85.51393127441406, -67.51476287841797, 13.888012886047363, 49.06486892700195, -24.46428680419922, -35.75560760498047, 91.64057159423828, -67.41732025146484, 129.61517333984375, -90.33350372314453, 10.14551830291748, -69.65727996826172, -109.2006607055664, -39.355831146240234, 9.551934242248535, -52.77744674682617, -59.15974426269531, 120.81745910644531, -84.20387268066406, -105.82785034179688, -14.556147575378418, 130.94757080078125, 13.213309288024902, 3.4740443229675293, -69.92144012451172, -32.80653381347656, 11.027022361755371, -16.756450653076172, 93.65799713134766, 70.4681625366211, 36.68997573852539, -74.63916778564453, -35.18897247314453, 90.97586059570312, 85.17596435546875, -38.478370666503906, 8.992474555969238, 41.60071563720703, 100.1463851928711, -28.515336990356445, -14.491869926452637, -25.532302856445312, 2.0442633628845215, -2.0558483600616455, -68.04442596435547, 23.690834045410156, 15.739171981811523, -48.22367477416992, 56.956642150878906, -47.435665130615234, 86.07855224609375, -41.88362121582031], \"y\": [-39.94233703613281, -36.7353515625, -31.41146469116211, 39.84015655517578, 32.36317443847656, 61.9238395690918, -53.343196868896484, 1.5740070343017578, -70.06137084960938, -21.576641082763672, -25.064838409423828, -7.752432346343994, -12.545740127563477, 24.197568893432617, -0.39214393496513367, 39.936431884765625, -10.990799903869629, -27.571805953979492, 39.66587829589844, 59.3486442565918, 85.7198486328125, 71.18978118896484, 35.973697662353516, 0.4129759967327118, -79.88227844238281, -44.68756866455078, 67.05741882324219, 102.40753936767578, 14.5579252243042, 113.97246551513672, 86.33313751220703, -91.10105895996094, -31.719928741455078, -2.1908226013183594, 60.081748962402344, 85.3402099609375, -87.2658920288086, -13.173479080200195, 75.6557388305664, 34.177947998046875, -74.71646118164062, -50.3221321105957, -61.27079391479492, 90.2344741821289, 32.55696105957031, 92.6055679321289, -53.125511169433594, -56.069496154785156, -18.817834854125977, 64.68406677246094, 23.61568260192871, 124.45234680175781, 47.70500946044922, 102.0873794555664, -66.2211685180664, 44.64708709716797, -10.227428436279297, 71.76566314697266, 14.112459182739258, -1.0776859521865845, 109.69400024414062, -27.984329223632812, -10.875102996826172, 28.629924774169922, -4.623538970947266, -45.7092399597168, -29.33946990966797, 62.992008209228516, -50.301292419433594, -29.736827850341797, 25.986820220947266, 66.06010437011719, 34.65762710571289, 16.233518600463867, -73.27655029296875, -79.0627212524414, -32.202415466308594, -36.45263671875, -20.570762634277344, -18.762863159179688, 73.22136688232422, 30.04427719116211, -9.832233428955078, 16.831100463867188, 41.47285079956055, -75.80511474609375, 1.480765461921692, -58.290061950683594, 30.46306800842285, -121.15662384033203, -56.707733154296875, -19.14366340637207, -75.43833923339844, 17.80928611755371, 53.51700973510742, 2.121551513671875, 7.972114562988281, 128.28933715820312, 92.32792663574219, 134.49256896972656, 123.49089813232422, -33.917659759521484, 137.52423095703125, -117.53534698486328, -10.58106517791748, -108.47130584716797, -44.3627815246582, -89.2133560180664, -41.48015594482422], \"z\": [95.01078033447266, 9.219674110412598, -44.11319351196289, 85.95218658447266, -35.27850341796875, -39.71635818481445, 97.31208038330078, -65.85968017578125, -8.325969696044922, -25.052316665649414, 20.227174758911133, 57.381343841552734, -125.561767578125, -3.235976457595825, 45.753089904785156, -23.443553924560547, -13.395998001098633, -35.612422943115234, 63.40709686279297, -62.09115219116211, 5.1333723068237305, 47.336814880371094, 80.88214874267578, 12.67124080657959, 20.14092445373535, -81.20905303955078, 28.15869140625, 23.066879272460938, -97.67401885986328, -11.844927787780762, 77.11358642578125, 60.04525375366211, 94.09879302978516, 4.563523769378662, 4.356183052062988, 92.23487091064453, -51.05735778808594, 27.54646110534668, 80.85114288330078, 38.916236877441406, 55.667381286621094, 33.34092330932617, 43.1651611328125, -46.881465911865234, 24.6699275970459, -14.521753311157227, -7.561338901519775, 71.11534881591797, -13.858284950256348, 101.86835479736328, 79.73143768310547, -6.262204647064209, 47.46659469604492, 2.758429527282715, 89.82267761230469, -28.237762451171875, 30.905170440673828, 53.66992950439453, 79.39456939697266, 84.30714416503906, -67.00714111328125, 16.46274757385254, 9.628549575805664, -17.193588256835938, -0.05978216603398323, -8.138201713562012, -11.123862266540527, 109.30366516113281, -11.32443904876709, 2.8986783027648926, 18.967628479003906, 30.743751525878906, 33.38606262207031, 22.600631713867188, -5.761048793792725, 54.888450622558594, 65.96195983886719, -5.545382976531982, 46.35219192504883, -65.86650848388672, -21.454992294311523, -47.38252258300781, -65.85865783691406, 58.323551177978516, -64.7105941772461, -73.32455444335938, 33.59538269042969, 6.373051166534424, 62.58463668823242, -38.09221649169922, -97.89411163330078, 70.29042053222656, 97.95365905761719, -102.74528503417969, -0.6725382804870605, -20.884225845336914, -81.26237487792969, 12.745523452758789, 19.880516052246094, 24.47021484375, -5.379603862762451, -74.29092407226562, 5.94312047958374, 1.8982925415039062, 117.41006469726562, -72.17794036865234, 115.379150390625, 11.175665855407715, -45.388301849365234]}],\n",
       "                        {\"template\": {\"data\": {\"bar\": [{\"error_x\": {\"color\": \"#2a3f5f\"}, \"error_y\": {\"color\": \"#2a3f5f\"}, \"marker\": {\"line\": {\"color\": \"#E5ECF6\", \"width\": 0.5}}, \"type\": \"bar\"}], \"barpolar\": [{\"marker\": {\"line\": {\"color\": \"#E5ECF6\", \"width\": 0.5}}, \"type\": \"barpolar\"}], \"carpet\": [{\"aaxis\": {\"endlinecolor\": \"#2a3f5f\", \"gridcolor\": \"white\", \"linecolor\": \"white\", \"minorgridcolor\": \"white\", \"startlinecolor\": \"#2a3f5f\"}, \"baxis\": {\"endlinecolor\": \"#2a3f5f\", \"gridcolor\": \"white\", \"linecolor\": \"white\", \"minorgridcolor\": \"white\", \"startlinecolor\": \"#2a3f5f\"}, \"type\": \"carpet\"}], \"choropleth\": [{\"colorbar\": {\"outlinewidth\": 0, \"ticks\": \"\"}, \"type\": \"choropleth\"}], \"contour\": [{\"colorbar\": {\"outlinewidth\": 0, \"ticks\": \"\"}, \"colorscale\": [[0.0, \"#0d0887\"], [0.1111111111111111, \"#46039f\"], [0.2222222222222222, \"#7201a8\"], [0.3333333333333333, \"#9c179e\"], [0.4444444444444444, \"#bd3786\"], [0.5555555555555556, \"#d8576b\"], [0.6666666666666666, \"#ed7953\"], [0.7777777777777778, \"#fb9f3a\"], [0.8888888888888888, \"#fdca26\"], [1.0, \"#f0f921\"]], \"type\": \"contour\"}], \"contourcarpet\": [{\"colorbar\": {\"outlinewidth\": 0, \"ticks\": \"\"}, \"type\": \"contourcarpet\"}], \"heatmap\": [{\"colorbar\": {\"outlinewidth\": 0, \"ticks\": \"\"}, \"colorscale\": [[0.0, \"#0d0887\"], [0.1111111111111111, \"#46039f\"], [0.2222222222222222, \"#7201a8\"], [0.3333333333333333, \"#9c179e\"], [0.4444444444444444, \"#bd3786\"], [0.5555555555555556, \"#d8576b\"], [0.6666666666666666, \"#ed7953\"], [0.7777777777777778, \"#fb9f3a\"], [0.8888888888888888, \"#fdca26\"], [1.0, \"#f0f921\"]], \"type\": \"heatmap\"}], \"heatmapgl\": [{\"colorbar\": {\"outlinewidth\": 0, \"ticks\": \"\"}, \"colorscale\": [[0.0, \"#0d0887\"], [0.1111111111111111, \"#46039f\"], [0.2222222222222222, \"#7201a8\"], [0.3333333333333333, \"#9c179e\"], [0.4444444444444444, \"#bd3786\"], [0.5555555555555556, \"#d8576b\"], [0.6666666666666666, \"#ed7953\"], [0.7777777777777778, \"#fb9f3a\"], [0.8888888888888888, \"#fdca26\"], [1.0, \"#f0f921\"]], \"type\": \"heatmapgl\"}], \"histogram\": [{\"marker\": {\"colorbar\": {\"outlinewidth\": 0, \"ticks\": \"\"}}, \"type\": \"histogram\"}], \"histogram2d\": [{\"colorbar\": {\"outlinewidth\": 0, \"ticks\": \"\"}, \"colorscale\": [[0.0, \"#0d0887\"], [0.1111111111111111, \"#46039f\"], [0.2222222222222222, \"#7201a8\"], [0.3333333333333333, \"#9c179e\"], [0.4444444444444444, \"#bd3786\"], [0.5555555555555556, \"#d8576b\"], [0.6666666666666666, \"#ed7953\"], [0.7777777777777778, \"#fb9f3a\"], [0.8888888888888888, \"#fdca26\"], [1.0, \"#f0f921\"]], \"type\": \"histogram2d\"}], \"histogram2dcontour\": [{\"colorbar\": {\"outlinewidth\": 0, \"ticks\": \"\"}, \"colorscale\": [[0.0, \"#0d0887\"], [0.1111111111111111, \"#46039f\"], [0.2222222222222222, \"#7201a8\"], [0.3333333333333333, \"#9c179e\"], [0.4444444444444444, \"#bd3786\"], [0.5555555555555556, \"#d8576b\"], [0.6666666666666666, \"#ed7953\"], [0.7777777777777778, \"#fb9f3a\"], [0.8888888888888888, \"#fdca26\"], [1.0, \"#f0f921\"]], \"type\": \"histogram2dcontour\"}], \"mesh3d\": [{\"colorbar\": {\"outlinewidth\": 0, \"ticks\": \"\"}, \"type\": \"mesh3d\"}], \"parcoords\": [{\"line\": {\"colorbar\": {\"outlinewidth\": 0, \"ticks\": \"\"}}, \"type\": \"parcoords\"}], \"pie\": [{\"automargin\": true, \"type\": \"pie\"}], \"scatter\": [{\"marker\": {\"colorbar\": {\"outlinewidth\": 0, \"ticks\": \"\"}}, \"type\": \"scatter\"}], \"scatter3d\": [{\"line\": {\"colorbar\": {\"outlinewidth\": 0, \"ticks\": \"\"}}, \"marker\": {\"colorbar\": {\"outlinewidth\": 0, \"ticks\": \"\"}}, \"type\": \"scatter3d\"}], \"scattercarpet\": [{\"marker\": {\"colorbar\": {\"outlinewidth\": 0, \"ticks\": \"\"}}, \"type\": \"scattercarpet\"}], \"scattergeo\": [{\"marker\": {\"colorbar\": {\"outlinewidth\": 0, \"ticks\": \"\"}}, \"type\": \"scattergeo\"}], \"scattergl\": [{\"marker\": {\"colorbar\": {\"outlinewidth\": 0, \"ticks\": \"\"}}, \"type\": \"scattergl\"}], \"scattermapbox\": [{\"marker\": {\"colorbar\": {\"outlinewidth\": 0, \"ticks\": \"\"}}, \"type\": \"scattermapbox\"}], \"scatterpolar\": [{\"marker\": {\"colorbar\": {\"outlinewidth\": 0, \"ticks\": \"\"}}, \"type\": \"scatterpolar\"}], \"scatterpolargl\": [{\"marker\": {\"colorbar\": {\"outlinewidth\": 0, \"ticks\": \"\"}}, \"type\": \"scatterpolargl\"}], \"scatterternary\": [{\"marker\": {\"colorbar\": {\"outlinewidth\": 0, \"ticks\": \"\"}}, \"type\": \"scatterternary\"}], \"surface\": [{\"colorbar\": {\"outlinewidth\": 0, \"ticks\": \"\"}, \"colorscale\": [[0.0, \"#0d0887\"], [0.1111111111111111, \"#46039f\"], [0.2222222222222222, \"#7201a8\"], [0.3333333333333333, \"#9c179e\"], [0.4444444444444444, \"#bd3786\"], [0.5555555555555556, \"#d8576b\"], [0.6666666666666666, \"#ed7953\"], [0.7777777777777778, \"#fb9f3a\"], [0.8888888888888888, \"#fdca26\"], [1.0, \"#f0f921\"]], \"type\": \"surface\"}], \"table\": [{\"cells\": {\"fill\": {\"color\": \"#EBF0F8\"}, \"line\": {\"color\": \"white\"}}, \"header\": {\"fill\": {\"color\": \"#C8D4E3\"}, \"line\": {\"color\": \"white\"}}, \"type\": \"table\"}]}, \"layout\": {\"annotationdefaults\": {\"arrowcolor\": \"#2a3f5f\", \"arrowhead\": 0, \"arrowwidth\": 1}, \"coloraxis\": {\"colorbar\": {\"outlinewidth\": 0, \"ticks\": \"\"}}, \"colorscale\": {\"diverging\": [[0, \"#8e0152\"], [0.1, \"#c51b7d\"], [0.2, \"#de77ae\"], [0.3, \"#f1b6da\"], [0.4, \"#fde0ef\"], [0.5, \"#f7f7f7\"], [0.6, \"#e6f5d0\"], [0.7, \"#b8e186\"], [0.8, \"#7fbc41\"], [0.9, \"#4d9221\"], [1, \"#276419\"]], \"sequential\": [[0.0, \"#0d0887\"], [0.1111111111111111, \"#46039f\"], [0.2222222222222222, \"#7201a8\"], [0.3333333333333333, \"#9c179e\"], [0.4444444444444444, \"#bd3786\"], [0.5555555555555556, \"#d8576b\"], [0.6666666666666666, \"#ed7953\"], [0.7777777777777778, \"#fb9f3a\"], [0.8888888888888888, \"#fdca26\"], [1.0, \"#f0f921\"]], \"sequentialminus\": [[0.0, \"#0d0887\"], [0.1111111111111111, \"#46039f\"], [0.2222222222222222, \"#7201a8\"], [0.3333333333333333, \"#9c179e\"], [0.4444444444444444, \"#bd3786\"], [0.5555555555555556, \"#d8576b\"], [0.6666666666666666, \"#ed7953\"], [0.7777777777777778, \"#fb9f3a\"], [0.8888888888888888, \"#fdca26\"], [1.0, \"#f0f921\"]]}, \"colorway\": [\"#636efa\", \"#EF553B\", \"#00cc96\", \"#ab63fa\", \"#FFA15A\", \"#19d3f3\", \"#FF6692\", \"#B6E880\", \"#FF97FF\", \"#FECB52\"], \"font\": {\"color\": \"#2a3f5f\"}, \"geo\": {\"bgcolor\": \"white\", \"lakecolor\": \"white\", \"landcolor\": \"#E5ECF6\", \"showlakes\": true, \"showland\": true, \"subunitcolor\": \"white\"}, \"hoverlabel\": {\"align\": \"left\"}, \"hovermode\": \"closest\", \"mapbox\": {\"style\": \"light\"}, \"paper_bgcolor\": \"white\", \"plot_bgcolor\": \"#E5ECF6\", \"polar\": {\"angularaxis\": {\"gridcolor\": \"white\", \"linecolor\": \"white\", \"ticks\": \"\"}, \"bgcolor\": \"#E5ECF6\", \"radialaxis\": {\"gridcolor\": \"white\", \"linecolor\": \"white\", \"ticks\": \"\"}}, \"scene\": {\"xaxis\": {\"backgroundcolor\": \"#E5ECF6\", \"gridcolor\": \"white\", \"gridwidth\": 2, \"linecolor\": \"white\", \"showbackground\": true, \"ticks\": \"\", \"zerolinecolor\": \"white\"}, \"yaxis\": {\"backgroundcolor\": \"#E5ECF6\", \"gridcolor\": \"white\", \"gridwidth\": 2, \"linecolor\": \"white\", \"showbackground\": true, \"ticks\": \"\", \"zerolinecolor\": \"white\"}, \"zaxis\": {\"backgroundcolor\": \"#E5ECF6\", \"gridcolor\": \"white\", \"gridwidth\": 2, \"linecolor\": \"white\", \"showbackground\": true, \"ticks\": \"\", \"zerolinecolor\": \"white\"}}, \"shapedefaults\": {\"line\": {\"color\": \"#2a3f5f\"}}, \"ternary\": {\"aaxis\": {\"gridcolor\": \"white\", \"linecolor\": \"white\", \"ticks\": \"\"}, \"baxis\": {\"gridcolor\": \"white\", \"linecolor\": \"white\", \"ticks\": \"\"}, \"bgcolor\": \"#E5ECF6\", \"caxis\": {\"gridcolor\": \"white\", \"linecolor\": \"white\", \"ticks\": \"\"}}, \"title\": {\"x\": 0.05}, \"xaxis\": {\"automargin\": true, \"gridcolor\": \"white\", \"linecolor\": \"white\", \"ticks\": \"\", \"title\": {\"standoff\": 15}, \"zerolinecolor\": \"white\", \"zerolinewidth\": 2}, \"yaxis\": {\"automargin\": true, \"gridcolor\": \"white\", \"linecolor\": \"white\", \"ticks\": \"\", \"title\": {\"standoff\": 15}, \"zerolinecolor\": \"white\", \"zerolinewidth\": 2}}}},\n",
       "                        {\"responsive\": true}\n",
       "                    ).then(function(){\n",
       "                            \n",
       "var gd = document.getElementById('f000bf63-d18f-46ab-9a9b-37ac5805f774');\n",
       "var x = new MutationObserver(function (mutations, observer) {{\n",
       "        var display = window.getComputedStyle(gd).display;\n",
       "        if (!display || display === 'none') {{\n",
       "            console.log([gd, 'removed!']);\n",
       "            Plotly.purge(gd);\n",
       "            observer.disconnect();\n",
       "        }}\n",
       "}});\n",
       "\n",
       "// Listen for the removal of the full notebook cells\n",
       "var notebookContainer = gd.closest('#notebook-container');\n",
       "if (notebookContainer) {{\n",
       "    x.observe(notebookContainer, {childList: true});\n",
       "}}\n",
       "\n",
       "// Listen for the clearing of the current output cell\n",
       "var outputEl = gd.closest('.output');\n",
       "if (outputEl) {{\n",
       "    x.observe(outputEl, {childList: true});\n",
       "}}\n",
       "\n",
       "                        })\n",
       "                };\n",
       "                });\n",
       "            </script>\n",
       "        </div>"
      ]
     },
     "metadata": {},
     "output_type": "display_data"
    }
   ],
   "source": [
    "fig = go.Figure()\n",
    "\n",
    "fig.add_trace(go.Scatter3d(x=trues_x, y=trues_y, z=trues_z,\n",
    "                    mode='markers',\n",
    "                    name='high error'))\n",
    "fig.add_trace(go.Scatter3d(x=falses_x, y=falses_y, z=falses_z,\n",
    "                    mode='markers',\n",
    "                    name='low error'))\n",
    "\n",
    "fig.show()"
   ]
  },
  {
   "cell_type": "code",
   "execution_count": 17,
   "metadata": {},
   "outputs": [
    {
     "data": {
      "text/plain": [
       "array([1, 2])"
      ]
     },
     "execution_count": 17,
     "metadata": {},
     "output_type": "execute_result"
    }
   ],
   "source": [
    "np.array([[1],[2]]).flatten()"
   ]
  },
  {
   "cell_type": "code",
   "execution_count": null,
   "metadata": {},
   "outputs": [],
   "source": []
  }
 ],
 "metadata": {
  "kernelspec": {
   "display_name": "Python (conda: scan)",
   "language": "python",
   "name": "scan"
  },
  "language_info": {
   "codemirror_mode": {
    "name": "ipython",
    "version": 3
   },
   "file_extension": ".py",
   "mimetype": "text/x-python",
   "name": "python",
   "nbconvert_exporter": "python",
   "pygments_lexer": "ipython3",
   "version": "3.8.2"
  }
 },
 "nbformat": 4,
 "nbformat_minor": 4
}
