{
 "cells": [
  {
   "cell_type": "markdown",
   "metadata": {},
   "source": [
    "## Retrieving data from the database - demo"
   ]
  },
  {
   "cell_type": "markdown",
   "metadata": {},
   "source": [
    "* Every calculation has a unique `task_id` that is common across all collections\n",
    "* Energies, structures, and other calculation info are stored in the `tasks` collection\n",
    "* All SCAN calculations are tagged `production-scan-vXX` where \"XX\" is a number\n",
    "* Volumetric data is stored in separate collections due to its large size"
   ]
  },
  {
   "cell_type": "markdown",
   "metadata": {},
   "source": [
    "---\n",
    "## Header"
   ]
  },
  {
   "cell_type": "markdown",
   "metadata": {},
   "source": [
    "#### Imports"
   ]
  },
  {
   "cell_type": "code",
   "execution_count": 1,
   "metadata": {},
   "outputs": [],
   "source": [
    "import os\n",
    "from pathlib import Path\n",
    "import re\n",
    "import numpy as np\n",
    "import xlrd\n",
    "from matplotlib import pyplot as plt"
   ]
  },
  {
   "cell_type": "code",
   "execution_count": 2,
   "metadata": {},
   "outputs": [],
   "source": [
    "from pymatgen.ext.matproj import MPRester, MPRestError\n",
    "from monty.serialization import loadfn, dumpfn\n",
    "from pymatgen import Structure, Composition\n",
    "from pymatgen.analysis.reaction_calculator import ComputedEntry, ComputedReaction\n",
    "from pymatgen.util.plotting import pretty_plot, periodic_table_heatmap\n",
    "from pymatgen.core import periodic_table\n",
    "from pymatgen.io.vasp.outputs import Elfcar, Chgcar, Poscar"
   ]
  },
  {
   "cell_type": "markdown",
   "metadata": {},
   "source": [
    "#### Settings and utility functions"
   ]
  },
  {
   "cell_type": "code",
   "execution_count": 3,
   "metadata": {},
   "outputs": [],
   "source": [
    "%load_ext autoreload\n",
    "%autoreload 2"
   ]
  },
  {
   "cell_type": "markdown",
   "metadata": {},
   "source": [
    "---\n",
    "## Main Code"
   ]
  },
  {
   "cell_type": "markdown",
   "metadata": {},
   "source": [
    "### Querying the `tasks` collection for energies, structures, etc."
   ]
  },
  {
   "cell_type": "markdown",
   "metadata": {},
   "source": [
    "#### Connect to Ryan's taskdb using `maggma` `MongoStore`"
   ]
  },
  {
   "cell_type": "code",
   "execution_count": 4,
   "metadata": {},
   "outputs": [],
   "source": [
    "from maggma.stores import MongoStore\n",
    "ryandb_tasks = MongoStore(database=\"mp_rk_calculations\",\n",
    "                         collection_name=\"tasks\",\n",
    "                         host=\"mongodb03.nersc.gov\",\n",
    "                         port=27017,\n",
    "                         username=\"mp_rk_calculations_ro\",\n",
    "                         password=\"4df3t3t3554544\",\n",
    "                         last_updated_field = \"last_updated\",\n",
    "                         key = \"metadata.task_id\")\n",
    "ryandb_tasks.connect()"
   ]
  },
  {
   "cell_type": "markdown",
   "metadata": {},
   "source": [
    "#### Example: retrieve SCAN task IDS, energies, and structures for selected formulas"
   ]
  },
  {
   "cell_type": "code",
   "execution_count": 5,
   "metadata": {},
   "outputs": [],
   "source": [
    "formulas = [\"KCl\",\n",
    "'NaCl',\n",
    "\"RbCl\",\n",
    "\"CsCl\",\n",
    "\"FeCl3\",\n",
    "\"GaCl3\",\n",
    "\"RhCl3\",\n",
    "\"AuCl3\",\n",
    "\"InCl3\",\n",
    "\"IrCl3\",\n",
    "\"MgO\",\n",
    "\"CaO\",\n",
    "\"SrO\",\n",
    "\"CuO\",\n",
    "\"ZnO\",\n",
    "\"AgO\",\n",
    "\"CdO\",\n",
    "\"SnO\",\n",
    "\"HgO\",\n",
    "\"CsO2\",\n",
    "\"SrO2\",\n",
    "\"BaO2\",\n",
    "\"IrO2\",\n",
    "]"
   ]
  },
  {
   "cell_type": "markdown",
   "metadata": {},
   "source": [
    "`MongoStore.query()` always returns a list of documents, so we use list comprehensions to get the data we want. Here, `t` is the document (t for \"task document\" and you can see that each field requested, like `formula_pretty` is a field in the task doc you can see in Robo3T"
   ]
  },
  {
   "cell_type": "code",
   "execution_count": 21,
   "metadata": {},
   "outputs": [],
   "source": [
    "tasks = [(t[\"formula_pretty\"],t[\"task_id\"],t[\"output\"][\"energy_per_atom\"],t[\"output\"][\"structure\"]) for t in \\\n",
    "         ryandb_tasks.query({\"formula_pretty\":{\"$in\":formulas},\"tags\":{\"$regex\":\"production-scan\"}})]"
   ]
  },
  {
   "cell_type": "code",
   "execution_count": 15,
   "metadata": {},
   "outputs": [],
   "source": [
    "#tasks = [t for t in ryandb_tasks.query({\"formula_pretty\":{\"$in\":formulas},\"tags\":{\"$regex\":\"production-scan\"}})]"
   ]
  },
  {
   "cell_type": "code",
   "execution_count": 22,
   "metadata": {},
   "outputs": [
    {
     "data": {
      "text/plain": [
       "('AgO',\n",
       " 5360,\n",
       " -18.98283738,\n",
       " {'@module': 'pymatgen.core.structure',\n",
       "  '@class': 'Structure',\n",
       "  'charge': None,\n",
       "  'lattice': {'matrix': [[2.29807909, 2.20352511, -0.47979231],\n",
       "    [2.29807909, -2.20352511, -0.47979231],\n",
       "    [-0.75826146, -0.0, -5.49172091]],\n",
       "   'a': 3.219765686355278,\n",
       "   'b': 3.219765686355278,\n",
       "   'c': 5.543821695820723,\n",
       "   'alpha': 87.13449710011457,\n",
       "   'beta': 87.13449710011457,\n",
       "   'gamma': 86.37284932575909,\n",
       "   'volume': 57.22209642544247},\n",
       "  'sites': [{'species': [{'element': 'Ag', 'occu': 1}],\n",
       "    'abc': [-0.0, 0.5, 0.5],\n",
       "    'xyz': [0.769908815, -1.101762555, -2.9857566099999997],\n",
       "    'label': 'Ag',\n",
       "    'properties': {'magmom': 0.0}},\n",
       "   {'species': [{'element': 'Ag', 'occu': 1}],\n",
       "    'abc': [0.5, 0.0, -0.0],\n",
       "    'xyz': [1.149039545, 1.101762555, -0.239896155],\n",
       "    'label': 'Ag',\n",
       "    'properties': {'magmom': 0.0}},\n",
       "   {'species': [{'element': 'O', 'occu': 1}],\n",
       "    'abc': [0.97842492, 0.02157508, 0.25],\n",
       "    'xyz': [2.108513725, 2.1084426489394827, -1.8527225375],\n",
       "    'label': 'O',\n",
       "    'properties': {'magmom': 0.0}},\n",
       "   {'species': [{'element': 'O', 'occu': 1}],\n",
       "    'abc': [0.02157508, 0.97842492, 0.75],\n",
       "    'xyz': [1.729382995, -2.1084426489394827, -4.5985829925],\n",
       "    'label': 'O',\n",
       "    'properties': {'magmom': 0.0}}]})"
      ]
     },
     "execution_count": 22,
     "metadata": {},
     "output_type": "execute_result"
    }
   ],
   "source": [
    "tasks[0]"
   ]
  },
  {
   "cell_type": "markdown",
   "metadata": {},
   "source": [
    "### Querying the `GridFS` collections for Volumetric data"
   ]
  },
  {
   "cell_type": "markdown",
   "metadata": {},
   "source": [
    "* Each file (AECCAR, CHGCAR, ELFCAR) is stored in its own collection\n",
    "* We will use a `maggma` `GridFSStore` to access each collection"
   ]
  },
  {
   "cell_type": "markdown",
   "metadata": {},
   "source": [
    "### Connect to the volumetric data stores"
   ]
  },
  {
   "cell_type": "code",
   "execution_count": 17,
   "metadata": {},
   "outputs": [],
   "source": [
    "from maggma.stores import GridFSStore\n",
    "elfcar_store = GridFSStore(database=\"mp_rk_calculations\",\n",
    "                         collection_name=\"elfcar_fs\",\n",
    "                         host=\"mongodb03.nersc.gov\",\n",
    "                         port=27017,\n",
    "                         username=\"mp_rk_calculations_ro\",\n",
    "                         password=\"4df3t3t3554544\",\n",
    "                         last_updated_field = \"last_updated\",\n",
    "                         key = \"metadata.task_id\")\n",
    "\n",
    "elfcar_store.connect()"
   ]
  },
  {
   "cell_type": "code",
   "execution_count": 9,
   "metadata": {},
   "outputs": [],
   "source": [
    "from maggma.stores import GridFSStore\n",
    "chgcar_store = GridFSStore(database=\"mp_rk_calculations\",\n",
    "                         collection_name=\"chgcar_fs\",\n",
    "                         host=\"mongodb03.nersc.gov\",\n",
    "                         port=27017,\n",
    "                         username=\"mp_rk_calculations_ro\",\n",
    "                         password=\"4df3t3t3554544\",\n",
    "                         last_updated_field = \"last_updated\",\n",
    "                         key = \"metadata.task_id\")\n",
    "\n",
    "chgcar_store.connect()"
   ]
  },
  {
   "cell_type": "code",
   "execution_count": 10,
   "metadata": {},
   "outputs": [],
   "source": [
    "from maggma.stores import GridFSStore\n",
    "aeccar0_store = GridFSStore(database=\"mp_rk_calculations\",\n",
    "                         collection_name=\"aeccar0_fs\",\n",
    "                         host=\"mongodb03.nersc.gov\",\n",
    "                         port=27017,\n",
    "                         username=\"mp_rk_calculations_ro\",\n",
    "                         password=\"4df3t3t3554544\",\n",
    "                         last_updated_field = \"last_updated\",\n",
    "                         key = \"metadata.task_id\")\n",
    "\n",
    "aeccar0_store.connect()"
   ]
  },
  {
   "cell_type": "code",
   "execution_count": 11,
   "metadata": {},
   "outputs": [],
   "source": [
    "from maggma.stores import GridFSStore\n",
    "aeccar2_store = GridFSStore(database=\"mp_rk_calculations\",\n",
    "                         collection_name=\"aeccar2_fs\",\n",
    "                         host=\"mongodb03.nersc.gov\",\n",
    "                         port=27017,\n",
    "                         username=\"mp_rk_calculations_ro\",\n",
    "                         password=\"4df3t3t3554544\",\n",
    "                         last_updated_field = \"last_updated\",\n",
    "                         key = \"metadata.task_id\")\n",
    "\n",
    "aeccar2_store.connect()"
   ]
  },
  {
   "cell_type": "markdown",
   "metadata": {},
   "source": [
    "#### Example: Download POSCAR, CHGCAR, ELFCAR, AECCAR0, AECCAR2 to directories\n",
    "\n",
    "In this example, I'll pick the `task_id` of the first task in the `tasks` list from above and write the data files to the current directory"
   ]
  },
  {
   "cell_type": "code",
   "execution_count": 12,
   "metadata": {},
   "outputs": [],
   "source": [
    "cpd = tasks[0]\n",
    "\n",
    "if not Path.exists(Path.cwd() / cpd[0]):\n",
    "    Path.mkdir(Path.cwd() /cpd[0])\n",
    "    target_dir = Path.cwd() / cpd[0]\n",
    "\n",
    "# save structure as POSCAR\n",
    "Structure.from_dict(cpd[3]).to(\"poscar\", target_dir / \"POSCAR\")\n",
    "\n",
    "# ELFCAR\n",
    "elfcar = [e for e in elfcar_store.query({\"metadata.task_id\":cpd[1]})][0]\n",
    "if elfcar.get(\"data_aug\"):\n",
    "    del elfcar[\"data_aug\"] # bug fix line\n",
    "Elfcar.from_dict(elfcar).write_file(target_dir / \"ELFCAR\")\n",
    "\n",
    "# CHGCAR\n",
    "chgcar = [e for e in chgcar_store.query({\"metadata.task_id\":cpd[1]})][0]\n",
    "Chgcar.from_dict(chgcar).write_file(target_dir / \"CHGCAR\")\n",
    "\n",
    "# AECCAR0\n",
    "aec0 = [e for e in aeccar0_store.query({\"metadata.task_id\":cpd[1]})][0]\n",
    "if aec0.get(\"data_aug\"):\n",
    "    del aec0[\"data_aug\"] # bug fix line\n",
    "Chgcar.from_dict(aec0).write_file(target_dir / \"AECCAR0\")\n",
    "\n",
    "# AECCAR2\n",
    "aec2 = [e for e in aeccar2_store.query({\"metadata.task_id\":cpd[1]})][0]\n",
    "if aec2.get(\"data_aug\"):\n",
    "    del aec2[\"data_aug\"] # bug fix line\n",
    "Chgcar.from_dict(aec2).write_file(target_dir / \"AECCAR2\")"
   ]
  },
  {
   "cell_type": "markdown",
   "metadata": {},
   "source": [
    "## Appendix\n",
    "\n",
    "---"
   ]
  },
  {
   "cell_type": "code",
   "execution_count": null,
   "metadata": {},
   "outputs": [],
   "source": []
  },
  {
   "cell_type": "code",
   "execution_count": null,
   "metadata": {},
   "outputs": [],
   "source": []
  }
 ],
 "metadata": {
  "kernelspec": {
   "display_name": "Python (conda: scan)",
   "language": "python",
   "name": "scan"
  },
  "language_info": {
   "codemirror_mode": {
    "name": "ipython",
    "version": 3
   },
   "file_extension": ".py",
   "mimetype": "text/x-python",
   "name": "python",
   "nbconvert_exporter": "python",
   "pygments_lexer": "ipython3",
   "version": "3.8.2"
  },
  "widgets": {
   "application/vnd.jupyter.widget-state+json": {
    "state": {},
    "version_major": 2,
    "version_minor": 0
   }
  }
 },
 "nbformat": 4,
 "nbformat_minor": 4
}
