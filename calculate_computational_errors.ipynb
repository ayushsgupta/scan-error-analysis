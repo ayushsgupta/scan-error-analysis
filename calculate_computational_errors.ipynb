{
 "cells": [
  {
   "cell_type": "markdown",
   "metadata": {},
   "source": [
    "# Calculating Computational Errors in Formation Energy"
   ]
  },
  {
   "cell_type": "markdown",
   "metadata": {},
   "source": [
    "## Load Imports and Files"
   ]
  },
  {
   "cell_type": "code",
   "execution_count": 131,
   "metadata": {},
   "outputs": [
    {
     "name": "stdout",
     "output_type": "stream",
     "text": [
      "Imports successfully loaded\n"
     ]
    }
   ],
   "source": [
    "%run imports.py"
   ]
  },
  {
   "cell_type": "markdown",
   "metadata": {},
   "source": [
    "#### Computed Data"
   ]
  },
  {
   "cell_type": "code",
   "execution_count": 2,
   "metadata": {},
   "outputs": [
    {
     "name": "stderr",
     "output_type": "stream",
     "text": [
      "/home/ayush/miniconda3/envs/scan/lib/python3.8/site-packages/pymatgen/core/periodic_table.py:438: UserWarning:\n",
      "\n",
      "No electronegativity for Ne. Setting to NaN. This has no physical meaning, and is mainly done to avoid errors caused by the code expecting a float.\n",
      "\n",
      "/home/ayush/miniconda3/envs/scan/lib/python3.8/site-packages/pymatgen/core/periodic_table.py:438: UserWarning:\n",
      "\n",
      "No electronegativity for Ar. Setting to NaN. This has no physical meaning, and is mainly done to avoid errors caused by the code expecting a float.\n",
      "\n"
     ]
    }
   ],
   "source": [
    "all_computed_entries = loadfn('data/computed_entries.json')"
   ]
  },
  {
   "cell_type": "code",
   "execution_count": 92,
   "metadata": {},
   "outputs": [],
   "source": [
    "binary_formulas_ids = loadfn('data/binary_formulas_ids.json')\n",
    "element_formulas_ids = loadfn('data/element_formulas_ids.json')"
   ]
  },
  {
   "cell_type": "markdown",
   "metadata": {},
   "source": [
    "#### Experimental Data"
   ]
  },
  {
   "cell_type": "code",
   "execution_count": 125,
   "metadata": {},
   "outputs": [],
   "source": [
    "mp_expt_data = loadfn('data/MP_expt_energy_all.json')\n",
    "mpcontribs_data = loadfn('data/2020-09-10_final_mpthermo_contribs.json')"
   ]
  },
  {
   "cell_type": "markdown",
   "metadata": {},
   "source": [
    "## Calculate Computed Formation Energies"
   ]
  },
  {
   "cell_type": "code",
   "execution_count": 129,
   "metadata": {},
   "outputs": [],
   "source": [
    "def get_rxn_energy_from_objects(compound_entry, element_entries_list):\n",
    "    rxn = ComputedReaction(element_entries_list, [compound_entry])\n",
    "    assert(len(rxn.products) == 1)\n",
    "    product = rxn.products[0]\n",
    "    if np.random.random_sample() < 0.05:\n",
    "        print(str(rxn), '(product has {} atoms)'.format(int(product.num_atoms)))\n",
    "    return rxn.calculated_reaction_energy / product.num_atoms\n",
    "\n",
    "def get_formation_energy(f):\n",
    "    ID = str(binary_formulas_ids[f])\n",
    "    compound_entry = all_computed_entries[ID]\n",
    "    elem_ids_list = [str(element_formulas_ids[str(e)]) for e in compound_entry.composition.elements]\n",
    "    entry_list = list()\n",
    "    for elemID in elem_ids_list:\n",
    "        entry_list.append(all_computed_entries[elemID])\n",
    "    return get_rxn_energy_from_objects(compound_entry, entry_list)"
   ]
  },
  {
   "cell_type": "code",
   "execution_count": 130,
   "metadata": {},
   "outputs": [
    {
     "name": "stdout",
     "output_type": "stream",
     "text": [
      "3 Li + 0.5 N2 -> Li3N (product has 4 atoms)\n",
      "Be + 2 Br -> BeBr2 (product has 3 atoms)\n",
      "Hf + 2 Cl2 -> HfCl4 (product has 5 atoms)\n",
      "Bi + 3 Br -> BiBr3 (product has 4 atoms)\n",
      "Hg + Br -> HgBr (product has 2 atoms)\n",
      "4 Ni + 3 B -> Ni4B3 (product has 7 atoms)\n",
      "2 K + S -> K2S (product has 3 atoms)\n",
      "Na + Br -> NaBr (product has 2 atoms)\n",
      "Nb + 0.5 N2 -> NbN (product has 2 atoms)\n",
      "Si + 4 Br -> SiBr4 (product has 5 atoms)\n",
      "Pd + 0.5 O2 -> PdO (product has 2 atoms)\n",
      "Mn + As -> MnAs (product has 2 atoms)\n",
      "Cs + 0.5 F2 -> CsF (product has 2 atoms)\n",
      "Mn + Sb -> MnSb (product has 2 atoms)\n",
      "Cd + 2 Br -> CdBr2 (product has 3 atoms)\n",
      "Sr + 2 I -> SrI2 (product has 3 atoms)\n",
      "Ti + H2 -> TiH2 (product has 3 atoms)\n",
      "Mn + O2 -> MnO2 (product has 3 atoms)\n",
      "2 Mg + Cu -> Mg2Cu (product has 3 atoms)\n",
      "Mn + 2 S -> MnS2 (product has 3 atoms)\n"
     ]
    }
   ],
   "source": [
    "computed_formation_energies = {f:get_formation_energy(f) for f in binary_formulas_ids.keys()}"
   ]
  },
  {
   "cell_type": "code",
   "execution_count": 132,
   "metadata": {},
   "outputs": [
    {
     "name": "stdout",
     "output_type": "stream",
     "text": [
      "AuCl : -0.22487297125000083\n",
      "SiO2 : -3.0322210149999997\n",
      "CrB : -0.5015574837500001\n",
      "Cr7C3 : -0.07071246000000145\n",
      "CrN : -0.6127655081249959\n",
      "Mn2B : -0.2830155081321853\n",
      "CaSi : -0.5650863549999965\n",
      "Li2Te : -1.1428724855555525\n",
      "RuCl3 : -0.6651705231249956\n",
      "SbCl3 : -0.9073948843749946\n",
      "TiI4 : -0.7723885633333282\n",
      "HoCl3 : -2.4074358327083267\n",
      "HgO : -0.30253178708333195\n",
      "WO3 : -2.215627367812491\n",
      "NaF : -2.913346032499998\n",
      "TiB2 : -1.0897324405555568\n",
      "Ti3O5 : -3.2178924800000015\n",
      "MgCu2 : -0.12568925000000064\n"
     ]
    }
   ],
   "source": [
    "sample(computed_formation_energies)"
   ]
  },
  {
   "cell_type": "markdown",
   "metadata": {},
   "source": [
    "## Organize and Convert (eV/atom) Experimental Data"
   ]
  },
  {
   "cell_type": "code",
   "execution_count": 87,
   "metadata": {},
   "outputs": [],
   "source": [
    "formula_extractor = lambda e: e['formula']\n",
    "phase_extractor = lambda e: e['data']['phase']\n",
    "enthalpy_extractor = lambda e: e['data']['298K'].get('ΔHᶠ', np.inf)\n",
    "\n",
    "_solids = list(set(phases) - {'amorph', 'gas', 'gas.', 'liq', 'liquid', 'none', 'ref'})\n",
    "_dsolids = [e for e in d if phase_extractor(e) in _solids]\n",
    "\n",
    "mpcontribs_solid_data = {Composition(formula_extractor(e)).reduced_formula: \\\n",
    "                         Quantity(enthalpy_extractor(e)).to('eV/atom').magnitude \\\n",
    "                         for e in _dsolids if enthalpy_extractor(e) != np.inf}"
   ]
  },
  {
   "cell_type": "code",
   "execution_count": 89,
   "metadata": {},
   "outputs": [],
   "source": [
    "def flip_formula(f):\n",
    "    c = Composition(f)\n",
    "    rev_elems = reversed(c.elements)\n",
    "    dicts = c.as_dict()\n",
    "    newformula = ''\n",
    "    for e in rev_elems:\n",
    "        num = int(dicts[str(e)])\n",
    "        newformula += str(e) + (str(num) if num > 1 else '')\n",
    "    return newformula\n",
    "\n",
    "def experimental_formation_energy(f):\n",
    "    try:\n",
    "        return mpcontribs_solid_data[f]\n",
    "    except KeyError:\n",
    "        try:\n",
    "            return mpcontribs_solid_data[flip_formula(f)]\n",
    "        except KeyError:\n",
    "            return mp_expt_data[f]"
   ]
  },
  {
   "cell_type": "code",
   "execution_count": 133,
   "metadata": {},
   "outputs": [
    {
     "name": "stdout",
     "output_type": "stream",
     "text": [
      "LiH : -0.46963096879937977\n",
      "AsF3 : -2.4790155440414505\n",
      "CrN : -0.6070974593852131\n",
      "FeCl2 : -1.1809497964696893\n",
      "SrO : -3.068010375107416\n",
      "Li2O2 : -1.639163658553558\n",
      "MnBr2 : -1.3297357968984367\n",
      "MnTe : -0.5658891232319146\n",
      "IrO2 : -0.8616162840905953\n",
      "Mg3N2 : -0.955745272060079\n",
      "P2O5 : -4.456547115595681\n",
      "TiH2 : -0.4986871987807108\n",
      "TiF3 : -3.7195550049135093\n",
      "MnO : -1.9946036953476551\n",
      "Zn3N2 : -0.046846498846305026\n",
      "Fe2P : -0.5534519996444001\n",
      "TaCl5 : -1.4837747546646334\n",
      "NaI : -1.4917241494909865\n",
      "TaN : -1.3074526171374732\n"
     ]
    }
   ],
   "source": [
    "experimental_formation_energies = {f:experimental_formation_energy(f) / Composition(f).num_atoms \\\n",
    "                                   for f in binary_formulas_ids.keys()}\n",
    "sample(experimental_formation_energies)"
   ]
  },
  {
   "cell_type": "markdown",
   "metadata": {},
   "source": [
    "##### Problem?"
   ]
  },
  {
   "cell_type": "code",
   "execution_count": 122,
   "metadata": {},
   "outputs": [
    {
     "name": "stdout",
     "output_type": "stream",
     "text": [
      "['TiCr2']\n",
      "0.0010364269656262172\n"
     ]
    }
   ],
   "source": [
    "print([f for f in experimental_formation_energies.keys() if experimental_formation_energies[f] > 0])\n",
    "print(experimental_formation_energies['TiCr2'])"
   ]
  },
  {
   "cell_type": "markdown",
   "metadata": {},
   "source": [
    "## Calculate Errors and Write Locally"
   ]
  },
  {
   "cell_type": "code",
   "execution_count": 116,
   "metadata": {},
   "outputs": [],
   "source": [
    "absolute_errors = {f:computed_formation_energies[f]-experimental_formation_energies[f] \\\n",
    "                   for f in binary_formulas_ids.keys()}\n",
    "relative_errors = {f:(computed_formation_energies[f]-experimental_formation_energies[f])/experimental_formation_energies[f] \\\n",
    "                   for f in binary_formulas_ids.keys()}"
   ]
  },
  {
   "cell_type": "code",
   "execution_count": 134,
   "metadata": {},
   "outputs": [
    {
     "name": "stdout",
     "output_type": "stream",
     "text": [
      "BaH2 : 0.0001755016913479457\n",
      "NdF3 : 0.012198873136208377\n",
      "CeCl3 : 0.18421454644775892\n",
      "MgO : 0.11112332620036636\n",
      "MgF2 : 0.08844333778539415\n",
      "SiO2 : 0.1145681737646651\n",
      "HgBr : 0.6048849037396409\n",
      "KO2 : 0.037576742397489094\n",
      "Fe2B : 0.050834690755621414\n",
      "FeF3 : 0.2209728162384348\n",
      "ZnO : 0.21792565475994974\n",
      "Ni3S2 : 0.03832853305601258\n",
      "Ni3S4 : -0.02593194517209224\n",
      "Ni3P : 0.1747209092048665\n",
      "MgH2 : -0.012335339981764781\n",
      "CsBr : 0.10251954182434275\n",
      "TlCl : -0.014181959345627604\n",
      "UO2 : 0.33958227818148057\n",
      "Mn3O4 : -0.0651794963209551\n",
      "V3Si : -0.025642751565107758\n",
      "SrF2 : 0.01659522557545756\n",
      "ZrN : -0.08581870439734818\n"
     ]
    }
   ],
   "source": [
    "sample(absolute_errors)"
   ]
  },
  {
   "cell_type": "code",
   "execution_count": 135,
   "metadata": {},
   "outputs": [
    {
     "name": "stdout",
     "output_type": "stream",
     "text": [
      "CaF2 : -0.009892821495280407\n",
      "AsCl3 : -0.06812733742076625\n",
      "AgCl : -0.16714996823718878\n",
      "SO3 : 0.07711275666298324\n",
      "VF4 : 0.030561319945711762\n",
      "CoF3 : -0.02507375376276877\n",
      "TiSi : 0.15093177796108376\n",
      "TiSi2 : 0.12313549937103056\n",
      "FeS : -0.2930407008455182\n",
      "RbF : -0.015068095044816272\n",
      "RbCl : -0.044954500924602535\n",
      "SbF3 : 0.013297915655125675\n",
      "InBr : 6.107064039599332\n",
      "WCl4 : -0.03138279355178374\n",
      "TaFe2 : -0.38677413597929217\n",
      "Si3N4 : 0.20855977206335027\n",
      "HgBr2 : -0.17504072396660303\n"
     ]
    }
   ],
   "source": [
    "sample(relative_errors)"
   ]
  },
  {
   "cell_type": "markdown",
   "metadata": {},
   "source": [
    "##### Compounds with high error (> 1.5 eV)"
   ]
  },
  {
   "cell_type": "code",
   "execution_count": 136,
   "metadata": {},
   "outputs": [
    {
     "data": {
      "text/plain": [
       "{'VO2': 2.328797360043708, 'P2O5': 2.3106033421603063}"
      ]
     },
     "execution_count": 136,
     "metadata": {},
     "output_type": "execute_result"
    }
   ],
   "source": [
    "{key:value for (key, value) in absolute_errors.items() if abs(value) > 1.5}"
   ]
  },
  {
   "cell_type": "code",
   "execution_count": 137,
   "metadata": {},
   "outputs": [],
   "source": [
    "dumpfn(absolute_errors, 'data/absolute_errors.json')\n",
    "dumpfn(relative_errors, 'data/relative_errors.json')"
   ]
  },
  {
   "cell_type": "code",
   "execution_count": null,
   "metadata": {},
   "outputs": [],
   "source": []
  }
 ],
 "metadata": {
  "kernelspec": {
   "display_name": "Python (conda: scan)",
   "language": "python",
   "name": "scan"
  },
  "language_info": {
   "codemirror_mode": {
    "name": "ipython",
    "version": 3
   },
   "file_extension": ".py",
   "mimetype": "text/x-python",
   "name": "python",
   "nbconvert_exporter": "python",
   "pygments_lexer": "ipython3",
   "version": "3.8.2"
  }
 },
 "nbformat": 4,
 "nbformat_minor": 4
}
