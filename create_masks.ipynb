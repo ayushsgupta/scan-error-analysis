{
 "cells": [
  {
   "cell_type": "markdown",
   "metadata": {},
   "source": [
    "# Run Bader Analysis & Create Masks"
   ]
  },
  {
   "cell_type": "markdown",
   "metadata": {},
   "source": [
    "### Load Imports"
   ]
  },
  {
   "cell_type": "code",
   "execution_count": 1,
   "metadata": {},
   "outputs": [
    {
     "name": "stderr",
     "output_type": "stream",
     "text": [
      "/home/ayush/miniconda3/envs/scan/lib/python3.8/site-packages/pymatgen/ext/matproj.py:454: DeprecationWarning:\n",
      "\n",
      "__init__ is deprecated\n",
      "MaterialsProjectCompatibility will be updated with new correction classes as well as new values of corrections and uncertainties in 2020\n",
      "\n"
     ]
    },
    {
     "name": "stdout",
     "output_type": "stream",
     "text": [
      "Imports successfully loaded\n"
     ]
    }
   ],
   "source": [
    "%run imports.py"
   ]
  },
  {
   "cell_type": "markdown",
   "metadata": {},
   "source": [
    "### Define Set of Interest and Helpers"
   ]
  },
  {
   "cell_type": "code",
   "execution_count": 6,
   "metadata": {},
   "outputs": [],
   "source": [
    "formulas_ids = loadfn('data/binary_formulas_ids.json')"
   ]
  },
  {
   "cell_type": "code",
   "execution_count": 10,
   "metadata": {},
   "outputs": [
    {
     "name": "stdout",
     "output_type": "stream",
     "text": [
      "{'LiH': 6405, 'Be2C': 3890, 'Be3N2': 7373, 'BN': 11133, 'BeO': 3914, 'B2O3': 5804, 'BeF2': 10090, 'Li3N': 3957, 'MgB2': 3996, 'MgB4': 6135, 'AlN': 3955, 'Al2O3': 4648, 'AlF3': 4827, 'BeS': 3901, 'LiCl': 2779, 'BeCl2': 6017, 'TiB2': 4392, 'KF': 3992, 'TiB': 4837, 'AlCl3': 6454, 'TiH2': 4601, 'KO2': 4826, 'TiC': 3929, 'CaO': 3926, 'NaCl': 3930, 'CaF2': 4019, 'MgCl2': 6412, 'Cr3C2': 5874, 'BeBr2': 6240, 'Cr2O3': 5312, 'FeO': 2936, 'Fe2O3': 10792, 'CoO': 4617, 'NaBr': 4102, 'MgBr2': 4782, 'AlBr3': 8414, 'FeS': 5364, 'FeS2': 4870, 'FeCl2': 7394, 'FeCl3': 10278, 'CoCl2': 10118, 'KBr': 4406, 'CaBr2': 6359, 'SrF2': 4026, 'BeI2': 10408, 'TiBr3': 9789, 'TiBr4': 9416, 'SrS': 2180, 'FeBr2': 4999, 'SrCl2': 4510, 'Li2O': 3947, 'BaO': 4072, 'BaF2': 2072, 'NbCl5': 9887, 'MoCl5': 10201, 'LiF': 2597, 'NaH': 3882, 'CsF': 4212, 'BaS': 4226, 'BaCl2': 4682, 'SrBr2': 9493, 'ZrBr3': 7850, 'MoBr2': 9879, 'MoBr3': 8450, 'ICl': 8661, 'CsCl': 4331, 'KI': 4687, 'CaI2': 5723, 'ZrBr4': 10375, 'TiI3': 8706, 'NbBr5': 10389, 'FeI2': 5431, 'Ta2O5': 7076, 'WO2': 7562, 'WO3': 10285, 'BaBr2': 7722, 'HgO': 5662, 'HgF2': 4089, 'TaCl5': 9731, 'PbO2': 4656, 'Pb3O4': 9068, 'HgCl2': 8428, 'WCl2': 9914, 'PbCl2': 6190, 'WCl4': 7962, 'Mg3N2': 10642, 'NaO2': 5462, 'MgF2': 4611, 'KH': 4035, 'BaI2': 7921, 'WBr6': 7740, 'P3N5': 6344, 'SiO2': 5557, 'Si3N4': 5570, 'HgBr2': 6853, 'PbBr2': 6417, 'Mg2Si': 4283, 'K2O': 4311, 'K2O2': 5692, 'Na2S': 4252, 'MgS': 3942, 'TiN': 3989, 'Cr7C3': 9927, 'Cr23C6': 8986, 'VN': 4758, 'TiO': 2167, 'TiO2': 4787, 'CrN': 2820, 'Cr2N': 7468, 'TiF3': 8989, 'TiF4': 10948, 'Ti2O3': 6283, 'V2O3': 7408, 'Fe3O4': 11087, 'Co3O4': 6862, 'FeF2': 4757, 'FeF3': 6094, 'K2S': 2085, 'CaS': 4079, 'KCl': 4346, 'CoF3': 7239, 'CaCl2': 5863, 'CuO': 6872, 'Cu2O': 4493, 'LiBr': 4644, 'CuF2': 5822, 'TiCl3': 10674, 'TiCl4': 9327, 'NiS2': 7178, 'Ni3S2': 4800, 'Ni3S4': 7019, 'NiCl2': 6111, 'CuCl': 5298, 'CuCl2': 6936, 'SrO': 3979, 'ZrN': 4018, 'ZrO2': 6355, 'Ti3O5': 8994, 'ZrF4': 8091, 'NbO2': 8563, 'Nb2O5': 10373, 'MoO2': 10179, 'MoO3': 9534, 'Li2O2': 4319, 'LiI': 5278, 'ZrCl2': 7051, 'ZrCl3': 8061, 'ZrCl4': 7958, 'MoCl6': 10101, 'NaI': 4298, 'MgI2': 5275, 'MgH2': 4201, 'TiI4': 8381, 'WCl6': 9665, 'PbF2': 4108, 'SrI2': 10524, 'Na2O': 4002, 'Na2O2': 5663, 'NaF': 3907, 'MgO': 3915}\n",
      "\n",
      "LENGTH: 160\n"
     ]
    }
   ],
   "source": [
    "print(formulas_ids)\n",
    "print('\\nLENGTH:', len(formulas_ids))"
   ]
  },
  {
   "cell_type": "code",
   "execution_count": 4,
   "metadata": {},
   "outputs": [
    {
     "name": "stdout",
     "output_type": "stream",
     "text": [
      "/mnt/c/Users/Ayush/Desktop/scan-error-analysis\n",
      "/mnt/c/Users/Ayush/Desktop/scan-error-analysis/CALCS/\n"
     ]
    }
   ],
   "source": [
    "working_dict = os.getcwd()\n",
    "calc_dict = os.path.join(working_dict, 'CALCS/')\n",
    "print(working_dict)\n",
    "print(calc_dict)"
   ]
  },
  {
   "cell_type": "code",
   "execution_count": 5,
   "metadata": {},
   "outputs": [],
   "source": [
    "def filesize_kb(path):\n",
    "    stats = os.stat(path)\n",
    "    return stats.st_size / 1024.0"
   ]
  },
  {
   "cell_type": "markdown",
   "metadata": {},
   "source": [
    "### Run Bader Analysis"
   ]
  },
  {
   "cell_type": "code",
   "execution_count": 6,
   "metadata": {
    "scrolled": true
   },
   "outputs": [
    {
     "name": "stderr",
     "output_type": "stream",
     "text": [
      "100%|██████████| 160/160 [1:03:59<00:00, 24.00s/it]\n"
     ]
    }
   ],
   "source": [
    "mask_dict = {}\n",
    "subprocess.run(['mkdir', 'CALCS/'])\n",
    "os.chdir(calc_dict)\n",
    "\n",
    "for i in tqdm([str(x) for x in formulas_ids.values()]):\n",
    "    elfpath, chgpath, refpath = '../files/ELFCAR_{0}'.format(i), \\\n",
    "                                '../files/CHGCAR_{0}'.format(i), \\\n",
    "                                '../files/CHGREF_{0}'.format(i)\n",
    "    if os.path.isfile(refpath) and filesize_kb(refpath) > 100:\n",
    "        subprocess.run(['bader', chgpath, '-ref', refpath, '-p', 'atom_index'])\n",
    "    else:\n",
    "        subprocess.run(['bader', chgpath, '-p', 'atom_index'])\n",
    "    mask = Chgcar.from_file('AtIndex.dat')\n",
    "    mask_dict[i] = mask\n",
    "    subprocess.run(['rm', 'ACF.dat', 'AtIndex.dat', 'AVF.dat', 'BCF.dat'])\n",
    "    \n",
    "os.chdir(working_dict)\n",
    "subprocess.run(['rm', 'CALCS/'])"
   ]
  },
  {
   "cell_type": "code",
   "execution_count": 7,
   "metadata": {},
   "outputs": [
    {
     "data": {
      "text/plain": [
       "dict_keys(['6405', '3890', '7373', '11133', '3914', '5804', '10090', '3957', '3996', '6135', '3955', '4648', '4827', '3901', '2779', '6017', '4392', '3992', '4837', '6454', '4601', '4826', '3929', '3926', '3930', '4019', '6412', '5874', '6240', '5312', '2936', '10792', '4617', '4102', '4782', '8414', '5364', '4870', '7394', '10278', '10118', '4406', '6359', '4026', '10408', '9789', '9416', '2180', '4999', '4510', '3947', '4072', '2072', '9887', '10201', '2597', '3882', '4212', '4226', '4682', '9493', '7850', '9879', '8450', '8661', '4331', '4687', '5723', '10375', '8706', '10389', '5431', '7076', '7562', '10285', '7722', '5662', '4089', '9731', '4656', '9068', '8428', '9914', '6190', '7962', '10642', '5462', '4611', '4035', '7921', '7740', '6344', '5557', '5570', '6853', '6417', '4283', '4311', '5692', '4252', '3942', '3989', '9927', '8986', '4758', '2167', '4787', '2820', '7468', '8989', '10948', '6283', '7408', '11087', '6862', '4757', '6094', '2085', '4079', '4346', '7239', '5863', '6872', '4493', '4644', '5822', '10674', '9327', '7178', '4800', '7019', '6111', '5298', '6936', '3979', '4018', '6355', '8994', '8091', '8563', '10373', '10179', '9534', '4319', '5278', '7051', '8061', '7958', '10101', '4298', '5275', '4201', '8381', '9665', '4108', '10524', '4002', '5663', '3907', '3915'])"
      ]
     },
     "execution_count": 7,
     "metadata": {},
     "output_type": "execute_result"
    }
   ],
   "source": [
    "mask_dict.keys()"
   ]
  },
  {
   "cell_type": "code",
   "execution_count": 8,
   "metadata": {},
   "outputs": [
    {
     "data": {
      "text/plain": [
       "{'6405': <pymatgen.io.vasp.outputs.Chgcar at 0x7f1df467f400>,\n",
       " '3890': <pymatgen.io.vasp.outputs.Chgcar at 0x7f1df54b9580>,\n",
       " '7373': <pymatgen.io.vasp.outputs.Chgcar at 0x7f1e58275df0>,\n",
       " '11133': <pymatgen.io.vasp.outputs.Chgcar at 0x7f1df4612580>,\n",
       " '3914': <pymatgen.io.vasp.outputs.Chgcar at 0x7f1df467f8e0>,\n",
       " '5804': <pymatgen.io.vasp.outputs.Chgcar at 0x7f1e582753d0>,\n",
       " '10090': <pymatgen.io.vasp.outputs.Chgcar at 0x7f1df4612850>,\n",
       " '3957': <pymatgen.io.vasp.outputs.Chgcar at 0x7f1df467f580>,\n",
       " '3996': <pymatgen.io.vasp.outputs.Chgcar at 0x7f1df4612e80>,\n",
       " '6135': <pymatgen.io.vasp.outputs.Chgcar at 0x7f1df4612fd0>,\n",
       " '3955': <pymatgen.io.vasp.outputs.Chgcar at 0x7f1df4613340>,\n",
       " '4648': <pymatgen.io.vasp.outputs.Chgcar at 0x7f1df46185e0>,\n",
       " '4827': <pymatgen.io.vasp.outputs.Chgcar at 0x7f1df4618700>,\n",
       " '3901': <pymatgen.io.vasp.outputs.Chgcar at 0x7f1df4613f70>,\n",
       " '2779': <pymatgen.io.vasp.outputs.Chgcar at 0x7f1df4611e50>,\n",
       " '6017': <pymatgen.io.vasp.outputs.Chgcar at 0x7f1df4624d00>,\n",
       " '4392': <pymatgen.io.vasp.outputs.Chgcar at 0x7f1df4624610>,\n",
       " '3992': <pymatgen.io.vasp.outputs.Chgcar at 0x7f1df46119a0>,\n",
       " '4837': <pymatgen.io.vasp.outputs.Chgcar at 0x7f1df4628c40>,\n",
       " '6454': <pymatgen.io.vasp.outputs.Chgcar at 0x7f1df462d340>,\n",
       " '4601': <pymatgen.io.vasp.outputs.Chgcar at 0x7f1df462d970>,\n",
       " '4826': <pymatgen.io.vasp.outputs.Chgcar at 0x7f1df4632ac0>,\n",
       " '3929': <pymatgen.io.vasp.outputs.Chgcar at 0x7f1df4632af0>,\n",
       " '3926': <pymatgen.io.vasp.outputs.Chgcar at 0x7f1df4632a00>,\n",
       " '3930': <pymatgen.io.vasp.outputs.Chgcar at 0x7f1df4637d00>,\n",
       " '4019': <pymatgen.io.vasp.outputs.Chgcar at 0x7f1df4637fa0>,\n",
       " '6412': <pymatgen.io.vasp.outputs.Chgcar at 0x7f1df462d460>,\n",
       " '5874': <pymatgen.io.vasp.outputs.Chgcar at 0x7f1df4637e20>,\n",
       " '6240': <pymatgen.io.vasp.outputs.Chgcar at 0x7f1df463a970>,\n",
       " '5312': <pymatgen.io.vasp.outputs.Chgcar at 0x7f1df463ae80>,\n",
       " '2936': <pymatgen.io.vasp.outputs.Chgcar at 0x7f1df4637fd0>,\n",
       " '10792': <pymatgen.io.vasp.outputs.Chgcar at 0x7f1df463adc0>,\n",
       " '4617': <pymatgen.io.vasp.outputs.Chgcar at 0x7f1df01bb760>,\n",
       " '4102': <pymatgen.io.vasp.outputs.Chgcar at 0x7f1df463afa0>,\n",
       " '4782': <pymatgen.io.vasp.outputs.Chgcar at 0x7f1df01b4040>,\n",
       " '8414': <pymatgen.io.vasp.outputs.Chgcar at 0x7f1df01b4fd0>,\n",
       " '5364': <pymatgen.io.vasp.outputs.Chgcar at 0x7f1df01bf880>,\n",
       " '4870': <pymatgen.io.vasp.outputs.Chgcar at 0x7f1df01b4fa0>,\n",
       " '7394': <pymatgen.io.vasp.outputs.Chgcar at 0x7f1df01bb8e0>,\n",
       " '10278': <pymatgen.io.vasp.outputs.Chgcar at 0x7f1df01bb520>,\n",
       " '10118': <pymatgen.io.vasp.outputs.Chgcar at 0x7f1df01bfa60>,\n",
       " '4406': <pymatgen.io.vasp.outputs.Chgcar at 0x7f1df01c3130>,\n",
       " '6359': <pymatgen.io.vasp.outputs.Chgcar at 0x7f1df01ca5e0>,\n",
       " '4026': <pymatgen.io.vasp.outputs.Chgcar at 0x7f1df01ca910>,\n",
       " '10408': <pymatgen.io.vasp.outputs.Chgcar at 0x7f1df01caf40>,\n",
       " '9789': <pymatgen.io.vasp.outputs.Chgcar at 0x7f1df01d1a00>,\n",
       " '9416': <pymatgen.io.vasp.outputs.Chgcar at 0x7f1df01ce820>,\n",
       " '2180': <pymatgen.io.vasp.outputs.Chgcar at 0x7f1df01ca700>,\n",
       " '4999': <pymatgen.io.vasp.outputs.Chgcar at 0x7f1df01d8f70>,\n",
       " '4510': <pymatgen.io.vasp.outputs.Chgcar at 0x7f1df01d8be0>,\n",
       " '3947': <pymatgen.io.vasp.outputs.Chgcar at 0x7f1df01d1df0>,\n",
       " '4072': <pymatgen.io.vasp.outputs.Chgcar at 0x7f1df01d1ee0>,\n",
       " '2072': <pymatgen.io.vasp.outputs.Chgcar at 0x7f1df01e0b50>,\n",
       " '9887': <pymatgen.io.vasp.outputs.Chgcar at 0x7f1df01dcfa0>,\n",
       " '10201': <pymatgen.io.vasp.outputs.Chgcar at 0x7f1df01e0340>,\n",
       " '2597': <pymatgen.io.vasp.outputs.Chgcar at 0x7f1df01e0220>,\n",
       " '3882': <pymatgen.io.vasp.outputs.Chgcar at 0x7f1df01e7ac0>,\n",
       " '4212': <pymatgen.io.vasp.outputs.Chgcar at 0x7f1df01ed760>,\n",
       " '4226': <pymatgen.io.vasp.outputs.Chgcar at 0x7f1df01ed2e0>,\n",
       " '4682': <pymatgen.io.vasp.outputs.Chgcar at 0x7f1df01e7fd0>,\n",
       " '9493': <pymatgen.io.vasp.outputs.Chgcar at 0x7f1df01ed9a0>,\n",
       " '7850': <pymatgen.io.vasp.outputs.Chgcar at 0x7f1df0175310>,\n",
       " '9879': <pymatgen.io.vasp.outputs.Chgcar at 0x7f1df0172850>,\n",
       " '8450': <pymatgen.io.vasp.outputs.Chgcar at 0x7f1df01753a0>,\n",
       " '8661': <pymatgen.io.vasp.outputs.Chgcar at 0x7f1df0178df0>,\n",
       " '4331': <pymatgen.io.vasp.outputs.Chgcar at 0x7f1df017e5e0>,\n",
       " '4687': <pymatgen.io.vasp.outputs.Chgcar at 0x7f1df017e8e0>,\n",
       " '5723': <pymatgen.io.vasp.outputs.Chgcar at 0x7f1df01812b0>,\n",
       " '10375': <pymatgen.io.vasp.outputs.Chgcar at 0x7f1df01752b0>,\n",
       " '8706': <pymatgen.io.vasp.outputs.Chgcar at 0x7f1df018dfd0>,\n",
       " '10389': <pymatgen.io.vasp.outputs.Chgcar at 0x7f1df018dee0>,\n",
       " '5431': <pymatgen.io.vasp.outputs.Chgcar at 0x7f1df019ab50>,\n",
       " '7076': <pymatgen.io.vasp.outputs.Chgcar at 0x7f1df0190310>,\n",
       " '7562': <pymatgen.io.vasp.outputs.Chgcar at 0x7f1df0190ee0>,\n",
       " '10285': <pymatgen.io.vasp.outputs.Chgcar at 0x7f1df018a490>,\n",
       " '7722': <pymatgen.io.vasp.outputs.Chgcar at 0x7f1df019ac10>,\n",
       " '5662': <pymatgen.io.vasp.outputs.Chgcar at 0x7f1df019abe0>,\n",
       " '4089': <pymatgen.io.vasp.outputs.Chgcar at 0x7f1df01a67f0>,\n",
       " '9731': <pymatgen.io.vasp.outputs.Chgcar at 0x7f1df019d6a0>,\n",
       " '4656': <pymatgen.io.vasp.outputs.Chgcar at 0x7f1df01acf40>,\n",
       " '9068': <pymatgen.io.vasp.outputs.Chgcar at 0x7f1df013f1f0>,\n",
       " '8428': <pymatgen.io.vasp.outputs.Chgcar at 0x7f1df0135550>,\n",
       " '9914': <pymatgen.io.vasp.outputs.Chgcar at 0x7f1df0131dc0>,\n",
       " '6190': <pymatgen.io.vasp.outputs.Chgcar at 0x7f1df01315b0>,\n",
       " '7962': <pymatgen.io.vasp.outputs.Chgcar at 0x7f1df013f730>,\n",
       " '10642': <pymatgen.io.vasp.outputs.Chgcar at 0x7f1df013f640>,\n",
       " '5462': <pymatgen.io.vasp.outputs.Chgcar at 0x7f1df014a880>,\n",
       " '4611': <pymatgen.io.vasp.outputs.Chgcar at 0x7f1df0156400>,\n",
       " '4035': <pymatgen.io.vasp.outputs.Chgcar at 0x7f1df014e5e0>,\n",
       " '7921': <pymatgen.io.vasp.outputs.Chgcar at 0x7f1df0152b50>,\n",
       " '7740': <pymatgen.io.vasp.outputs.Chgcar at 0x7f1df014a850>,\n",
       " '6344': <pymatgen.io.vasp.outputs.Chgcar at 0x7f1df01593a0>,\n",
       " '5557': <pymatgen.io.vasp.outputs.Chgcar at 0x7f1df0159970>,\n",
       " '5570': <pymatgen.io.vasp.outputs.Chgcar at 0x7f1df015fd90>,\n",
       " '6853': <pymatgen.io.vasp.outputs.Chgcar at 0x7f1df0162190>,\n",
       " '6417': <pymatgen.io.vasp.outputs.Chgcar at 0x7f1df0165b80>,\n",
       " '4283': <pymatgen.io.vasp.outputs.Chgcar at 0x7f1df0169610>,\n",
       " '4311': <pymatgen.io.vasp.outputs.Chgcar at 0x7f1df01692e0>,\n",
       " '5692': <pymatgen.io.vasp.outputs.Chgcar at 0x7f1df016ec70>,\n",
       " '4252': <pymatgen.io.vasp.outputs.Chgcar at 0x7f1df016e9d0>,\n",
       " '3942': <pymatgen.io.vasp.outputs.Chgcar at 0x7f1df00f3760>,\n",
       " '3989': <pymatgen.io.vasp.outputs.Chgcar at 0x7f1df00f3dc0>,\n",
       " '9927': <pymatgen.io.vasp.outputs.Chgcar at 0x7f1df0102040>,\n",
       " '8986': <pymatgen.io.vasp.outputs.Chgcar at 0x7f1df00f7dc0>,\n",
       " '4758': <pymatgen.io.vasp.outputs.Chgcar at 0x7f1df0165ee0>,\n",
       " '2167': <pymatgen.io.vasp.outputs.Chgcar at 0x7f1df0109fd0>,\n",
       " '4787': <pymatgen.io.vasp.outputs.Chgcar at 0x7f1df0102af0>,\n",
       " '2820': <pymatgen.io.vasp.outputs.Chgcar at 0x7f1df00f7ee0>,\n",
       " '7468': <pymatgen.io.vasp.outputs.Chgcar at 0x7f1df00fc0d0>,\n",
       " '8989': <pymatgen.io.vasp.outputs.Chgcar at 0x7f1df00fc310>,\n",
       " '10948': <pymatgen.io.vasp.outputs.Chgcar at 0x7f1df010c310>,\n",
       " '6283': <pymatgen.io.vasp.outputs.Chgcar at 0x7f1df011b0d0>,\n",
       " '7408': <pymatgen.io.vasp.outputs.Chgcar at 0x7f1df0102c40>,\n",
       " '11087': <pymatgen.io.vasp.outputs.Chgcar at 0x7f1df0111c70>,\n",
       " '6862': <pymatgen.io.vasp.outputs.Chgcar at 0x7f1df0111760>,\n",
       " '4757': <pymatgen.io.vasp.outputs.Chgcar at 0x7f1df0107130>,\n",
       " '6094': <pymatgen.io.vasp.outputs.Chgcar at 0x7f1df0113cd0>,\n",
       " '2085': <pymatgen.io.vasp.outputs.Chgcar at 0x7f1df0128ee0>,\n",
       " '4079': <pymatgen.io.vasp.outputs.Chgcar at 0x7f1df012e0a0>,\n",
       " '4346': <pymatgen.io.vasp.outputs.Chgcar at 0x7f1df011f8e0>,\n",
       " '7239': <pymatgen.io.vasp.outputs.Chgcar at 0x7f1df0129730>,\n",
       " '5863': <pymatgen.io.vasp.outputs.Chgcar at 0x7f1df0129fa0>,\n",
       " '6872': <pymatgen.io.vasp.outputs.Chgcar at 0x7f1df00b17f0>,\n",
       " '4493': <pymatgen.io.vasp.outputs.Chgcar at 0x7f1df00b46d0>,\n",
       " '4644': <pymatgen.io.vasp.outputs.Chgcar at 0x7f1df00b1e80>,\n",
       " '5822': <pymatgen.io.vasp.outputs.Chgcar at 0x7f1df00b92e0>,\n",
       " '10674': <pymatgen.io.vasp.outputs.Chgcar at 0x7f1df00b9fd0>,\n",
       " '9327': <pymatgen.io.vasp.outputs.Chgcar at 0x7f1df00b9f70>,\n",
       " '7178': <pymatgen.io.vasp.outputs.Chgcar at 0x7f1df00c1460>,\n",
       " '4800': <pymatgen.io.vasp.outputs.Chgcar at 0x7f1df00bdf40>,\n",
       " '7019': <pymatgen.io.vasp.outputs.Chgcar at 0x7f1df00c1580>,\n",
       " '6111': <pymatgen.io.vasp.outputs.Chgcar at 0x7f1df00b4640>,\n",
       " '5298': <pymatgen.io.vasp.outputs.Chgcar at 0x7f1df00c6b80>,\n",
       " '6936': <pymatgen.io.vasp.outputs.Chgcar at 0x7f1df00c66a0>,\n",
       " '3979': <pymatgen.io.vasp.outputs.Chgcar at 0x7f1df00c1c10>,\n",
       " '4018': <pymatgen.io.vasp.outputs.Chgcar at 0x7f1df00c6c40>,\n",
       " '6355': <pymatgen.io.vasp.outputs.Chgcar at 0x7f1df00ceca0>,\n",
       " '8994': <pymatgen.io.vasp.outputs.Chgcar at 0x7f1df00cef10>,\n",
       " '8091': <pymatgen.io.vasp.outputs.Chgcar at 0x7f1df00c9a00>,\n",
       " '8563': <pymatgen.io.vasp.outputs.Chgcar at 0x7f1df00d26a0>,\n",
       " '10373': <pymatgen.io.vasp.outputs.Chgcar at 0x7f1df00d29a0>,\n",
       " '10179': <pymatgen.io.vasp.outputs.Chgcar at 0x7f1df00d2ac0>,\n",
       " '9534': <pymatgen.io.vasp.outputs.Chgcar at 0x7f1df00e0220>,\n",
       " '4319': <pymatgen.io.vasp.outputs.Chgcar at 0x7f1df00ced90>,\n",
       " '5278': <pymatgen.io.vasp.outputs.Chgcar at 0x7f1df00e0190>,\n",
       " '7051': <pymatgen.io.vasp.outputs.Chgcar at 0x7f1df00d6dc0>,\n",
       " '8061': <pymatgen.io.vasp.outputs.Chgcar at 0x7f1df00e76a0>,\n",
       " '7958': <pymatgen.io.vasp.outputs.Chgcar at 0x7f1df00e4040>,\n",
       " '10101': <pymatgen.io.vasp.outputs.Chgcar at 0x7f1df00eee20>,\n",
       " '4298': <pymatgen.io.vasp.outputs.Chgcar at 0x7f1df0077be0>,\n",
       " '5275': <pymatgen.io.vasp.outputs.Chgcar at 0x7f1df0077af0>,\n",
       " '4201': <pymatgen.io.vasp.outputs.Chgcar at 0x7f1df007b940>,\n",
       " '8381': <pymatgen.io.vasp.outputs.Chgcar at 0x7f1df007ba00>,\n",
       " '9665': <pymatgen.io.vasp.outputs.Chgcar at 0x7f1df0080fd0>,\n",
       " '4108': <pymatgen.io.vasp.outputs.Chgcar at 0x7f1df00d69d0>,\n",
       " '10524': <pymatgen.io.vasp.outputs.Chgcar at 0x7f1df0084fa0>,\n",
       " '4002': <pymatgen.io.vasp.outputs.Chgcar at 0x7f1df00809d0>,\n",
       " '5663': <pymatgen.io.vasp.outputs.Chgcar at 0x7f1df0087970>,\n",
       " '3907': <pymatgen.io.vasp.outputs.Chgcar at 0x7f1df0087f40>,\n",
       " '3915': <pymatgen.io.vasp.outputs.Chgcar at 0x7f1df0084580>}"
      ]
     },
     "execution_count": 8,
     "metadata": {},
     "output_type": "execute_result"
    }
   ],
   "source": [
    "mask_dict"
   ]
  },
  {
   "cell_type": "markdown",
   "metadata": {},
   "source": [
    "### Dump Masks and ELFCARs as JSONs"
   ]
  },
  {
   "cell_type": "code",
   "execution_count": 9,
   "metadata": {},
   "outputs": [],
   "source": [
    "dumpfn(mask_dict, 'data/masks.json')"
   ]
  },
  {
   "cell_type": "code",
   "execution_count": 13,
   "metadata": {},
   "outputs": [
    {
     "name": "stderr",
     "output_type": "stream",
     "text": [
      "100%|██████████| 248/248 [00:42<00:00,  5.80it/s]\n"
     ]
    }
   ],
   "source": [
    "elfcar_dict = {}\n",
    "\n",
    "elem_ids = list(loadfn('data/element_formulas_ids.json').values())\n",
    "\n",
    "for i in tqdm([str(x) for x in list(formulas_ids.values()) + elem_ids]):\n",
    "    elfpath = 'files/ELFCAR_{0}'.format(i)\n",
    "    elfcar = Elfcar.from_file(elfpath)\n",
    "    elfcar_dict[i] = elfcar"
   ]
  },
  {
   "cell_type": "code",
   "execution_count": 14,
   "metadata": {},
   "outputs": [],
   "source": [
    "dumpfn(elfcar_dict, 'data/elfcars.json')"
   ]
  },
  {
   "cell_type": "code",
   "execution_count": null,
   "metadata": {},
   "outputs": [],
   "source": []
  }
 ],
 "metadata": {
  "kernelspec": {
   "display_name": "Python (conda: scan)",
   "language": "python",
   "name": "scan"
  },
  "language_info": {
   "codemirror_mode": {
    "name": "ipython",
    "version": 3
   },
   "file_extension": ".py",
   "mimetype": "text/x-python",
   "name": "python",
   "nbconvert_exporter": "python",
   "pygments_lexer": "ipython3",
   "version": "3.8.2"
  }
 },
 "nbformat": 4,
 "nbformat_minor": 4
}
