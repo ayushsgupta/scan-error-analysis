{
 "cells": [
  {
   "cell_type": "markdown",
   "metadata": {},
   "source": [
    "# Produce Feature Vectors"
   ]
  },
  {
   "cell_type": "markdown",
   "metadata": {},
   "source": [
    "### Load Imports and Files"
   ]
  },
  {
   "cell_type": "code",
   "execution_count": 1,
   "metadata": {},
   "outputs": [
    {
     "name": "stderr",
     "output_type": "stream",
     "text": [
      "/home/ayush/miniconda3/envs/scan/lib/python3.8/site-packages/pymatgen/ext/matproj.py:454: DeprecationWarning:\n",
      "\n",
      "__init__ is deprecated\n",
      "MaterialsProjectCompatibility will be updated with new correction classes as well as new values of corrections and uncertainties in 2020\n",
      "\n"
     ]
    },
    {
     "name": "stdout",
     "output_type": "stream",
     "text": [
      "Imports successfully loaded\n"
     ]
    }
   ],
   "source": [
    "%run imports.py"
   ]
  },
  {
   "cell_type": "code",
   "execution_count": 2,
   "metadata": {},
   "outputs": [],
   "source": [
    "masks = loadfn('data/masks.json')\n",
    "elfcars = loadfn('data/elfcars.json')"
   ]
  },
  {
   "cell_type": "code",
   "execution_count": 3,
   "metadata": {},
   "outputs": [
    {
     "name": "stdout",
     "output_type": "stream",
     "text": [
      "['6405', '3890', '7373', '11133', '3914', '5804', '10090', '3957', '3996', '6135', '3955', '4648', '4827', '3901', '2779', '6017', '4392', '3992', '4837', '6454', '4601', '4826', '3929', '3926', '3930', '4019', '6412', '5874', '6240', '5312', '2936', '10792', '4617', '4102', '4782', '8414', '5364', '4870', '7394', '10278', '10118', '4406', '6359', '4026', '10408', '9789', '9416', '2180', '4999', '4510', '3947', '4072', '2072', '9887', '10201', '2597', '3882', '4212', '4226', '4682', '9493', '7850', '9879', '8450', '8661', '4331', '4687', '5723', '10375', '8706', '10389', '5431', '7076', '7562', '10285', '7722', '5662', '4089', '9731', '4656', '9068', '8428', '9914', '6190', '7962', '10642', '5462', '4611', '4035', '7921', '7740', '6344', '5557', '5570', '6853', '6417', '4283', '4311', '5692', '4252', '3942', '3989', '9927', '8986', '4758', '2167', '4787', '2820', '7468', '8989', '10948', '6283', '7408', '11087', '6862', '4757', '6094', '2085', '4079', '4346', '7239', '5863', '6872', '4493', '4644', '5822', '10674', '9327', '7178', '4800', '7019', '6111', '5298', '6936', '3979', '4018', '6355', '8994', '8091', '8563', '10373', '10179', '9534', '4319', '5278', '7051', '8061', '7958', '10101', '4298', '5275', '4201', '8381', '9665', '4108', '10524', '4002', '5663', '3907', '3915']\n"
     ]
    }
   ],
   "source": [
    "ids = [i for i in masks.keys()]\n",
    "print(ids)"
   ]
  },
  {
   "cell_type": "markdown",
   "metadata": {},
   "source": [
    "### Prepare Element Statistics"
   ]
  },
  {
   "cell_type": "code",
   "execution_count": 4,
   "metadata": {},
   "outputs": [],
   "source": [
    "element_formulas_ids = loadfn('data/element_formulas_ids.json')"
   ]
  },
  {
   "cell_type": "code",
   "execution_count": 5,
   "metadata": {},
   "outputs": [],
   "source": [
    "element_elfcars = {}\n",
    "\n",
    "for f, ID in element_formulas_ids.items():\n",
    "    element_elfcars[f] = elfcars[str(ID)]"
   ]
  },
  {
   "cell_type": "code",
   "execution_count": 6,
   "metadata": {
    "scrolled": true
   },
   "outputs": [],
   "source": [
    "for f in element_elfcars.keys():\n",
    "    e = element_elfcars[f]"
   ]
  },
  {
   "cell_type": "code",
   "execution_count": 7,
   "metadata": {},
   "outputs": [],
   "source": [
    "element_statistics = {}\n",
    "\n",
    "for f in element_elfcars.keys():\n",
    "    spatial_data = element_elfcars[f].get_alpha().data['total'].flatten()\n",
    "    element_statistics[f] = [np.mean(spatial_data), np.std(spatial_data), np.max(spatial_data)]"
   ]
  },
  {
   "cell_type": "code",
   "execution_count": 8,
   "metadata": {
    "scrolled": true
   },
   "outputs": [
    {
     "name": "stdout",
     "output_type": "stream",
     "text": [
      "{'Ac': [2.3952880904166385, 0.9221624536523357, 4.186004617717708],\n",
      " 'Ag': [4.373444566115248, 9.3601895754998, 179.08046335007322],\n",
      " 'Al': [1.7857315750123286, 1.303596186758892, 21.19068202065356],\n",
      " 'Ar': [10.08894643061993, 11.014270879716667, 65.85032868291142],\n",
      " 'As': [2.927476565281586, 2.4780503446526985, 10.965066987160945],\n",
      " 'Au': [3.4875908165023946, 3.5191039435277944, 45.239207511055575],\n",
      " 'B': [2.4804683886419365, 2.2235692605077135, 22.52643126985591],\n",
      " 'Ba': [2.9255046533821023, 1.5481167338698114, 6.574370690467469],\n",
      " 'Be': [2.0735385961683694, 1.3075652461540779, 6.386318005187307],\n",
      " 'Bi': [2.5172121868344575, 1.948098995393369, 11.225414565916763],\n",
      " 'Br': [4.945517100257024, 4.845327657368386, 19.997851987445422],\n",
      " 'C': [4.143758773426854, 4.089905490463662, 19.370301237493063],\n",
      " 'Ca': [2.9976317340345755, 2.0591215822889666, 8.90733654534101],\n",
      " 'Cd': [3.6707442427955344, 6.161494326827701, 128.98490061679868],\n",
      " 'Ce': [2.3377263456297652, 0.9978052527804198, 8.288605599487603],\n",
      " 'Cl': [5.88622818953367, 5.87416095587965, 23.097046208543503],\n",
      " 'Co': [4.277765166032852, 5.780167063164618, 62.08339042608537],\n",
      " 'Cr': [14.518358320020738, 1374.2943344647883, 161591.16893179837],\n",
      " 'Cs': [3.8634800941175125, 2.3806983753424755, 8.211427113491336],\n",
      " 'Cu': [14.993087784488036, 1379.592821192716, 162215.01802965862],\n",
      " 'Dy': [3.2321740163301986, 64.77450642148877, 13324.926438649716],\n",
      " 'Er': [2.9666187974288643, 12.531835743673664, 1064.73948332031],\n",
      " 'Eu': [2.5899661645943097, 1.0951894557026065, 4.891024266967228],\n",
      " 'F': [8.900400868506349, 8.597864273282461, 33.702441318527164],\n",
      " 'Fe': [3.9980071733463434, 70.63931814171536, 8288.557857705924],\n",
      " 'Ga': [2.8309235197183495, 1.3586756389227834, 9.58027098427393],\n",
      " 'Gd': [2.4901304353413205, 0.9889479592267101, 4.92403797326247],\n",
      " 'Ge': [3.291959560408822, 2.6345344887490927, 15.375304720622616],\n",
      " 'H': [169.86272797512584, 329.5871192818629, 3047.9871524550476],\n",
      " 'Hf': [2.63159205540019, 9.67849317891991, 734.9359102379516],\n",
      " 'Hg': [3.837536685547755, 1.9692794627079566, 19.244398538692913],\n",
      " 'Ho': [3.00191492448935, 25.373351402409035, 6326.580070977722],\n",
      " 'I': [4.302915883773079, 4.226079994914096, 17.562580623253684],\n",
      " 'In': [2.871232441843907, 1.1641760672036763, 14.000890102162865],\n",
      " 'Ir': [3.0626544632978376, 2.7282399509175788, 23.738686448031874],\n",
      " 'K': [3.781080618823385, 2.8114591694201048, 10.134844544878215],\n",
      " 'Kr': [9.307760115910437, 10.30055696583895, 61.85600390198588],\n",
      " 'La': [2.5146943717981225, 1.0629629609179345, 4.708745687123969],\n",
      " 'Li': [3.3552976432507675, 3.673559039520009, 15.330959938151894],\n",
      " 'Lu': [2.876680102594024, 8.208361667699863, 1021.0404387275339],\n",
      " 'Mg': [2.7492825881332905, 5.772957789181419, 421.9547680917007],\n",
      " 'Mn': [3.199959120133965, 37.28257327681779, 17893.984390415833],\n",
      " 'Mo': [5.226030151231879, 300.19178726349094, 35292.53011533771],\n",
      " 'N': [10.316572970737115, 11.548864667442283, 54.28091802629984],\n",
      " 'Na': [3.670026443058406, 6.421425532649035, 385.40166133024996],\n",
      " 'Nb': [12.77999662670513, 1184.7227207252474, 139300.62771013452],\n",
      " 'Nd': [2.560213355319515, 1.0270053653890794, 4.634760355401189],\n",
      " 'Ne': [13.052567716447175, 13.030969985717656, 65.51438984446523],\n",
      " 'Ni': [13.875690507133447, 1249.67870380836, 146939.70574028618],\n",
      " 'Np': [2.0821113279128163, 0.6647439203427221, 3.7241111790744266],\n",
      " 'O': [8.344719987144805, 8.62690707747667, 43.564508223702774],\n",
      " 'Os': [2.7800666989107055, 16.116249267924953, 1651.730668606448],\n",
      " 'P': [3.821828738670159, 4.014292565292365, 29.168283398040685],\n",
      " 'Pa': [2.058418793445711, 0.6827472611682279, 3.8575352303045958],\n",
      " 'Pb': [2.772612570675603, 0.8661601380852049, 5.844064656933245],\n",
      " 'Pd': [4.983340172504301, 17.82750123423944, 409.4945190478241],\n",
      " 'Pm': [2.531455919536065, 1.0320464432058163, 4.745524603581843],\n",
      " 'Pr': [2.5529111493946064, 1.0369829070533894, 4.600606140405605],\n",
      " 'Pt': [3.4710031518370394, 4.791288476102183, 60.32690039121681],\n",
      " 'Pu': [2.1765540022334693, 0.7142883715147508, 5.115828179230171],\n",
      " 'Rb': [3.797130234006934, 2.52973291448494, 8.945988522199897],\n",
      " 'Re': [2.857721044104129, 32.88487174508103, 3495.990506754771],\n",
      " 'Rh': [5.944953372417874, 365.6651774899668, 42995.742330814246],\n",
      " 'Ru': [7.540797072481286, 527.1136318359671, 56584.84126773779],\n",
      " 'S': [5.271907965932735, 5.504285012876414, 31.50150141245177],\n",
      " 'Sb': [2.405033128941616, 1.9028072679428287, 11.497445918688635],\n",
      " 'Sc': [2.4695764780753726, 1.3067310435319546, 6.026987182651935],\n",
      " 'Se': [4.0031918918570195, 3.7905165030754735, 18.384315348890684],\n",
      " 'Si': [2.780316802557944, 2.5091099920533604, 14.151750396622392],\n",
      " 'Sm': [2.5279847494154017, 1.0342103137641032, 4.634487766561486],\n",
      " 'Sn': [3.697583504698794, 2.9708022167816357, 17.685994512830483],\n",
      " 'Sr': [2.9300433793275444, 1.663292157509501, 6.449690616780248],\n",
      " 'Ta': [7.70216714742575, 610.8140432216483, 71819.8832503437],\n",
      " 'Tb': [3.109016698060226, 46.2494095573907, 11720.502727059518],\n",
      " 'Tc': [8.171718753451744, 618.2421533750336, 66442.61602690589],\n",
      " 'Te': [2.952870789271363, 2.600878327559, 14.008520934671166],\n",
      " 'Th': [2.142391772411391, 0.7626363044443356, 3.776605381879708],\n",
      " 'Ti': [56.94596225029578, 10566.398085938987, 2070610.8416156454],\n",
      " 'Tl': [3.1800431892140852, 1.121526913148075, 9.292550911662635],\n",
      " 'Tm': [2.90165702447351, 7.698267933063011, 1226.6380150699495],\n",
      " 'U': [2.009827175477896, 0.644640316079597, 3.3919715717596066],\n",
      " 'V': [1247.1641835864157, 146305.41855057285, 17202558.830099355],\n",
      " 'W': [2.1126040321025275, 0.4777605726345619, 3.8604802665006215],\n",
      " 'Xe': [7.915284199922917, 8.882037818681985, 54.95338243461768],\n",
      " 'Y': [2.4830788144561726, 1.2013041657332828, 5.836677330322626],\n",
      " 'Yb': [3.1247114222675103, 9.506890626041256, 1460.748965960795],\n",
      " 'Zn': [3.260602201157445, 2.458444147103995, 24.06548061911058],\n",
      " 'Zr': [2.4066736940854128, 0.9805247795173979, 4.432646890459783]}\n"
     ]
    }
   ],
   "source": [
    "pprint(element_statistics)"
   ]
  },
  {
   "cell_type": "markdown",
   "metadata": {},
   "source": [
    "### Mask Application & Feature Vector Methods"
   ]
  },
  {
   "cell_type": "code",
   "execution_count": 9,
   "metadata": {},
   "outputs": [],
   "source": [
    "def create_mask(mask, index):\n",
    "    shape = mask.shape\n",
    "    flat = mask.flatten()\n",
    "    for i in range(len(flat)):\n",
    "        flat[i] = 1 if int(flat[i]) == index else 0\n",
    "    mask = flat.reshape(shape)\n",
    "    return mask\n",
    "\n",
    "# def apply_mask(elfcar, mask):\n",
    "#     ex, ey, ez = elfcar.shape\n",
    "#     mx, my, mz = mask.shape\n",
    "#     masked = []\n",
    "#     for i1 in range(len(elfcar)):\n",
    "#         xfac = int(mx / ex)\n",
    "#         for i2 in range(len(elfcar[i1])):\n",
    "#             yfac = int(my / ey)\n",
    "#             for i3 in range(len(elfcar[i1][i2])):\n",
    "#                 zfac = int(mz / ez)\n",
    "#                 masked.append(elfcar[i1][i2][i3] * mask[i1 * xfac][i2 * yfac][i3 * zfac])\n",
    "#     return np.array(masked)\n",
    "\n",
    "def apply_mask(elfcar, mask):\n",
    "    ex, ey, ez = elfcar.shape\n",
    "    mx, my, mz = mask.shape\n",
    "    xfac, yfac, zfac = int(mx / ex), int(my / ey), int(mz / ez)\n",
    "    mask_trimmed = mask[::xfac, ::yfac, ::zfac]\n",
    "    return elfcar * mask_trimmed\n",
    "\n",
    "def strip_zeros(arr):\n",
    "    arr = arr.flatten()\n",
    "    return np.array([a for a in arr if a != 0])"
   ]
  },
  {
   "cell_type": "code",
   "execution_count": 10,
   "metadata": {},
   "outputs": [],
   "source": [
    "def zipper(l1, l2):\n",
    "    i1, i2 = iter(l1), iter(l2)\n",
    "    for _ in range(max(len(l1), len(l2))):\n",
    "        try:\n",
    "            yield next(i1)\n",
    "        except StopIteration:\n",
    "            pass\n",
    "        try:\n",
    "            yield next(i2)\n",
    "        except StopIteration:\n",
    "            pass\n",
    "        \n",
    "zip_lists = lambda l1, l2: [x for x in zipper(l1, l2)]   \n",
    "flatten_list = lambda l: [y for x in l for y in x]"
   ]
  },
  {
   "cell_type": "markdown",
   "metadata": {},
   "source": [
    "#### Feature Vector Specifications:\n",
    "- 12 Bader wells are used to construct each vector\n",
    "- Zipper fashion: cation, anion, cation, anion, ...\n",
    "- Well statistics are offset by element statistics\n",
    "    - v_i = Bader_stat - elem_stat\n",
    "- For each well: \\[mean - e_mean, std - e_std, max - e_max\\]\n",
    "- Total length of 36 = 12 * 3\n",
    "- If less than 12 Bader wells, fill with zeros until len(v) = 36"
   ]
  },
  {
   "cell_type": "code",
   "execution_count": 17,
   "metadata": {
    "scrolled": true
   },
   "outputs": [],
   "source": [
    "def retrieve_objects_methods(i):\n",
    "    elfcar, mask = elfcars[i].get_alpha(), masks[i]\n",
    "    elfcar_data, mask_data = elfcar.data['total'], mask.data['total']\n",
    "    struct = masks[i].structure\n",
    "    composition = struct.composition\n",
    "    assert composition == elfcar.structure.composition, 'ELFCAR & mask compositions aren\\'t equal'\n",
    "    cation, anion = [str(e) for e in composition.elements]\n",
    "    \n",
    "    def vectorize_well(index):\n",
    "        f = str(struct.sites[index - 1].specie)\n",
    "        assert(mask.value_at(*struct.sites[index - 1].frac_coords) != 0.0) #Ensure atom index matches Bader well\n",
    "        clean_mask = strip_zeros(apply_mask(elfcar_data, create_mask(mask_data, index)))\n",
    "        mean, std, Max = np.mean(clean_mask), np.std(clean_mask), np.max(clean_mask)\n",
    "        elem_mean, elem_std, elem_max = element_statistics[f]\n",
    "        vi = [mean - elem_mean, std - elem_std, Max - elem_max]\n",
    "        if f == cation:\n",
    "            return vi, True\n",
    "        elif f == anion:\n",
    "            return vi, False\n",
    "        else:\n",
    "            raise AssertionError('Current atom neither a cation nor an anion')\n",
    "            \n",
    "    return composition, vectorize_well\n",
    "\n",
    "def trim_vector(vector, length):\n",
    "    if len(vector) > length:\n",
    "        vector = vector[:length]\n",
    "    elif len(vector) < length:\n",
    "        while len(vector) < length:\n",
    "            vector.append(0.0)\n",
    "#         idx = 0\n",
    "#         while len(vector) < length:\n",
    "#             vector += vector[idx:idx+ndescriptors]\n",
    "#             idx += ndescriptors\n",
    "    return vector\n",
    "\n",
    "def feature_vector(i, num_wells=12):\n",
    "    composition, vectorize_well = retrieve_objects_methods(i)\n",
    "    cation_vectors, anion_vectors = [], []\n",
    "    for index in range(1, int(composition.num_atoms) + 1):\n",
    "        vi, flag = vectorize_well(index)\n",
    "        if flag:\n",
    "            cation_vectors.append(vi)\n",
    "        else:\n",
    "            anion_vectors.append(vi)\n",
    "            \n",
    "    ndescriptors = len(cation_vectors[0])\n",
    "    length = num_wells * ndescriptors\n",
    "    vector = trim_vector(flatten_list(zip_lists(cation_vectors, anion_vectors)), length)\n",
    "    return np.array(vector)\n",
    "    return vector"
   ]
  },
  {
   "cell_type": "markdown",
   "metadata": {},
   "source": [
    "### Produce Feature Vectors & Stack Into Matrix"
   ]
  },
  {
   "cell_type": "code",
   "execution_count": 19,
   "metadata": {
    "scrolled": true
   },
   "outputs": [
    {
     "name": "stderr",
     "output_type": "stream",
     "text": [
      "\n",
      "\n",
      "\n",
      "  0%|          | 0/160 [00:00<?, ?it/s]\u001b[A\u001b[A\u001b[A\n",
      "\n",
      "\n",
      "  1%|          | 1/160 [00:00<00:31,  5.11it/s]\u001b[A\u001b[A\u001b[A\n",
      "\n",
      "\n",
      "  1%|▏         | 2/160 [00:00<00:43,  3.66it/s]\u001b[A\u001b[A\u001b[A\n",
      "\n",
      "\n",
      "  2%|▏         | 3/160 [01:03<49:36, 18.96s/it]\u001b[A\u001b[A\u001b[A\n",
      "\n",
      "\n",
      "  2%|▎         | 4/160 [01:04<35:17, 13.58s/it]\u001b[A\u001b[A\u001b[A\n",
      "\n",
      "\n",
      "  3%|▎         | 5/160 [01:04<25:04,  9.70s/it]\u001b[A\u001b[A\u001b[A\n",
      "\n",
      "\n",
      "  4%|▍         | 6/160 [01:18<27:58, 10.90s/it]\u001b[A\u001b[A\u001b[A\n",
      "\n",
      "\n",
      "  4%|▍         | 7/160 [01:23<23:29,  9.21s/it]\u001b[A\u001b[A\u001b[A\n",
      "\n",
      "\n",
      "  5%|▌         | 8/160 [01:25<17:14,  6.80s/it]\u001b[A\u001b[A\u001b[A\n",
      "\n",
      "\n",
      "  6%|▌         | 9/160 [01:25<12:22,  4.92s/it]\u001b[A\u001b[A\u001b[A\n",
      "\n",
      "\n",
      "  6%|▋         | 10/160 [01:43<21:55,  8.77s/it]\u001b[A\u001b[A\u001b[A\n",
      "\n",
      "\n",
      "  7%|▋         | 11/160 [01:44<16:03,  6.47s/it]\u001b[A\u001b[A\u001b[A\n",
      "\n",
      "\n",
      "  8%|▊         | 12/160 [01:52<17:00,  6.90s/it]\u001b[A\u001b[A\u001b[A\n",
      "\n",
      "\n",
      "  8%|▊         | 13/160 [01:58<16:29,  6.73s/it]\u001b[A\u001b[A\u001b[A\n",
      "\n",
      "\n",
      "  9%|▉         | 14/160 [01:59<11:45,  4.83s/it]\u001b[A\u001b[A\u001b[A\n",
      "\n",
      "\n",
      "  9%|▉         | 15/160 [02:01<09:36,  3.98s/it]\u001b[A\u001b[A\u001b[A\n",
      "\n",
      "\n",
      " 10%|█         | 16/160 [02:07<11:17,  4.70s/it]\u001b[A\u001b[A\u001b[A\n",
      "\n",
      "\n",
      " 11%|█         | 17/160 [02:07<08:12,  3.45s/it]\u001b[A\u001b[A\u001b[A\n",
      "\n",
      "\n",
      " 11%|█▏        | 18/160 [02:08<06:13,  2.63s/it]\u001b[A\u001b[A\u001b[A\n",
      "\n",
      "\n",
      " 12%|█▏        | 19/160 [02:12<06:57,  2.96s/it]\u001b[A\u001b[A\u001b[A\n",
      "\n",
      "\n",
      " 12%|█▎        | 20/160 [02:22<11:55,  5.11s/it]\u001b[A\u001b[A\u001b[A\n",
      "\n",
      "\n",
      " 13%|█▎        | 21/160 [02:23<08:37,  3.73s/it]\u001b[A\u001b[A\u001b[A\n",
      "\n",
      "\n",
      " 14%|█▍        | 22/160 [02:24<06:49,  2.97s/it]\u001b[A\u001b[A\u001b[A\n",
      "\n",
      "\n",
      " 14%|█▍        | 23/160 [02:24<04:57,  2.17s/it]\u001b[A\u001b[A\u001b[A\n",
      "\n",
      "\n",
      " 15%|█▌        | 24/160 [02:24<03:43,  1.65s/it]\u001b[A\u001b[A\u001b[A\n",
      "\n",
      "\n",
      " 16%|█▌        | 25/160 [02:25<03:03,  1.36s/it]\u001b[A\u001b[A\u001b[A\n",
      "\n",
      "\n",
      " 16%|█▋        | 26/160 [02:26<02:48,  1.26s/it]\u001b[A\u001b[A\u001b[A\n",
      "\n",
      "\n",
      " 17%|█▋        | 27/160 [02:27<02:45,  1.24s/it]\u001b[A\u001b[A\u001b[A\n",
      "\n",
      "\n",
      " 18%|█▊        | 28/160 [02:32<04:52,  2.22s/it]\u001b[A\u001b[A\u001b[A\n",
      "\n",
      "\n",
      " 18%|█▊        | 29/160 [02:39<08:02,  3.68s/it]\u001b[A\u001b[A\u001b[A\n",
      "\n",
      "\n",
      " 19%|█▉        | 30/160 [02:47<10:35,  4.89s/it]\u001b[A\u001b[A\u001b[A\n",
      "\n",
      "\n",
      " 19%|█▉        | 31/160 [02:48<08:07,  3.78s/it]\u001b[A\u001b[A\u001b[A\n",
      "\n",
      "\n",
      " 20%|██        | 32/160 [04:02<52:55, 24.81s/it]\u001b[A\u001b[A\u001b[A\n",
      "\n",
      "\n",
      " 21%|██        | 33/160 [04:02<37:03, 17.51s/it]\u001b[A\u001b[A\u001b[A\n",
      "\n",
      "\n",
      " 21%|██▏       | 34/160 [04:03<25:54, 12.34s/it]\u001b[A\u001b[A\u001b[A\n",
      "\n",
      "\n",
      " 22%|██▏       | 35/160 [04:03<18:21,  8.81s/it]\u001b[A\u001b[A\u001b[A\n",
      "\n",
      "\n",
      " 22%|██▎       | 36/160 [04:25<26:37, 12.88s/it]\u001b[A\u001b[A\u001b[A\n",
      "\n",
      "\n",
      " 23%|██▎       | 37/160 [04:26<18:49,  9.18s/it]\u001b[A\u001b[A\u001b[A\n",
      "\n",
      "\n",
      " 24%|██▍       | 38/160 [04:27<13:39,  6.71s/it]\u001b[A\u001b[A\u001b[A\n",
      "\n",
      "\n",
      " 24%|██▍       | 39/160 [04:29<10:33,  5.24s/it]\u001b[A\u001b[A\u001b[A\n",
      "\n",
      "\n",
      " 25%|██▌       | 40/160 [05:02<27:14, 13.62s/it]\u001b[A\u001b[A\u001b[A\n",
      "\n",
      "\n",
      " 26%|██▌       | 41/160 [05:04<19:59, 10.08s/it]\u001b[A\u001b[A\u001b[A\n",
      "\n",
      "\n",
      " 26%|██▋       | 42/160 [05:04<14:06,  7.18s/it]\u001b[A\u001b[A\u001b[A\n",
      "\n",
      "\n",
      " 27%|██▋       | 43/160 [05:06<11:06,  5.69s/it]\u001b[A\u001b[A\u001b[A\n",
      "\n",
      "\n",
      " 28%|██▊       | 44/160 [05:07<07:55,  4.10s/it]\u001b[A\u001b[A\u001b[A\n",
      "\n",
      "\n",
      " 28%|██▊       | 45/160 [08:47<2:12:16, 69.01s/it]\u001b[A\u001b[A\u001b[A\n",
      "\n",
      "\n",
      " 29%|██▉       | 46/160 [08:52<1:34:24, 49.69s/it]\u001b[A\u001b[A\u001b[A\n",
      "\n",
      "\n",
      " 29%|██▉       | 47/160 [09:26<1:25:00, 45.14s/it]\u001b[A\u001b[A\u001b[A\n",
      "\n",
      "\n",
      " 30%|███       | 48/160 [09:27<59:07, 31.68s/it]  \u001b[A\u001b[A\u001b[A\n",
      "\n",
      "\n",
      " 31%|███       | 49/160 [09:27<41:18, 22.33s/it]\u001b[A\u001b[A\u001b[A\n",
      "\n",
      "\n",
      " 31%|███▏      | 50/160 [09:28<29:00, 15.82s/it]\u001b[A\u001b[A\u001b[A\n",
      "\n",
      "\n",
      " 32%|███▏      | 51/160 [09:28<20:13, 11.13s/it]\u001b[A\u001b[A\u001b[A\n",
      "\n",
      "\n",
      " 32%|███▎      | 52/160 [09:28<14:10,  7.87s/it]\u001b[A\u001b[A\u001b[A\n",
      "\n",
      "\n",
      " 33%|███▎      | 53/160 [09:29<10:07,  5.68s/it]\u001b[A\u001b[A\u001b[A\n",
      "\n",
      "\n",
      " 34%|███▍      | 54/160 [10:54<52:04, 29.47s/it]\u001b[A\u001b[A\u001b[A\n",
      "\n",
      "\n",
      " 34%|███▍      | 55/160 [11:03<40:56, 23.40s/it]\u001b[A\u001b[A\u001b[A\n",
      "\n",
      "\n",
      " 36%|███▌      | 57/160 [11:03<28:10, 16.42s/it]\u001b[A\u001b[A\u001b[A\n",
      "\n",
      "\n",
      " 36%|███▋      | 58/160 [11:04<19:43, 11.60s/it]\u001b[A\u001b[A\u001b[A\n",
      "\n",
      "\n",
      " 37%|███▋      | 59/160 [11:04<13:51,  8.23s/it]\u001b[A\u001b[A\u001b[A\n",
      "\n",
      "\n",
      " 38%|███▊      | 60/160 [11:05<10:07,  6.07s/it]\u001b[A\u001b[A\u001b[A\n",
      "\n",
      "\n",
      " 38%|███▊      | 61/160 [12:04<36:10, 21.93s/it]\u001b[A\u001b[A\u001b[A\n",
      "\n",
      "\n",
      " 39%|███▉      | 62/160 [12:09<27:33, 16.88s/it]\u001b[A\u001b[A\u001b[A\n",
      "\n",
      "\n",
      " 39%|███▉      | 63/160 [13:45<1:05:52, 40.74s/it]\u001b[A\u001b[A\u001b[A\n",
      "\n",
      "\n",
      " 40%|████      | 64/160 [14:03<53:52, 33.68s/it]  \u001b[A\u001b[A\u001b[A\n",
      "\n",
      "\n",
      " 41%|████      | 65/160 [14:30<50:11, 31.70s/it]\u001b[A\u001b[A\u001b[A\n",
      "\n",
      "\n",
      " 41%|████▏     | 66/160 [14:30<34:53, 22.28s/it]\u001b[A\u001b[A\u001b[A\n",
      "\n",
      "\n",
      " 42%|████▏     | 67/160 [14:31<24:28, 15.79s/it]\u001b[A\u001b[A\u001b[A\n",
      "\n",
      "\n",
      " 42%|████▎     | 68/160 [14:32<17:23, 11.35s/it]\u001b[A\u001b[A\u001b[A\n",
      "\n",
      "\n",
      " 43%|████▎     | 69/160 [17:08<1:23:16, 54.91s/it]\u001b[A\u001b[A\u001b[A\n",
      "\n",
      "\n",
      " 44%|████▍     | 70/160 [17:13<59:53, 39.92s/it]  \u001b[A\u001b[A\u001b[A\n",
      "\n",
      "\n",
      " 44%|████▍     | 71/160 [19:55<1:53:38, 76.62s/it]\u001b[A\u001b[A\u001b[A\n",
      "\n",
      "\n",
      " 45%|████▌     | 72/160 [19:56<1:18:57, 53.83s/it]\u001b[A\u001b[A\u001b[A\n",
      "\n",
      "\n",
      " 46%|████▌     | 73/160 [20:02<56:59, 39.31s/it]  \u001b[A\u001b[A\u001b[A\n",
      "\n",
      "\n",
      " 46%|████▋     | 74/160 [20:05<40:47, 28.46s/it]\u001b[A\u001b[A\u001b[A\n",
      "\n",
      "\n",
      " 47%|████▋     | 75/160 [20:29<38:36, 27.25s/it]\u001b[A\u001b[A\u001b[A\n",
      "\n",
      "\n",
      " 48%|████▊     | 76/160 [20:39<30:59, 22.13s/it]\u001b[A\u001b[A\u001b[A\n",
      "\n",
      "\n",
      " 48%|████▊     | 77/160 [20:41<22:17, 16.11s/it]\u001b[A\u001b[A\u001b[A\n",
      "\n",
      "\n",
      " 49%|████▉     | 78/160 [20:42<15:34, 11.39s/it]\u001b[A\u001b[A\u001b[A\n",
      "\n",
      "\n",
      " 49%|████▉     | 79/160 [22:02<43:10, 31.98s/it]\u001b[A\u001b[A\u001b[A\n",
      "\n",
      "\n",
      " 50%|█████     | 80/160 [22:03<30:18, 22.73s/it]\u001b[A\u001b[A\u001b[A\n",
      "\n",
      "\n",
      " 51%|█████     | 81/160 [22:32<32:34, 24.74s/it]\u001b[A\u001b[A\u001b[A\n",
      "\n",
      "\n",
      " 51%|█████▏    | 82/160 [22:42<26:07, 20.10s/it]\u001b[A\u001b[A\u001b[A\n",
      "\n",
      "\n",
      " 52%|█████▏    | 83/160 [23:52<45:18, 35.30s/it]\u001b[A\u001b[A\u001b[A\n",
      "\n",
      "\n",
      " 52%|█████▎    | 84/160 [23:55<32:11, 25.42s/it]\u001b[A\u001b[A\u001b[A\n",
      "\n",
      "\n",
      " 53%|█████▎    | 85/160 [24:01<24:27, 19.57s/it]\u001b[A\u001b[A\u001b[A\n",
      "\n",
      "\n",
      " 54%|█████▍    | 86/160 [24:55<37:02, 30.03s/it]\u001b[A\u001b[A\u001b[A\n",
      "\n",
      "\n",
      " 54%|█████▍    | 87/160 [24:56<25:53, 21.28s/it]\u001b[A\u001b[A\u001b[A\n",
      "\n",
      "\n",
      " 55%|█████▌    | 88/160 [24:57<18:10, 15.15s/it]\u001b[A\u001b[A\u001b[A\n",
      "\n",
      "\n",
      " 56%|█████▌    | 89/160 [24:57<12:38, 10.68s/it]\u001b[A\u001b[A\u001b[A\n",
      "\n",
      "\n",
      " 56%|█████▋    | 90/160 [25:09<12:55, 11.08s/it]\u001b[A\u001b[A\u001b[A\n",
      "\n",
      "\n",
      " 57%|█████▋    | 91/160 [25:14<10:41,  9.30s/it]\u001b[A\u001b[A\u001b[A\n",
      "\n",
      "\n",
      " 57%|█████▊    | 92/160 [25:22<10:05,  8.91s/it]\u001b[A\u001b[A\u001b[A\n",
      "\n",
      "\n",
      " 58%|█████▊    | 93/160 [25:24<07:34,  6.78s/it]\u001b[A\u001b[A\u001b[A\n",
      "\n",
      "\n",
      " 59%|█████▉    | 94/160 [25:29<06:54,  6.28s/it]\u001b[A\u001b[A\u001b[A\n",
      "\n",
      "\n",
      " 59%|█████▉    | 95/160 [25:32<05:42,  5.27s/it]\u001b[A\u001b[A\u001b[A\n",
      "\n",
      "\n",
      " 60%|██████    | 96/160 [25:34<04:40,  4.39s/it]\u001b[A\u001b[A\u001b[A\n",
      "\n",
      "\n",
      " 61%|██████    | 97/160 [25:35<03:23,  3.24s/it]\u001b[A\u001b[A\u001b[A\n",
      "\n",
      "\n",
      " 61%|██████▏   | 98/160 [25:35<02:30,  2.42s/it]\u001b[A\u001b[A\u001b[A\n",
      "\n",
      "\n",
      " 62%|██████▏   | 99/160 [25:38<02:23,  2.35s/it]\u001b[A\u001b[A\u001b[A\n",
      "\n",
      "\n",
      " 62%|██████▎   | 100/160 [25:38<01:48,  1.80s/it]\u001b[A\u001b[A\u001b[A\n",
      "\n",
      "\n",
      " 63%|██████▎   | 101/160 [25:38<01:17,  1.32s/it]\u001b[A\u001b[A\u001b[A\n",
      "\n",
      "\n",
      " 64%|██████▍   | 102/160 [25:38<00:55,  1.04it/s]\u001b[A\u001b[A\u001b[A\n",
      "\n",
      "\n",
      " 64%|██████▍   | 103/160 [26:07<08:37,  9.09s/it]\u001b[A\u001b[A\u001b[A\n",
      "\n",
      "\n",
      " 65%|██████▌   | 104/160 [26:27<11:47, 12.63s/it]\u001b[A\u001b[A\u001b[A\n",
      "\n",
      "\n",
      " 66%|██████▋   | 106/160 [26:29<08:06,  9.01s/it]\u001b[A\u001b[A\u001b[A\n",
      "\n",
      "\n",
      " 67%|██████▋   | 107/160 [26:29<05:47,  6.55s/it]\u001b[A\u001b[A\u001b[A\n",
      "\n",
      "\n",
      " 68%|██████▊   | 109/160 [26:31<04:08,  4.87s/it]\u001b[A\u001b[A\u001b[A\n",
      "\n",
      "\n",
      " 69%|██████▉   | 110/160 [26:34<03:26,  4.14s/it]\u001b[A\u001b[A\u001b[A\n",
      "\n",
      "\n",
      " 69%|██████▉   | 111/160 [28:11<26:15, 32.15s/it]\u001b[A\u001b[A\u001b[A\n",
      "\n",
      "\n",
      " 70%|███████   | 112/160 [28:17<19:30, 24.39s/it]\u001b[A\u001b[A\u001b[A\n",
      "\n",
      "\n",
      " 71%|███████   | 113/160 [28:20<13:55, 17.78s/it]\u001b[A\u001b[A\u001b[A\n",
      "\n",
      "\n",
      " 71%|███████▏  | 114/160 [28:38<13:37, 17.77s/it]\u001b[A\u001b[A\u001b[A\n",
      "\n",
      "\n",
      " 72%|███████▏  | 115/160 [28:42<10:22, 13.83s/it]\u001b[A\u001b[A\u001b[A\n",
      "\n",
      "\n",
      " 72%|███████▎  | 116/160 [28:43<07:15,  9.89s/it]\u001b[A\u001b[A\u001b[A\n",
      "\n",
      "\n",
      " 73%|███████▎  | 117/160 [28:47<05:56,  8.30s/it]\u001b[A\u001b[A\u001b[A\n",
      "\n",
      "\n",
      " 74%|███████▍  | 118/160 [28:48<04:15,  6.08s/it]\u001b[A\u001b[A\u001b[A\n",
      "\n",
      "\n",
      " 74%|███████▍  | 119/160 [28:49<02:57,  4.33s/it]\u001b[A\u001b[A\u001b[A\n",
      "\n",
      "\n",
      " 75%|███████▌  | 120/160 [28:49<02:05,  3.13s/it]\u001b[A\u001b[A\u001b[A\n",
      "\n",
      "\n",
      " 76%|███████▌  | 121/160 [28:53<02:14,  3.45s/it]\u001b[A\u001b[A\u001b[A\n",
      "\n",
      "\n",
      " 76%|███████▋  | 122/160 [28:55<01:51,  2.93s/it]\u001b[A\u001b[A\u001b[A\n",
      "\n",
      "\n",
      " 77%|███████▋  | 123/160 [28:55<01:20,  2.19s/it]\u001b[A\u001b[A\u001b[A\n",
      "\n",
      "\n",
      " 78%|███████▊  | 124/160 [28:56<01:06,  1.84s/it]\u001b[A\u001b[A\u001b[A\n",
      "\n",
      "\n",
      " 78%|███████▊  | 125/160 [28:57<00:53,  1.54s/it]\u001b[A\u001b[A\u001b[A\n",
      "\n",
      "\n",
      " 79%|███████▉  | 126/160 [28:58<00:43,  1.28s/it]\u001b[A\u001b[A\u001b[A\n",
      "\n",
      "\n",
      " 79%|███████▉  | 127/160 [29:02<01:08,  2.08s/it]\u001b[A\u001b[A\u001b[A\n",
      "\n",
      "\n",
      " 80%|████████  | 128/160 [29:33<05:50, 10.96s/it]\u001b[A\u001b[A\u001b[A\n",
      "\n",
      "\n",
      " 81%|████████  | 129/160 [29:35<04:13,  8.18s/it]\u001b[A\u001b[A\u001b[A\n",
      "\n",
      "\n",
      " 81%|████████▏ | 130/160 [29:36<02:57,  5.93s/it]\u001b[A\u001b[A\u001b[A\n",
      "\n",
      "\n",
      " 82%|████████▏ | 131/160 [29:44<03:11,  6.59s/it]\u001b[A\u001b[A\u001b[A\n",
      "\n",
      "\n",
      " 82%|████████▎ | 132/160 [29:45<02:21,  5.04s/it]\u001b[A\u001b[A\u001b[A\n",
      "\n",
      "\n",
      " 83%|████████▎ | 133/160 [29:46<01:37,  3.60s/it]\u001b[A\u001b[A\u001b[A\n",
      "\n",
      "\n",
      " 84%|████████▍ | 134/160 [29:46<01:09,  2.66s/it]\u001b[A\u001b[A\u001b[A\n",
      "\n",
      "\n",
      " 84%|████████▍ | 135/160 [29:46<00:47,  1.92s/it]\u001b[A\u001b[A\u001b[A\n",
      "\n",
      "\n",
      " 85%|████████▌ | 136/160 [29:46<00:33,  1.38s/it]\u001b[A\u001b[A\u001b[A\n",
      "\n",
      "\n",
      " 86%|████████▌ | 137/160 [29:50<00:46,  2.01s/it]\u001b[A\u001b[A\u001b[A\n",
      "\n",
      "\n"
     ]
    },
    {
     "name": "stderr",
     "output_type": "stream",
     "text": [
      " 86%|████████▋ | 138/160 [29:56<01:10,  3.19s/it]\u001b[A\u001b[A\u001b[A\n",
      "\n",
      "\n",
      " 87%|████████▋ | 139/160 [30:04<01:40,  4.79s/it]\u001b[A\u001b[A\u001b[A\n",
      "\n",
      "\n",
      " 88%|████████▊ | 140/160 [30:18<02:30,  7.53s/it]\u001b[A\u001b[A\u001b[A\n",
      "\n",
      "\n",
      " 88%|████████▊ | 141/160 [31:57<11:03, 34.94s/it]\u001b[A\u001b[A\u001b[A\n",
      "\n",
      "\n",
      " 89%|████████▉ | 142/160 [32:00<07:36, 25.38s/it]\u001b[A\u001b[A\u001b[A\n",
      "\n",
      "\n",
      " 89%|████████▉ | 143/160 [32:27<07:20, 25.89s/it]\u001b[A\u001b[A\u001b[A\n",
      "\n",
      "\n",
      " 90%|█████████ | 144/160 [32:29<04:55, 18.47s/it]\u001b[A\u001b[A\u001b[A\n",
      "\n",
      "\n",
      " 91%|█████████ | 145/160 [32:30<03:19, 13.27s/it]\u001b[A\u001b[A\u001b[A\n",
      "\n",
      "\n",
      " 91%|█████████▏| 146/160 [32:32<02:19,  9.95s/it]\u001b[A\u001b[A\u001b[A\n",
      "\n",
      "\n",
      " 92%|█████████▏| 147/160 [32:36<01:47,  8.27s/it]\u001b[A\u001b[A\u001b[A\n",
      "\n",
      "\n",
      " 92%|█████████▎| 148/160 [32:43<01:34,  7.88s/it]\u001b[A\u001b[A\u001b[A\n",
      "\n",
      "\n",
      " 93%|█████████▎| 149/160 [32:46<01:10,  6.40s/it]\u001b[A\u001b[A\u001b[A\n",
      "\n",
      "\n",
      " 94%|█████████▍| 150/160 [32:46<00:45,  4.59s/it]\u001b[A\u001b[A\u001b[A\n",
      "\n",
      "\n",
      " 94%|█████████▍| 151/160 [32:47<00:30,  3.40s/it]\u001b[A\u001b[A\u001b[A\n",
      "\n",
      "\n",
      " 95%|█████████▌| 152/160 [32:48<00:20,  2.60s/it]\u001b[A\u001b[A\u001b[A\n",
      "\n",
      "\n",
      " 96%|█████████▌| 153/160 [32:56<00:30,  4.32s/it]\u001b[A\u001b[A\u001b[A\n",
      "\n",
      "\n",
      " 96%|█████████▋| 154/160 [33:25<01:09, 11.54s/it]\u001b[A\u001b[A\u001b[A\n",
      "\n",
      "\n",
      " 97%|█████████▋| 155/160 [33:25<00:40,  8.19s/it]\u001b[A\u001b[A\u001b[A\n",
      "\n",
      "\n",
      " 98%|█████████▊| 156/160 [33:37<00:37,  9.31s/it]\u001b[A\u001b[A\u001b[A\n",
      "\n",
      "\n",
      " 98%|█████████▊| 157/160 [33:37<00:19,  6.64s/it]\u001b[A\u001b[A\u001b[A\n",
      "\n",
      "\n",
      " 99%|█████████▉| 158/160 [33:42<00:12,  6.02s/it]\u001b[A\u001b[A\u001b[A\n",
      "\n",
      "\n",
      " 99%|█████████▉| 159/160 [33:42<00:04,  4.26s/it]\u001b[A\u001b[A\u001b[A\n",
      "\n",
      "\n",
      "100%|██████████| 160/160 [33:42<00:00, 12.64s/it]\u001b[A\u001b[A\u001b[A\n"
     ]
    }
   ],
   "source": [
    "vector_list = []\n",
    "for i in tqdm(ids):\n",
    "    new_vec = feature_vector(i)\n",
    "    vector_list.append(new_vec)"
   ]
  },
  {
   "cell_type": "code",
   "execution_count": 20,
   "metadata": {},
   "outputs": [
    {
     "data": {
      "text/plain": [
       "(160, 36)"
      ]
     },
     "execution_count": 20,
     "metadata": {},
     "output_type": "execute_result"
    }
   ],
   "source": [
    "A = np.vstack(vector_list)\n",
    "A.shape"
   ]
  },
  {
   "cell_type": "markdown",
   "metadata": {},
   "source": [
    "### Load Error Data and Filter A"
   ]
  },
  {
   "cell_type": "code",
   "execution_count": 21,
   "metadata": {
    "scrolled": false
   },
   "outputs": [],
   "source": [
    "error_data = pd.read_json(loadfn('data/error_data.json'), orient='columns')\n",
    "exp = error_data.Formula.tolist()"
   ]
  },
  {
   "cell_type": "code",
   "execution_count": 23,
   "metadata": {
    "scrolled": true
   },
   "outputs": [
    {
     "name": "stdout",
     "output_type": "stream",
     "text": [
      "[20, 30, 61, 62, 63, 64, 67, 69, 71, 82, 89, 90, 91, 109, 116, 128, 145, 146, 148]\n"
     ]
    }
   ],
   "source": [
    "b, drops = [], []\n",
    "for x in range(len(ids)):\n",
    "    i = ids[x]\n",
    "    found = False\n",
    "    f = elfcars[i].structure.composition.reduced_formula\n",
    "    if f in exp:\n",
    "        for j in range(len(error_data)):\n",
    "            row = error_data.iloc[j]\n",
    "            if f == row['Formula']:\n",
    "                b.append(row['Error'] / row['Experimental'])\n",
    "    else:\n",
    "        drops.append(x)\n",
    "print(drops)"
   ]
  },
  {
   "cell_type": "code",
   "execution_count": 24,
   "metadata": {},
   "outputs": [
    {
     "data": {
      "text/plain": [
       "(141, 36)"
      ]
     },
     "execution_count": 24,
     "metadata": {},
     "output_type": "execute_result"
    }
   ],
   "source": [
    "A = np.delete(A, drops, axis=0)\n",
    "A.shape"
   ]
  },
  {
   "cell_type": "markdown",
   "metadata": {},
   "source": [
    "### Save A and b Locally"
   ]
  },
  {
   "cell_type": "code",
   "execution_count": 25,
   "metadata": {},
   "outputs": [],
   "source": [
    "np.save('data/A.npy', A)\n",
    "np.save('data/b.npy', b)"
   ]
  },
  {
   "cell_type": "markdown",
   "metadata": {},
   "source": [
    "### Preliminary Least Squares Regression Testing"
   ]
  },
  {
   "cell_type": "code",
   "execution_count": 26,
   "metadata": {},
   "outputs": [],
   "source": [
    "A, b = np.load('data/A.npy'), np.load('data/b.npy')"
   ]
  },
  {
   "cell_type": "code",
   "execution_count": 27,
   "metadata": {},
   "outputs": [],
   "source": [
    "A_train, A_test = A[:130], A[130:]\n",
    "b_train, b_test = b[:130], b[130:]"
   ]
  },
  {
   "cell_type": "code",
   "execution_count": 28,
   "metadata": {},
   "outputs": [],
   "source": [
    "x_hat = np.linalg.inv(A_train.T @ A_train) @ A_train.T @ b_train"
   ]
  },
  {
   "cell_type": "code",
   "execution_count": 33,
   "metadata": {
    "scrolled": false
   },
   "outputs": [
    {
     "data": {
      "image/png": "[encoded data removed]",
      "text/plain": [
       "<Figure size 1152x720 with 1 Axes>"
      ]
     },
     "metadata": {
      "needs_background": "light"
     },
     "output_type": "display_data"
    }
   ],
   "source": [
    "plt.figure(figsize=(16,10))\n",
    "plt.bar(x=[i for i in range(len(x_hat))], height=x_hat)\n",
    "plt.show()"
   ]
  },
  {
   "cell_type": "code",
   "execution_count": 34,
   "metadata": {},
   "outputs": [
    {
     "name": "stdout",
     "output_type": "stream",
     "text": [
      "-0.2248403523074205 \t -0.0432668590247657\n",
      "-0.026572411286401164 \t -0.0792461021764647\n",
      "6.4416729310080765 \t 0.04772217124716452\n",
      "-0.060578988054840494 \t -0.01251329673282663\n",
      "-0.05286018478353946 \t 0.02814525524853178\n",
      "-0.06947268631805582 \t 0.03682133373718627\n",
      "-0.1270735316697501 \t -0.030642429494516538\n",
      "-0.025712292494750266 \t -0.05287007630079422\n",
      "0.05840929722812538 \t -0.08149546474387778\n",
      "0.0020403759500039476 \t -0.01837328164108803\n",
      "-0.020091828786494292 \t -0.03609441522734562\n"
     ]
    }
   ],
   "source": [
    "result = A_test @ x_hat\n",
    "for i in range(len(result)):\n",
    "    print(result[i], '\\t', b_test[i])"
   ]
  },
  {
   "cell_type": "code",
   "execution_count": 35,
   "metadata": {},
   "outputs": [],
   "source": [
    "from sklearn.linear_model import LinearRegression\n",
    "model = LinearRegression()\n",
    "reg = model.fit(A_train, b_train)"
   ]
  },
  {
   "cell_type": "code",
   "execution_count": 36,
   "metadata": {},
   "outputs": [
    {
     "name": "stdout",
     "output_type": "stream",
     "text": [
      "-0.18942402605204642 \t -0.0432668590247657\n",
      "-0.10545728725739942 \t -0.0792461021764647\n",
      "-6.575509074958358 \t 0.04772217124716452\n",
      "-0.060609193305775785 \t -0.01251329673282663\n",
      "-0.15585284385366974 \t 0.02814525524853178\n",
      "-0.07318168171469966 \t 0.03682133373718627\n",
      "-0.09381415746882528 \t -0.030642429494516538\n",
      "0.021696766023074104 \t -0.05287007630079422\n",
      "0.09654238690690856 \t -0.08149546474387778\n",
      "0.09350022959767948 \t -0.01837328164108803\n",
      "0.03089047048590618 \t -0.03609441522734562\n"
     ]
    }
   ],
   "source": [
    "result2 = model.predict(A_test)\n",
    "for i in range(len(result2)):\n",
    "    print(result2[i], '\\t', b_test[i])"
   ]
  },
  {
   "cell_type": "code",
   "execution_count": 37,
   "metadata": {},
   "outputs": [
    {
     "data": {
      "image/png": "[encoded data removed]",
      "text/plain": [
       "<Figure size 1152x720 with 1 Axes>"
      ]
     },
     "metadata": {
      "needs_background": "light"
     },
     "output_type": "display_data"
    }
   ],
   "source": [
    "plt.figure(figsize=(16,10))\n",
    "indices = [i for i in range(len(x_hat))]\n",
    "#Calculate optimal width\n",
    "width = np.min(np.diff(indices))/3\n",
    "\n",
    "plt.bar(indices-width,x_hat,width)\n",
    "plt.bar(indices,reg.coef_,width)\n",
    "plt.show()"
   ]
  },
  {
   "cell_type": "code",
   "execution_count": null,
   "metadata": {},
   "outputs": [],
   "source": []
  }
 ],
 "metadata": {
  "kernelspec": {
   "display_name": "Python (conda: scan)",
   "language": "python",
   "name": "scan"
  },
  "language_info": {
   "codemirror_mode": {
    "name": "ipython",
    "version": 3
   },
   "file_extension": ".py",
   "mimetype": "text/x-python",
   "name": "python",
   "nbconvert_exporter": "python",
   "pygments_lexer": "ipython3",
   "version": "3.8.2"
  }
 },
 "nbformat": 4,
 "nbformat_minor": 4
}
