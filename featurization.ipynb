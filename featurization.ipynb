{
 "cells": [
  {
   "cell_type": "markdown",
   "metadata": {},
   "source": [
    "# Produce Feature Vectors"
   ]
  },
  {
   "cell_type": "markdown",
   "metadata": {},
   "source": [
    "### Load Imports and Files"
   ]
  },
  {
   "cell_type": "code",
   "execution_count": 1,
   "metadata": {},
   "outputs": [
    {
     "name": "stderr",
     "output_type": "stream",
     "text": [
      "/home/ayush/miniconda3/envs/scan/lib/python3.8/site-packages/pymatgen/ext/matproj.py:454: DeprecationWarning:\n",
      "\n",
      "__init__ is deprecated\n",
      "MaterialsProjectCompatibility will be updated with new correction classes as well as new values of corrections and uncertainties in 2020\n",
      "\n"
     ]
    },
    {
     "name": "stdout",
     "output_type": "stream",
     "text": [
      "Imports successfully loaded\n"
     ]
    }
   ],
   "source": [
    "%run imports.py"
   ]
  },
  {
   "cell_type": "code",
   "execution_count": 2,
   "metadata": {},
   "outputs": [],
   "source": [
    "masks = loadfn('data/masks.json')\n",
    "elfcars = loadfn('data/elfcars.json')"
   ]
  },
  {
   "cell_type": "code",
   "execution_count": 3,
   "metadata": {},
   "outputs": [
    {
     "name": "stdout",
     "output_type": "stream",
     "text": [
      "['6405', '3890', '7373', '11133', '3914', '5804', '10090', '3957', '3996', '6135', '3955', '4648', '4827', '3901', '2779', '6017', '4392', '3992', '4837', '6454', '4601', '4826', '3929', '3926', '3930', '4019', '6412', '5874', '6240', '5312', '2936', '10792', '4617', '4102', '4782', '8414', '5364', '4870', '7394', '10278', '10118', '4406', '6359', '4026', '10408', '9789', '9416', '2180', '4999', '4510', '3947', '4072', '2072', '9887', '10201', '2597', '3882', '4212', '4226', '4682', '9493', '7850', '9879', '8450', '8661', '4331', '4687', '5723', '10375', '8706', '10389', '5431', '7076', '7562', '10285', '7722', '5662', '4089', '9731', '4656', '9068', '8428', '9914', '6190', '7962', '10642', '5462', '4611', '4035', '7921', '7740', '6344', '5557', '5570', '6853', '6417', '4283', '4311', '5692', '4252', '3942', '3989', '9927', '8986', '4758', '2167', '4787', '2820', '7468', '8989', '10948', '6283', '7408', '11087', '6862', '4757', '6094', '2085', '4079', '4346', '7239', '5863', '6872', '4493', '4644', '5822', '10674', '9327', '7178', '4800', '7019', '6111', '5298', '6936', '3979', '4018', '6355', '8994', '8091', '8563', '10373', '10179', '9534', '4319', '5278', '7051', '8061', '7958', '10101', '4298', '5275', '4201', '8381', '9665', '4108', '10524', '4002', '5663', '3907', '3915']\n"
     ]
    }
   ],
   "source": [
    "ids = [i for i in masks.keys()]\n",
    "print(ids)"
   ]
  },
  {
   "cell_type": "markdown",
   "metadata": {},
   "source": [
    "### Prepare Element Statistics"
   ]
  },
  {
   "cell_type": "code",
   "execution_count": 4,
   "metadata": {},
   "outputs": [],
   "source": [
    "element_formulas_ids = loadfn('data/element_formulas_ids.json')"
   ]
  },
  {
   "cell_type": "code",
   "execution_count": 5,
   "metadata": {},
   "outputs": [],
   "source": [
    "element_elfcars = {}\n",
    "\n",
    "for f, ID in element_formulas_ids.items():\n",
    "    element_elfcars[f] = elfcars[str(ID)]"
   ]
  },
  {
   "cell_type": "code",
   "execution_count": 6,
   "metadata": {
    "scrolled": true
   },
   "outputs": [],
   "source": [
    "for f in element_elfcars.keys():\n",
    "    e = element_elfcars[f]"
   ]
  },
  {
   "cell_type": "code",
   "execution_count": 7,
   "metadata": {},
   "outputs": [],
   "source": [
    "element_statistics = {}\n",
    "\n",
    "for f in element_elfcars.keys():\n",
    "    spatial_data = element_elfcars[f].get_alpha().data['total'].flatten()\n",
    "    element_statistics[f] = [np.mean(spatial_data), np.std(spatial_data), np.max(spatial_data)]"
   ]
  },
  {
   "cell_type": "code",
   "execution_count": 8,
   "metadata": {
    "scrolled": true
   },
   "outputs": [
    {
     "name": "stdout",
     "output_type": "stream",
     "text": [
      "{'Ac': [2.3952880904166385, 0.9221624536523357, 4.186004617717708],\n",
      " 'Ag': [4.373444566115248, 9.3601895754998, 179.08046335007322],\n",
      " 'Al': [1.7857315750123286, 1.303596186758892, 21.19068202065356],\n",
      " 'Ar': [10.08894643061993, 11.014270879716667, 65.85032868291142],\n",
      " 'As': [2.927476565281586, 2.4780503446526985, 10.965066987160945],\n",
      " 'Au': [3.4875908165023946, 3.5191039435277944, 45.239207511055575],\n",
      " 'B': [2.4804683886419365, 2.2235692605077135, 22.52643126985591],\n",
      " 'Ba': [2.9255046533821023, 1.5481167338698114, 6.574370690467469],\n",
      " 'Be': [2.0735385961683694, 1.3075652461540779, 6.386318005187307],\n",
      " 'Bi': [2.5172121868344575, 1.948098995393369, 11.225414565916763],\n",
      " 'Br': [4.945517100257024, 4.845327657368386, 19.997851987445422],\n",
      " 'C': [4.143758773426854, 4.089905490463662, 19.370301237493063],\n",
      " 'Ca': [2.9976317340345755, 2.0591215822889666, 8.90733654534101],\n",
      " 'Cd': [3.6707442427955344, 6.161494326827701, 128.98490061679868],\n",
      " 'Ce': [2.3377263456297652, 0.9978052527804198, 8.288605599487603],\n",
      " 'Cl': [5.88622818953367, 5.87416095587965, 23.097046208543503],\n",
      " 'Co': [4.277765166032852, 5.780167063164618, 62.08339042608537],\n",
      " 'Cr': [14.518358320020738, 1374.2943344647883, 161591.16893179837],\n",
      " 'Cs': [3.8634800941175125, 2.3806983753424755, 8.211427113491336],\n",
      " 'Cu': [14.993087784488036, 1379.592821192716, 162215.01802965862],\n",
      " 'Dy': [3.2321740163301986, 64.77450642148877, 13324.926438649716],\n",
      " 'Er': [2.9666187974288643, 12.531835743673664, 1064.73948332031],\n",
      " 'Eu': [2.5899661645943097, 1.0951894557026065, 4.891024266967228],\n",
      " 'F': [8.900400868506349, 8.597864273282461, 33.702441318527164],\n",
      " 'Fe': [3.9980071733463434, 70.63931814171536, 8288.557857705924],\n",
      " 'Ga': [2.8309235197183495, 1.3586756389227834, 9.58027098427393],\n",
      " 'Gd': [2.4901304353413205, 0.9889479592267101, 4.92403797326247],\n",
      " 'Ge': [3.291959560408822, 2.6345344887490927, 15.375304720622616],\n",
      " 'H': [169.86272797512584, 329.5871192818629, 3047.9871524550476],\n",
      " 'Hf': [2.63159205540019, 9.67849317891991, 734.9359102379516],\n",
      " 'Hg': [3.837536685547755, 1.9692794627079566, 19.244398538692913],\n",
      " 'Ho': [3.00191492448935, 25.373351402409035, 6326.580070977722],\n",
      " 'I': [4.302915883773079, 4.226079994914096, 17.562580623253684],\n",
      " 'In': [2.871232441843907, 1.1641760672036763, 14.000890102162865],\n",
      " 'Ir': [3.0626544632978376, 2.7282399509175788, 23.738686448031874],\n",
      " 'K': [3.781080618823385, 2.8114591694201048, 10.134844544878215],\n",
      " 'Kr': [9.307760115910437, 10.30055696583895, 61.85600390198588],\n",
      " 'La': [2.5146943717981225, 1.0629629609179345, 4.708745687123969],\n",
      " 'Li': [3.3552976432507675, 3.673559039520009, 15.330959938151894],\n",
      " 'Lu': [2.876680102594024, 8.208361667699863, 1021.0404387275339],\n",
      " 'Mg': [2.7492825881332905, 5.772957789181419, 421.9547680917007],\n",
      " 'Mn': [3.199959120133965, 37.28257327681779, 17893.984390415833],\n",
      " 'Mo': [5.226030151231879, 300.19178726349094, 35292.53011533771],\n",
      " 'N': [10.316572970737115, 11.548864667442283, 54.28091802629984],\n",
      " 'Na': [3.670026443058406, 6.421425532649035, 385.40166133024996],\n",
      " 'Nb': [12.77999662670513, 1184.7227207252474, 139300.62771013452],\n",
      " 'Nd': [2.560213355319515, 1.0270053653890794, 4.634760355401189],\n",
      " 'Ne': [13.052567716447175, 13.030969985717656, 65.51438984446523],\n",
      " 'Ni': [13.875690507133447, 1249.67870380836, 146939.70574028618],\n",
      " 'Np': [2.0821113279128163, 0.6647439203427221, 3.7241111790744266],\n",
      " 'O': [8.344719987144805, 8.62690707747667, 43.564508223702774],\n",
      " 'Os': [2.7800666989107055, 16.116249267924953, 1651.730668606448],\n",
      " 'P': [3.821828738670159, 4.014292565292365, 29.168283398040685],\n",
      " 'Pa': [2.058418793445711, 0.6827472611682279, 3.8575352303045958],\n",
      " 'Pb': [2.772612570675603, 0.8661601380852049, 5.844064656933245],\n",
      " 'Pd': [4.983340172504301, 17.82750123423944, 409.4945190478241],\n",
      " 'Pm': [2.531455919536065, 1.0320464432058163, 4.745524603581843],\n",
      " 'Pr': [2.5529111493946064, 1.0369829070533894, 4.600606140405605],\n",
      " 'Pt': [3.4710031518370394, 4.791288476102183, 60.32690039121681],\n",
      " 'Pu': [2.1765540022334693, 0.7142883715147508, 5.115828179230171],\n",
      " 'Rb': [3.797130234006934, 2.52973291448494, 8.945988522199897],\n",
      " 'Re': [2.857721044104129, 32.88487174508103, 3495.990506754771],\n",
      " 'Rh': [5.944953372417874, 365.6651774899668, 42995.742330814246],\n",
      " 'Ru': [7.540797072481286, 527.1136318359671, 56584.84126773779],\n",
      " 'S': [5.271907965932735, 5.504285012876414, 31.50150141245177],\n",
      " 'Sb': [2.405033128941616, 1.9028072679428287, 11.497445918688635],\n",
      " 'Sc': [2.4695764780753726, 1.3067310435319546, 6.026987182651935],\n",
      " 'Se': [4.0031918918570195, 3.7905165030754735, 18.384315348890684],\n",
      " 'Si': [2.780316802557944, 2.5091099920533604, 14.151750396622392],\n",
      " 'Sm': [2.5279847494154017, 1.0342103137641032, 4.634487766561486],\n",
      " 'Sn': [3.697583504698794, 2.9708022167816357, 17.685994512830483],\n",
      " 'Sr': [2.9300433793275444, 1.663292157509501, 6.449690616780248],\n",
      " 'Ta': [7.70216714742575, 610.8140432216483, 71819.8832503437],\n",
      " 'Tb': [3.109016698060226, 46.2494095573907, 11720.502727059518],\n",
      " 'Tc': [8.171718753451744, 618.2421533750336, 66442.61602690589],\n",
      " 'Te': [2.952870789271363, 2.600878327559, 14.008520934671166],\n",
      " 'Th': [2.142391772411391, 0.7626363044443356, 3.776605381879708],\n",
      " 'Ti': [56.94596225029578, 10566.398085938987, 2070610.8416156454],\n",
      " 'Tl': [3.1800431892140852, 1.121526913148075, 9.292550911662635],\n",
      " 'Tm': [2.90165702447351, 7.698267933063011, 1226.6380150699495],\n",
      " 'U': [2.009827175477896, 0.644640316079597, 3.3919715717596066],\n",
      " 'V': [1247.1641835864157, 146305.41855057285, 17202558.830099355],\n",
      " 'W': [2.1126040321025275, 0.4777605726345619, 3.8604802665006215],\n",
      " 'Xe': [7.915284199922917, 8.882037818681985, 54.95338243461768],\n",
      " 'Y': [2.4830788144561726, 1.2013041657332828, 5.836677330322626],\n",
      " 'Yb': [3.1247114222675103, 9.506890626041256, 1460.748965960795],\n",
      " 'Zn': [3.260602201157445, 2.458444147103995, 24.06548061911058],\n",
      " 'Zr': [2.4066736940854128, 0.9805247795173979, 4.432646890459783]}\n"
     ]
    }
   ],
   "source": [
    "pprint(element_statistics)"
   ]
  },
  {
   "cell_type": "markdown",
   "metadata": {},
   "source": [
    "### Mask Application & Feature Vector Methods"
   ]
  },
  {
   "cell_type": "code",
   "execution_count": 10,
   "metadata": {},
   "outputs": [],
   "source": [
    "m = masks['6405']"
   ]
  },
  {
   "cell_type": "code",
   "execution_count": 17,
   "metadata": {},
   "outputs": [
    {
     "data": {
      "text/plain": [
       "defaultdict(float, {'Li': 1.0, 'H': 1.0})"
      ]
     },
     "execution_count": 17,
     "metadata": {},
     "output_type": "execute_result"
    }
   ],
   "source": [
    "m.structure.composition.get_el_amt_dict()"
   ]
  },
  {
   "cell_type": "code",
   "execution_count": 33,
   "metadata": {},
   "outputs": [
    {
     "data": {
      "text/plain": [
       "1.0"
      ]
     },
     "execution_count": 33,
     "metadata": {},
     "output_type": "execute_result"
    }
   ],
   "source": [
    "c = m.structure.sites[0].frac_coords\n",
    "m.value_at(*c)"
   ]
  },
  {
   "cell_type": "code",
   "execution_count": 41,
   "metadata": {},
   "outputs": [],
   "source": [
    "def create_mask(mask, index):\n",
    "    shape = mask.shape\n",
    "    flat = mask.flatten()\n",
    "    for i in range(len(flat)):\n",
    "        flat[i] = 1 if int(flat[i]) == index else 0\n",
    "    mask = flat.reshape(shape)\n",
    "    return mask\n",
    "\n",
    "def apply_mask(elfcar, mask):\n",
    "    ex, ey, ez = elfcar.shape\n",
    "    mx, my, mz = mask.shape\n",
    "    masked = []\n",
    "    for i1 in range(len(elfcar)):\n",
    "        xfac = int(mx / ex)\n",
    "        for i2 in range(len(elfcar[i1])):\n",
    "            yfac = int(my / ey)\n",
    "            for i3 in range(len(elfcar[i1][i2])):\n",
    "                zfac = int(mz / ez)\n",
    "                masked.append(elfcar[i1][i2][i3] * mask[i1 * xfac][i2 * yfac][i3 * zfac])\n",
    "    return np.array(masked)\n",
    "\n",
    "def strip_zeros(arr):\n",
    "    return np.array([a for a in arr if a != 0])"
   ]
  },
  {
   "cell_type": "markdown",
   "metadata": {},
   "source": [
    "#### Feature Vector Specifications:\n",
    "- Top 15 most-dense bader wells are used\n",
    "- For each well: \\[mean, standard deviation, max / mean ^ 2\\]\n",
    "- Total length of 45\n",
    "- If less than 15 Bader wells, repeat until len(v) = 45"
   ]
  },
  {
   "cell_type": "code",
   "execution_count": 59,
   "metadata": {
    "scrolled": true
   },
   "outputs": [],
   "source": [
    "def feature_vector(i, num_wells=15):\n",
    "    elfcar_data, mask_data = elfcars[i].get_alpha().data['total'], masks[i].data['total']\n",
    "    struct = masks[i].structure\n",
    "    composition = struct.composition\n",
    "    amts = composition.get_el_amt_dict()\n",
    "    print(composition, amts)\n",
    "    assert(composition == elfcars[i].structure.composition)\n",
    "    vector = []\n",
    "    for index in range(1, int(composition.num_atoms) + 1):\n",
    "        f = str(struct.sites[index - 1].specie)\n",
    "        assert(masks[i].value_at(*struct.sites[index - 1].frac_coords) != 0.0)\n",
    "        clean_mask = strip_zeros(apply_mask(elfcar_data, create_mask(mask_data, index)))\n",
    "        mean, std, Max = np.mean(clean_mask), np.std(clean_mask), np.max(clean_mask)\n",
    "        elem_mean, elem_std, elem_max = element_statistics[f]\n",
    "        print(f)\n",
    "        print([mean, std, Max])\n",
    "        print(element_statistics[f])\n",
    "        vi = [mean - amts[f] * elem_mean, std - amts[f] * elem_std, Max - amts[f] * elem_max]\n",
    "        vector.append(vi)\n",
    "#     vector = sorted(vector, key=lambda e: e[0])\n",
    "    ndescriptors = len(vector[0])\n",
    "    length = num_wells * ndescriptors\n",
    "    print('ndescriptors', ndescriptors, 'length', length)\n",
    "#     vector = [y for x in vector for y in x]\n",
    "#     if len(vector) > length:\n",
    "#         vector = vector[:length]\n",
    "#     elif len(vector) < length:\n",
    "#         idx = 0\n",
    "#         while len(vector) < length:\n",
    "#             vector += vector[idx:idx+ndescriptors]\n",
    "#             idx += ndescriptors\n",
    "#     return np.array(vector)\n",
    "    return vector"
   ]
  },
  {
   "cell_type": "code",
   "execution_count": 60,
   "metadata": {},
   "outputs": [
    {
     "name": "stdout",
     "output_type": "stream",
     "text": [
      "Li1 H1 defaultdict(<class 'float'>, {'Li': 1.0, 'H': 1.0})\n",
      "Li\n",
      "[7.864990980618099, 4.1663760702205845, 14.589026895463757]\n",
      "[3.3552976432507675, 3.673559039520009, 15.330959938151894]\n",
      "H\n",
      "[2.43177302535177, 2.16549515706697, 9.670468365704853]\n",
      "[169.86272797512584, 329.5871192818629, 3047.9871524550476]\n",
      "ndescriptors 3 length 3\n",
      "[[4.509693337367332, 0.4928170307005755, -0.741933042688137],\n",
      " [-167.43095494977408, -327.4216241247959, -3038.3166840893427]]\n"
     ]
    }
   ],
   "source": [
    "pprint(feature_vector('6405', num_wells=1))"
   ]
  },
  {
   "cell_type": "markdown",
   "metadata": {},
   "source": [
    "### Produce Feature Vectors & Stack Into Matrix"
   ]
  },
  {
   "cell_type": "code",
   "execution_count": null,
   "metadata": {
    "scrolled": true
   },
   "outputs": [],
   "source": [
    "vector_list = []\n",
    "for i in tqdm(ids):\n",
    "    new_vec = feature_vector(i)\n",
    "    vector_list.append(new_vec)"
   ]
  },
  {
   "cell_type": "code",
   "execution_count": null,
   "metadata": {},
   "outputs": [],
   "source": [
    "A = np.vstack(vector_list)\n",
    "A.shape"
   ]
  },
  {
   "cell_type": "markdown",
   "metadata": {},
   "source": [
    "### Load Error Data and Filter A"
   ]
  },
  {
   "cell_type": "code",
   "execution_count": null,
   "metadata": {
    "scrolled": false
   },
   "outputs": [],
   "source": [
    "error_data = pd.read_json(loadfn('data/error_data.json'), orient='columns')\n",
    "exp = error_data.Formula.tolist()"
   ]
  },
  {
   "cell_type": "code",
   "execution_count": null,
   "metadata": {
    "scrolled": true
   },
   "outputs": [],
   "source": [
    "b, drops = [], []\n",
    "for x in range(len(ids)):\n",
    "    i = ids[x]\n",
    "    found = False\n",
    "    f = elfcars[i].structure.composition.reduced_formula\n",
    "    if f in exp:\n",
    "        for j in range(len(error_data)):\n",
    "            row = error_data.iloc[j]\n",
    "            if f == row['Formula']:\n",
    "                b.append(row['Error'] / row['Experimental'])\n",
    "    else:\n",
    "        drops.append(x)"
   ]
  },
  {
   "cell_type": "code",
   "execution_count": null,
   "metadata": {},
   "outputs": [],
   "source": [
    "A = np.delete(A, drops, axis=0)\n",
    "A.shape"
   ]
  },
  {
   "cell_type": "markdown",
   "metadata": {},
   "source": [
    "### Save A and b Locally"
   ]
  },
  {
   "cell_type": "code",
   "execution_count": null,
   "metadata": {},
   "outputs": [],
   "source": [
    "np.save('data/A.npy', A)\n",
    "np.save('data/b.npy', b)"
   ]
  },
  {
   "cell_type": "markdown",
   "metadata": {},
   "source": [
    "### Preliminary Least Squares Regression Testing"
   ]
  },
  {
   "cell_type": "code",
   "execution_count": null,
   "metadata": {},
   "outputs": [],
   "source": [
    "A, b = np.load('data/A.npy'), np.load('data/b.npy')"
   ]
  },
  {
   "cell_type": "code",
   "execution_count": null,
   "metadata": {},
   "outputs": [],
   "source": [
    "A_train, A_test = A[:130], A[130:]\n",
    "b_train, b_test = b[:130], b[130:]"
   ]
  },
  {
   "cell_type": "code",
   "execution_count": null,
   "metadata": {},
   "outputs": [],
   "source": [
    "x_hat = np.linalg.inv(A_train.T @ A_train) @ A_train.T @ b_train"
   ]
  },
  {
   "cell_type": "code",
   "execution_count": null,
   "metadata": {
    "scrolled": false
   },
   "outputs": [],
   "source": [
    "plt.figure(figsize=(16,10))\n",
    "plt.bar(x=[i for i in range(45)], height=x_hat)\n",
    "plt.show()"
   ]
  },
  {
   "cell_type": "code",
   "execution_count": null,
   "metadata": {},
   "outputs": [],
   "source": [
    "result = A_test @ x_hat\n",
    "for i in range(len(result)):\n",
    "    print(result[i], '\\t', b_test[i])"
   ]
  },
  {
   "cell_type": "code",
   "execution_count": null,
   "metadata": {},
   "outputs": [],
   "source": [
    "from sklearn.linear_model import LinearRegression\n",
    "model = LinearRegression()\n",
    "reg = model.fit(A_train, b_train)"
   ]
  },
  {
   "cell_type": "code",
   "execution_count": null,
   "metadata": {},
   "outputs": [],
   "source": [
    "result2 = model.predict(A_test)\n",
    "for i in range(len(result2)):\n",
    "    print(result2[i], '\\t', b_test[i])"
   ]
  },
  {
   "cell_type": "code",
   "execution_count": null,
   "metadata": {},
   "outputs": [],
   "source": [
    "plt.figure(figsize=(16,10))\n",
    "indices = [i for i in range(45)]\n",
    "#Calculate optimal width\n",
    "width = np.min(np.diff(indices))/3\n",
    "\n",
    "plt.bar(indices-width,x_hat,width)\n",
    "plt.bar(indices,reg.coef_,width)\n",
    "plt.show()"
   ]
  }
 ],
 "metadata": {
  "kernelspec": {
   "display_name": "Python (conda: scan)",
   "language": "python",
   "name": "scan"
  },
  "language_info": {
   "codemirror_mode": {
    "name": "ipython",
    "version": 3
   },
   "file_extension": ".py",
   "mimetype": "text/x-python",
   "name": "python",
   "nbconvert_exporter": "python",
   "pygments_lexer": "ipython3",
   "version": "3.8.2"
  }
 },
 "nbformat": 4,
 "nbformat_minor": 4
}
