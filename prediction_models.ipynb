{
 "cells": [
  {
   "cell_type": "code",
   "execution_count": 84,
   "metadata": {},
   "outputs": [
    {
     "name": "stdout",
     "output_type": "stream",
     "text": [
      "Imports successfully loaded\n"
     ]
    }
   ],
   "source": [
    "%run imports.py"
   ]
  },
  {
   "cell_type": "code",
   "execution_count": 2,
   "metadata": {},
   "outputs": [],
   "source": [
    "A = np.load('A.npy')\n",
    "b = np.load('b.npy')"
   ]
  },
  {
   "cell_type": "code",
   "execution_count": 3,
   "metadata": {},
   "outputs": [],
   "source": [
    "num_test = 15\n",
    "num_train = len(b) - num_test"
   ]
  },
  {
   "cell_type": "code",
   "execution_count": 29,
   "metadata": {},
   "outputs": [],
   "source": [
    "A_train, A_test = A[:num_train], A[num_train:]\n",
    "b_train, b_test = b[:num_train], b[num_train:]"
   ]
  },
  {
   "cell_type": "code",
   "execution_count": 30,
   "metadata": {},
   "outputs": [
    {
     "data": {
      "text/plain": [
       "((126, 45), (126,))"
      ]
     },
     "execution_count": 30,
     "metadata": {},
     "output_type": "execute_result"
    }
   ],
   "source": [
    "A_train.shape, b_train.shape"
   ]
  },
  {
   "cell_type": "code",
   "execution_count": 40,
   "metadata": {},
   "outputs": [],
   "source": [
    "def train_model(model_class, A_train, b_train, A_test):\n",
    "    model = model_class()\n",
    "    model.fit(A_train, b_train)\n",
    "    return model.predict(A_test)"
   ]
  },
  {
   "cell_type": "code",
   "execution_count": 15,
   "metadata": {},
   "outputs": [],
   "source": [
    "from sklearn.linear_model import LinearRegression, SGDRegressor, Ridge, Lasso, ElasticNet\n",
    "from sklearn.tree import DecisionTreeRegressor\n",
    "from sklearn.ensemble import RandomForestRegressor, GradientBoostingRegressor"
   ]
  },
  {
   "cell_type": "code",
   "execution_count": 48,
   "metadata": {},
   "outputs": [],
   "source": [
    "models = ['LinearRegression', \n",
    "          'ElasticNet', \n",
    "          'DecisionTreeRegressor', \n",
    "          'RandomForestRegressor',\n",
    "          'GradientBoostingRegressor']\n",
    "model_classes = [eval(m) for m in models]"
   ]
  },
  {
   "cell_type": "code",
   "execution_count": 42,
   "metadata": {},
   "outputs": [
    {
     "data": {
      "text/plain": [
       "array([ 0.30860644, -0.31981998, -0.01604092,  0.09770009, -0.12827098,\n",
       "        0.01945644,  0.00810892, -0.4864505 , -0.06710495, -0.04597695,\n",
       "       -0.02209614,  0.01805951, -6.49634091,  0.05768277, -0.01681326])"
      ]
     },
     "execution_count": 42,
     "metadata": {},
     "output_type": "execute_result"
    }
   ],
   "source": [
    "train_model(LinearRegression, A_train, b_train, A_test)"
   ]
  },
  {
   "cell_type": "code",
   "execution_count": 49,
   "metadata": {},
   "outputs": [
    {
     "name": "stderr",
     "output_type": "stream",
     "text": [
      "/home/ayush/miniconda3/envs/scan/lib/python3.8/site-packages/sklearn/linear_model/_coordinate_descent.py:474: ConvergenceWarning:\n",
      "\n",
      "Objective did not converge. You might want to increase the number of iterations. Duality gap: 0.15051802626086763, tolerance: 0.0002032525613936178\n",
      "\n"
     ]
    }
   ],
   "source": [
    "predictions = []\n",
    "\n",
    "for m in model_classes:\n",
    "    predictions.append(train_model(m, A_train, b_train, A_test))"
   ]
  },
  {
   "cell_type": "code",
   "execution_count": 50,
   "metadata": {},
   "outputs": [],
   "source": [
    "errors = []\n",
    "for p in predictions:\n",
    "    errors.append(b_test - p)\n",
    "    \n",
    "error_mags = [np.linalg.norm(e) for e in errors]"
   ]
  },
  {
   "cell_type": "code",
   "execution_count": 55,
   "metadata": {},
   "outputs": [
    {
     "data": {
      "image/png": "[encoded data removed]",
      "text/plain": [
       "<Figure size 864x504 with 1 Axes>"
      ]
     },
     "metadata": {
      "needs_background": "light"
     },
     "output_type": "display_data"
    }
   ],
   "source": [
    "x_pos = [i for i, _ in enumerate(models)]\n",
    "\n",
    "plt.figure(figsize=(12,7))\n",
    "plt.bar(x_pos, error_mags)\n",
    "plt.xlabel(\"Model\")\n",
    "plt.ylabel(\"Norm[e]\")\n",
    "plt.title(\"Accuracy of various machine learning models\")\n",
    "\n",
    "plt.xticks(x_pos, models)\n",
    "plt.show()"
   ]
  },
  {
   "cell_type": "code",
   "execution_count": 56,
   "metadata": {},
   "outputs": [
    {
     "data": {
      "text/plain": [
       "array([-0.24147543,  0.27526504, -0.02719624, -0.11202633,  0.08500412,\n",
       "       -0.09870254,  0.03961325,  0.47393721,  0.09525021,  0.08279829,\n",
       "       -0.00854629, -0.07092958,  6.41484545, -0.07605605, -0.01928116])"
      ]
     },
     "execution_count": 56,
     "metadata": {},
     "output_type": "execute_result"
    }
   ],
   "source": [
    "errors[0]"
   ]
  },
  {
   "cell_type": "code",
   "execution_count": 60,
   "metadata": {},
   "outputs": [
    {
     "data": {
      "text/plain": [
       "array([ 0.10743552,  0.00688361, -0.01176742,  0.06690355,  0.00213174,\n",
       "        0.08185125,  0.07746088,  0.06464288,  0.03653611,  0.07123163,\n",
       "        0.04168778, -0.00503641, -0.07382714,  0.03388285, -0.0475635 ])"
      ]
     },
     "execution_count": 60,
     "metadata": {},
     "output_type": "execute_result"
    }
   ],
   "source": [
    "errors[np.argmin(error_mags)]"
   ]
  },
  {
   "cell_type": "code",
   "execution_count": 81,
   "metadata": {},
   "outputs": [],
   "source": [
    "from sklearn.model_selection import cross_val_score\n",
    "\n",
    "def cv_model(model_class, A_train, b_train):\n",
    "    model = model_class()\n",
    "    scores = cross_val_score(model, A_train, b_train, scoring=\"neg_mean_squared_error\", cv=10)\n",
    "    return scores"
   ]
  },
  {
   "cell_type": "code",
   "execution_count": 82,
   "metadata": {
    "scrolled": true
   },
   "outputs": [
    {
     "name": "stderr",
     "output_type": "stream",
     "text": [
      "/home/ayush/miniconda3/envs/scan/lib/python3.8/site-packages/sklearn/linear_model/_coordinate_descent.py:474: ConvergenceWarning:\n",
      "\n",
      "Objective did not converge. You might want to increase the number of iterations. Duality gap: 0.057522160407259326, tolerance: 0.00016677164530139166\n",
      "\n",
      "/home/ayush/miniconda3/envs/scan/lib/python3.8/site-packages/sklearn/linear_model/_coordinate_descent.py:474: ConvergenceWarning:\n",
      "\n",
      "Objective did not converge. You might want to increase the number of iterations. Duality gap: 0.3111694001317977, tolerance: 0.00020042044486602096\n",
      "\n",
      "/home/ayush/miniconda3/envs/scan/lib/python3.8/site-packages/sklearn/linear_model/_coordinate_descent.py:474: ConvergenceWarning:\n",
      "\n",
      "Objective did not converge. You might want to increase the number of iterations. Duality gap: 0.010154234347097946, tolerance: 0.00015125032485299324\n",
      "\n",
      "/home/ayush/miniconda3/envs/scan/lib/python3.8/site-packages/sklearn/linear_model/_coordinate_descent.py:474: ConvergenceWarning:\n",
      "\n",
      "Objective did not converge. You might want to increase the number of iterations. Duality gap: 0.13336363308863397, tolerance: 0.0001981408358410968\n",
      "\n",
      "/home/ayush/miniconda3/envs/scan/lib/python3.8/site-packages/sklearn/linear_model/_coordinate_descent.py:474: ConvergenceWarning:\n",
      "\n",
      "Objective did not converge. You might want to increase the number of iterations. Duality gap: 0.1399934698971812, tolerance: 0.0002016312831230749\n",
      "\n",
      "/home/ayush/miniconda3/envs/scan/lib/python3.8/site-packages/sklearn/linear_model/_coordinate_descent.py:474: ConvergenceWarning:\n",
      "\n",
      "Objective did not converge. You might want to increase the number of iterations. Duality gap: 0.14225850627088754, tolerance: 0.00017261140682778216\n",
      "\n",
      "/home/ayush/miniconda3/envs/scan/lib/python3.8/site-packages/sklearn/linear_model/_coordinate_descent.py:474: ConvergenceWarning:\n",
      "\n",
      "Objective did not converge. You might want to increase the number of iterations. Duality gap: 0.15513312310254634, tolerance: 0.0001999735672567192\n",
      "\n",
      "/home/ayush/miniconda3/envs/scan/lib/python3.8/site-packages/sklearn/linear_model/_coordinate_descent.py:474: ConvergenceWarning:\n",
      "\n",
      "Objective did not converge. You might want to increase the number of iterations. Duality gap: 0.006904623962646239, tolerance: 0.00019031646311433196\n",
      "\n"
     ]
    }
   ],
   "source": [
    "cv_scores = [cv_model(m, A_train, b_train) for m in model_classes]"
   ]
  },
  {
   "cell_type": "code",
   "execution_count": 85,
   "metadata": {},
   "outputs": [
    {
     "name": "stdout",
     "output_type": "stream",
     "text": [
      "[array([-2.29124278e-01, -8.51802055e-02, -6.12028482e-01, -4.38797141e+00,\n",
      "       -1.06978542e-02, -5.56972888e-02, -8.93289617e+01, -2.01623229e+02,\n",
      "       -2.19818550e+04, -7.35198569e+01]),\n",
      " array([-0.02849838, -0.01679032, -0.04081036, -0.01656484, -0.00103807,\n",
      "       -0.0217839 , -0.03876498, -0.02379816, -0.00135817, -0.05674981]),\n",
      " array([-0.04595782, -0.0463243 , -0.01084404, -0.00130096, -0.00818151,\n",
      "       -0.02530844, -0.04110782, -0.01227159, -0.018435  , -0.01727002]),\n",
      " array([-0.03130842, -0.04074992, -0.02527744, -0.00165888, -0.00062793,\n",
      "       -0.01346282, -0.01133002, -0.00802858, -0.00114401, -0.01369727]),\n",
      " array([-0.03650811, -0.04511214, -0.02628036, -0.00211183, -0.00066754,\n",
      "       -0.0192967 , -0.01324533, -0.00432278, -0.00206181, -0.01250517])]\n"
     ]
    }
   ],
   "source": [
    "pprint(cv_scores)"
   ]
  },
  {
   "cell_type": "code",
   "execution_count": 86,
   "metadata": {},
   "outputs": [
    {
     "data": {
      "text/plain": [
       "[21983.084515059265,\n",
       " 0.09381380344532965,\n",
       " 0.08696752457839067,\n",
       " 0.062015052364730205,\n",
       " 0.06921436642148075]"
      ]
     },
     "execution_count": 86,
     "metadata": {},
     "output_type": "execute_result"
    }
   ],
   "source": [
    "[np.linalg.norm(cv) for cv in cv_scores]"
   ]
  },
  {
   "cell_type": "code",
   "execution_count": 88,
   "metadata": {},
   "outputs": [
    {
     "data": {
      "text/plain": [
       "GridSearchCV(cv=10, error_score=nan,\n",
       "             estimator=RandomForestRegressor(bootstrap=True, ccp_alpha=0.0,\n",
       "                                             criterion='mse', max_depth=None,\n",
       "                                             max_features='auto',\n",
       "                                             max_leaf_nodes=None,\n",
       "                                             max_samples=None,\n",
       "                                             min_impurity_decrease=0.0,\n",
       "                                             min_impurity_split=None,\n",
       "                                             min_samples_leaf=1,\n",
       "                                             min_samples_split=2,\n",
       "                                             min_weight_fraction_leaf=0.0,\n",
       "                                             n_estimators=100, n_jobs=None,\n",
       "                                             oob_score=False, random_state=None,\n",
       "                                             verbose=0, warm_start=False),\n",
       "             iid='deprecated', n_jobs=None,\n",
       "             param_grid={'max_depth': [2, 4, 6, 8, 100, None],\n",
       "                         'n_estimators': [10, 50, 100, 500, 1000],\n",
       "                         'warm_start': [False, True]},\n",
       "             pre_dispatch='2*n_jobs', refit=True, return_train_score=False,\n",
       "             scoring='neg_mean_squared_error', verbose=0)"
      ]
     },
     "execution_count": 88,
     "metadata": {},
     "output_type": "execute_result"
    }
   ],
   "source": [
    "from sklearn.model_selection import GridSearchCV\n",
    "\n",
    "param_grid = {'n_estimators': [10, 100, 1000], \n",
    "              'max_depth': [2, 8, 100, None], \n",
    "              'warm_start': [False, True]}\n",
    "\n",
    "forest_reg = RandomForestRegressor()\n",
    "grid_search = GridSearchCV(forest_reg, param_grid, cv=10, scoring='neg_mean_squared_error')\n",
    "grid_search.fit(A_train, b_train)"
   ]
  },
  {
   "cell_type": "code",
   "execution_count": 89,
   "metadata": {},
   "outputs": [
    {
     "data": {
      "text/plain": [
       "{'max_depth': 8, 'n_estimators': 10, 'warm_start': False}"
      ]
     },
     "execution_count": 89,
     "metadata": {},
     "output_type": "execute_result"
    }
   ],
   "source": [
    "grid_search.best_params_"
   ]
  },
  {
   "cell_type": "code",
   "execution_count": 91,
   "metadata": {},
   "outputs": [],
   "source": [
    "optimized_forest = RandomForestRegressor(max_depth=8, n_estimators=10, warm_start=False)"
   ]
  },
  {
   "cell_type": "code",
   "execution_count": 92,
   "metadata": {},
   "outputs": [
    {
     "data": {
      "text/plain": [
       "RandomForestRegressor(bootstrap=True, ccp_alpha=0.0, criterion='mse',\n",
       "                      max_depth=8, max_features='auto', max_leaf_nodes=None,\n",
       "                      max_samples=None, min_impurity_decrease=0.0,\n",
       "                      min_impurity_split=None, min_samples_leaf=1,\n",
       "                      min_samples_split=2, min_weight_fraction_leaf=0.0,\n",
       "                      n_estimators=10, n_jobs=None, oob_score=False,\n",
       "                      random_state=None, verbose=0, warm_start=False)"
      ]
     },
     "execution_count": 92,
     "metadata": {},
     "output_type": "execute_result"
    }
   ],
   "source": [
    "optimized_forest.fit(A_train, b_train)"
   ]
  },
  {
   "cell_type": "code",
   "execution_count": 94,
   "metadata": {},
   "outputs": [],
   "source": [
    "prediction = optimized_forest.predict(A_test)"
   ]
  },
  {
   "cell_type": "code",
   "execution_count": 96,
   "metadata": {},
   "outputs": [
    {
     "name": "stdout",
     "output_type": "stream",
     "text": [
      "-0.033413364597006626 \t 0.06713100550825112\n",
      "-0.05183593046564722 \t -0.044554937833480544\n",
      "-0.08429187538609459 \t -0.043237167516557116\n",
      "-0.03282923660783461 \t -0.014326237891662895\n",
      "-0.17298101616548128 \t -0.0432668590247657\n",
      "-0.2149724109906364 \t -0.0792461021764647\n",
      "-0.05191052284759958 \t 0.04772217124716452\n",
      "-0.03813250434145625 \t -0.01251329673282663\n",
      "-0.008536026917955287 \t 0.02814525524853178\n",
      "-0.014931875274887147 \t 0.03682133373718627\n",
      "-0.11879200515430315 \t -0.030642429494516538\n",
      "-0.06251671262592784 \t -0.05287007630079422\n",
      "-0.006192972484670285 \t -0.08149546474387778\n",
      "-0.031706617538706953 \t -0.01837328164108803\n",
      "0.029886892786656162 \t -0.03609441522734562\n"
     ]
    }
   ],
   "source": [
    "for i in range(len(prediction)):\n",
    "    print(prediction[i], '\\t', b_test[i])"
   ]
  },
  {
   "cell_type": "code",
   "execution_count": null,
   "metadata": {},
   "outputs": [],
   "source": []
  }
 ],
 "metadata": {
  "kernelspec": {
   "display_name": "Python (conda: scan)",
   "language": "python",
   "name": "scan"
  },
  "language_info": {
   "codemirror_mode": {
    "name": "ipython",
    "version": 3
   },
   "file_extension": ".py",
   "mimetype": "text/x-python",
   "name": "python",
   "nbconvert_exporter": "python",
   "pygments_lexer": "ipython3",
   "version": "3.8.2"
  }
 },
 "nbformat": 4,
 "nbformat_minor": 4
}
